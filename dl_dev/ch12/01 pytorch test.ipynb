{
 "cells": [
  {
   "cell_type": "code",
   "execution_count": 1,
   "metadata": {},
   "outputs": [
    {
     "name": "stdout",
     "output_type": "stream",
     "text": [
      "GPU 사용 가능 여부: False\n",
      "GPU가 감지되지 않았습니다. CPU를 사용 중입니다.\n"
     ]
    }
   ],
   "source": [
    "import torch\n",
    "\n",
    "\n",
    "# CUDA(GPU) 사용 가능한지 확인 (True: GPU 사용 가능, False: 사용 불가)\n",
    "gpu_available = torch.cuda.is_available()\n",
    "print(f'GPU 사용 가능 여부: {gpu_available}')\n",
    "\n",
    "\n",
    "if gpu_available:\n",
    "    # 사용 가능한 GPU 개수 확인\n",
    "    gpu_count = torch.cuda.device_count()\n",
    "    print(f'사용 가능한 GPU 개수: {gpu_count}')\n",
    "\n",
    "\n",
    "    # GPU 이름과 사양 확인\n",
    "    for gpu_idx in range(gpu_count):\n",
    "        gpu_name = torch.cuda.get_device_name(gpu_idx)\n",
    "        print(f'GPU {gpu_idx}: {gpu_name}')\n",
    "\n",
    "\n",
    "    # 현재 사용 중인 GPU 번호 확인\n",
    "    current_gpu = torch.cuda.current_device()\n",
    "    print(f'현재 사용 중인 GPU 번호: {current_gpu}')\n",
    "\n",
    "\n",
    "else:\n",
    "    print(\"GPU가 감지되지 않았습니다. CPU를 사용 중입니다.\")"
   ]
  },
  {
   "cell_type": "code",
   "execution_count": null,
   "metadata": {},
   "outputs": [],
   "source": []
  }
 ],
 "metadata": {
  "kernelspec": {
   "display_name": "dl_dev",
   "language": "python",
   "name": "python3"
  },
  "language_info": {
   "codemirror_mode": {
    "name": "ipython",
    "version": 3
   },
   "file_extension": ".py",
   "mimetype": "text/x-python",
   "name": "python",
   "nbconvert_exporter": "python",
   "pygments_lexer": "ipython3",
   "version": "3.10.0"
  }
 },
 "nbformat": 4,
 "nbformat_minor": 2
}
