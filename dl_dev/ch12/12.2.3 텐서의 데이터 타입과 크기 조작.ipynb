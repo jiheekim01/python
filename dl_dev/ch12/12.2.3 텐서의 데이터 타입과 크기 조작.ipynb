{
 "cells": [
  {
   "cell_type": "code",
   "execution_count": 1,
   "metadata": {},
   "outputs": [
    {
     "ename": "ModuleNotFoundError",
     "evalue": "No module named 'torch'",
     "output_type": "error",
     "traceback": [
      "\u001b[1;31m---------------------------------------------------------------------------\u001b[0m",
      "\u001b[1;31mModuleNotFoundError\u001b[0m                       Traceback (most recent call last)",
      "Cell \u001b[1;32mIn[1], line 2\u001b[0m\n\u001b[0;32m      1\u001b[0m \u001b[38;5;66;03m# torch.to() : 텐서를 다른 장치나 데이터 타입으로 이동\u001b[39;00m\n\u001b[1;32m----> 2\u001b[0m \u001b[38;5;28;01mimport\u001b[39;00m\u001b[38;5;250m \u001b[39m\u001b[38;5;21;01mtorch\u001b[39;00m\n\u001b[0;32m      4\u001b[0m tensor_\u001b[38;5;241m=\u001b[39mtorch\u001b[38;5;241m.\u001b[39mtensor([\u001b[38;5;241m1\u001b[39m,\u001b[38;5;241m2\u001b[39m,\u001b[38;5;241m3\u001b[39m])\n\u001b[0;32m      5\u001b[0m \u001b[38;5;28mprint\u001b[39m(tensor_) \u001b[38;5;66;03m#dram (주기억 장치)\u001b[39;00m\n",
      "\u001b[1;31mModuleNotFoundError\u001b[0m: No module named 'torch'"
     ]
    }
   ],
   "source": [
    "# torch.to() : 텐서를 다른 장치나 데이터 타입으로 이동\n",
    "import torch\n",
    "\n",
    "tensor_=torch.tensor([1,2,3])\n",
    "print(tensor_) #dram (주기억 장치)\n",
    "tensor_gpu = tensor_.to('cuda') #cpu vram 로 이동 \n",
    "print(tensor_gpu)\n",
    "\n",
    "# 데이터 타입 변경\n",
    "tensor_float=tensor_.to(torch.float32)\n",
    "print(tensor_float)"
   ]
  },
  {
   "cell_type": "code",
   "execution_count": null,
   "metadata": {},
   "outputs": [
    {
     "ename": "NameError",
     "evalue": "name 'torch' is not defined",
     "output_type": "error",
     "traceback": [
      "\u001b[1;31m---------------------------------------------------------------------------\u001b[0m",
      "\u001b[1;31mNameError\u001b[0m                                 Traceback (most recent call last)",
      "Cell \u001b[1;32mIn[3], line 3\u001b[0m\n\u001b[0;32m      1\u001b[0m \u001b[38;5;66;03m# 텐서 크기와 차원 추가 , 삭제 \u001b[39;00m\n\u001b[0;32m      2\u001b[0m \u001b[38;5;66;03m# 전치 : transpose()\u001b[39;00m\n\u001b[1;32m----> 3\u001b[0m t\u001b[38;5;241m=\u001b[39m\u001b[43mtorch\u001b[49m\u001b[38;5;241m.\u001b[39mrand(\u001b[38;5;241m3\u001b[39m,\u001b[38;5;241m5\u001b[39m)\n\u001b[0;32m      4\u001b[0m \u001b[38;5;28mprint\u001b[39m(t)\n\u001b[0;32m      5\u001b[0m \u001b[38;5;66;03m# t_tr=torch.transpose(t,0,1) # \u001b[39;00m\n",
      "\u001b[1;31mNameError\u001b[0m: name 'torch' is not defined"
     ]
    }
   ],
   "source": [
    "# 텐서 크기와 차원 추가 , 삭제 \n",
    "# 전치 : transpose()\n",
    "t=torch.rand(3,5)\n",
    "print(t)\n",
    "# t_tr=torch.transpose(t,0,1) # \n",
    "t_tr=t.transpose(0,1)\n",
    "print(t.shape ,'->', t_tr.shape)\n"
   ]
  },
  {
   "cell_type": "code",
   "execution_count": null,
   "metadata": {},
   "outputs": [
    {
     "ename": "NameError",
     "evalue": "name 'torch' is not defined",
     "output_type": "error",
     "traceback": [
      "\u001b[1;31m---------------------------------------------------------------------------\u001b[0m",
      "\u001b[1;31mNameError\u001b[0m                                 Traceback (most recent call last)",
      "Cell \u001b[1;32mIn[4], line 2\u001b[0m\n\u001b[0;32m      1\u001b[0m \u001b[38;5;66;03m# 탠서 크기 변경 : reshape\u001b[39;00m\n\u001b[1;32m----> 2\u001b[0m t\u001b[38;5;241m=\u001b[39m\u001b[43mtorch\u001b[49m\u001b[38;5;241m.\u001b[39mzeros(\u001b[38;5;241m30\u001b[39m) \u001b[38;5;66;03m#1차원 : 10\u001b[39;00m\n\u001b[0;32m      3\u001b[0m \u001b[38;5;28mprint\u001b[39m(t)\n\u001b[0;32m      4\u001b[0m \u001b[38;5;66;03m# 2차원 변경 : 5,6\u001b[39;00m\n",
      "\u001b[1;31mNameError\u001b[0m: name 'torch' is not defined"
     ]
    }
   ],
   "source": [
    "# 탠서 크기 변경 : reshape\n",
    "t=torch.zeros(30) #1차원 : 10\n",
    "print(t)\n",
    "# 2차원 변경 : 5,6\n",
    "t_reshape=t.reshape(5,6)\n",
    "print(t_reshape.shape)"
   ]
  },
  {
   "cell_type": "code",
   "execution_count": null,
   "metadata": {},
   "outputs": [],
   "source": [
    "# 불필요한 차원삭재 : wqueeze \n",
    "t=torch.zeros(1,2,1,4,1) #5차원\n",
    "print(t.shape)\n",
    "t_sqz=t.squeeze(2)\n",
    "print(t_sqz.shape)"
   ]
  },
  {
   "cell_type": "code",
   "execution_count": null,
   "metadata": {},
   "outputs": [],
   "source": [
    "#차원 추가 : unsqueeze\n",
    "import numpy as np\n",
    "t=torch.tensor([1,2,3])\n",
    "print(t.shape) \n",
    "print(t)\n",
    "\n",
    "# 차원추가 \n",
    "u_t=t.unsqueeze(0) #0번째 차원 추가\n",
    "print(u_t.shape) #2차원 된다 \n",
    "print(u_t)\n",
    "\n",
    "\n",
    "t_n=np.array([1,2,3])\n",
    "print(t_n.shape)"
   ]
  },
  {
   "cell_type": "code",
   "execution_count": null,
   "metadata": {},
   "outputs": [
    {
     "name": "stdout",
     "output_type": "stream",
     "text": [
      "tensor([[ 0.5153, -0.4414],\n",
      "        [-0.1939,  0.4694],\n",
      "        [-0.9414,  0.5997],\n",
      "        [-0.2057,  0.5087],\n",
      "        [ 0.1390, -0.1224]])\n",
      "tensor([[ 0.8590,  0.7056],\n",
      "        [-0.3406, -1.2720],\n",
      "        [-1.1948,  0.0250],\n",
      "        [-0.7627,  1.3969],\n",
      "        [-0.3245,  0.2879]])\n",
      "tensor([[ 0.8590,  0.7056],\n",
      "        [-0.3406, -1.2720],\n",
      "        [-1.1948,  0.0250],\n",
      "        [-0.7627,  1.3969],\n",
      "        [-0.3245,  0.2879]])\n"
     ]
    }
   ],
   "source": [
    "# element -wise : 원소별 곱셈 \n",
    "# 원소별 곱셈\n",
    "torch.manual_seed(1)\n",
    "t1=2*torch.rand(5,2)-1\n",
    "print(t1)\n",
    "t2=torch.normal(mean=0, std=1, size=(5,2))\n",
    "print(t2)\n",
    "t3=torch.multiply(t1,t2)\n",
    "print(t2)"
   ]
  },
  {
   "cell_type": "code",
   "execution_count": null,
   "metadata": {},
   "outputs": [
    {
     "name": "stdout",
     "output_type": "stream",
     "text": [
      "tensor([[ 0.5153, -0.4414],\n",
      "        [-0.1939,  0.4694],\n",
      "        [-0.9414,  0.5997],\n",
      "        [-0.2057,  0.5087],\n",
      "        [ 0.1390, -0.1224]])\n",
      "tensor([ 0.0369,  0.1378, -0.1709,  0.1515,  0.0083])\n"
     ]
    }
   ],
   "source": [
    "print(t1)\n",
    "# print(torch.mean(t1,axis=0)) #위에서 아래로 평균을 구하라\n",
    "print(torch.mean(t1,axis=1)) #왼쪽에서 오른쪽으로 평균을 구하라\n"
   ]
  },
  {
   "cell_type": "code",
   "execution_count": null,
   "metadata": {},
   "outputs": [
    {
     "name": "stdout",
     "output_type": "stream",
     "text": [
      "tensor([-2.8246,  3.7193])\n"
     ]
    }
   ],
   "source": [
    "# 행렬 곱 : dot product (내적)\n",
    "tt=torch.tensor([1,2,3,4,5]).to(torch.float32)\n",
    "# t5 = torch.matmul(tt, torch.transpose(t1,0,1))\n",
    "t5 = torch.matmul(tt, t1) #tt : 데이터, t1 : w\n",
    "print(t5)"
   ]
  },
  {
   "cell_type": "code",
   "execution_count": null,
   "metadata": {},
   "outputs": [
    {
     "ename": "NameError",
     "evalue": "name 't1' is not defined",
     "output_type": "error",
     "traceback": [
      "\u001b[1;31m---------------------------------------------------------------------------\u001b[0m",
      "\u001b[1;31mNameError\u001b[0m                                 Traceback (most recent call last)",
      "Cell \u001b[1;32mIn[1], line 2\u001b[0m\n\u001b[0;32m      1\u001b[0m \u001b[38;5;66;03m# 텐서의 노즐 연산 : 텐서의 크기 (길이 ) 계산\u001b[39;00m\n\u001b[1;32m----> 2\u001b[0m \u001b[38;5;28mprint\u001b[39m(\u001b[43mt1\u001b[49m)\n\u001b[0;32m      3\u001b[0m norm_t1\u001b[38;5;241m=\u001b[39mtorch\u001b[38;5;241m.\u001b[39mlinalg\u001b[38;5;241m.\u001b[39mnorm(t1, \u001b[38;5;28mord\u001b[39m\u001b[38;5;241m=\u001b[39m\u001b[38;5;241m2\u001b[39m, dim\u001b[38;5;241m=\u001b[39m\u001b[38;5;241m1\u001b[39m)\n\u001b[0;32m      4\u001b[0m \u001b[38;5;28mprint\u001b[39m(norm_t1)\n",
      "\u001b[1;31mNameError\u001b[0m: name 't1' is not defined"
     ]
    }
   ],
   "source": [
    "# 텐서의 노즐 연산 : 텐서의 크기 (길이 ) 계산\n",
    "print(t1)\n",
    "norm_t1=torch.linalg.norm(t1, ord=2, dim=1) #ord=2 유클리드 노름 \n",
    "print(norm_t1)"
   ]
  },
  {
   "cell_type": "code",
   "execution_count": 3,
   "metadata": {},
   "outputs": [
    {
     "ename": "NameError",
     "evalue": "name 'torch' is not defined",
     "output_type": "error",
     "traceback": [
      "\u001b[1;31m---------------------------------------------------------------------------\u001b[0m",
      "\u001b[1;31mNameError\u001b[0m                                 Traceback (most recent call last)",
      "Cell \u001b[1;32mIn[3], line 3\u001b[0m\n\u001b[0;32m      1\u001b[0m \u001b[38;5;66;03m# 텐서를 나누고, 쌓거나 연결하는 함수 \u001b[39;00m\n\u001b[0;32m      2\u001b[0m \u001b[38;5;66;03m# chunk(): 텐서 특정 개수로 나누기\u001b[39;00m\n\u001b[1;32m----> 3\u001b[0m \u001b[43mtorch\u001b[49m\u001b[38;5;241m.\u001b[39mmanual_seed(\u001b[38;5;241m1\u001b[39m)\n\u001b[0;32m      5\u001b[0m \u001b[38;5;66;03m# 난수 생성 6개\u001b[39;00m\n\u001b[0;32m      6\u001b[0m t\u001b[38;5;241m=\u001b[39mtorch\u001b[38;5;241m.\u001b[39mrand(\u001b[38;5;241m6\u001b[39m)\n",
      "\u001b[1;31mNameError\u001b[0m: name 'torch' is not defined"
     ]
    }
   ],
   "source": [
    "# 텐서를 나누고, 쌓거나 연결하는 함수 \n",
    "# chunk(): 텐서 특정 개수로 나누기\n",
    "torch.manual_seed(1)\n",
    "\n",
    "# 난수 생성 6개\n",
    "t=torch.rand(6)\n",
    "print(t)\n",
    "# 특정개수 3개로 나누기 \n",
    "t_c=torch.chunk(t, 3)\n",
    "print(t_c)\n"
   ]
  },
  {
   "cell_type": "code",
   "execution_count": 4,
   "metadata": {},
   "outputs": [
    {
     "ename": "NameError",
     "evalue": "name 'torch' is not defined",
     "output_type": "error",
     "traceback": [
      "\u001b[1;31m---------------------------------------------------------------------------\u001b[0m",
      "\u001b[1;31mNameError\u001b[0m                                 Traceback (most recent call last)",
      "Cell \u001b[1;32mIn[4], line 2\u001b[0m\n\u001b[0;32m      1\u001b[0m \u001b[38;5;66;03m# split(): 텐서 튻정 크기로 나누기: reshape과 비슷하다 \u001b[39;00m\n\u001b[1;32m----> 2\u001b[0m \u001b[43mtorch\u001b[49m\u001b[38;5;241m.\u001b[39mmanual_seed(\u001b[38;5;241m1\u001b[39m)\n\u001b[0;32m      3\u001b[0m t\u001b[38;5;241m=\u001b[39mtorch\u001b[38;5;241m.\u001b[39mrand(\u001b[38;5;241m5\u001b[39m)\n\u001b[0;32m      4\u001b[0m \u001b[38;5;28mprint\u001b[39m(t)\n",
      "\u001b[1;31mNameError\u001b[0m: name 'torch' is not defined"
     ]
    }
   ],
   "source": [
    "# split(): 텐서 튻정 크기로 나누기: reshape과 비슷하다 \n",
    "torch.manual_seed(1)\n",
    "t=torch.rand(5)\n",
    "print(t)\n",
    "t_s=torch.split(t, split_size_or_sections=[2,3])\n",
    "print(t_s)\n"
   ]
  },
  {
   "cell_type": "code",
   "execution_count": null,
   "metadata": {},
   "outputs": [],
   "source": [
    "tensor_=torch.arange(10)\n",
    "print(tensor_)\n",
    "splits=torch.split(tensor_,4)\n",
    "print(splits)"
   ]
  },
  {
   "cell_type": "code",
   "execution_count": 5,
   "metadata": {},
   "outputs": [
    {
     "ename": "NameError",
     "evalue": "name 'torch' is not defined",
     "output_type": "error",
     "traceback": [
      "\u001b[1;31m---------------------------------------------------------------------------\u001b[0m",
      "\u001b[1;31mNameError\u001b[0m                                 Traceback (most recent call last)",
      "Cell \u001b[1;32mIn[5], line 2\u001b[0m\n\u001b[0;32m      1\u001b[0m \u001b[38;5;66;03m# 텐서 연결 : cat()\u001b[39;00m\n\u001b[1;32m----> 2\u001b[0m A\u001b[38;5;241m=\u001b[39m\u001b[43mtorch\u001b[49m\u001b[38;5;241m.\u001b[39mones(\u001b[38;5;241m3\u001b[39m)\n\u001b[0;32m      3\u001b[0m \u001b[38;5;28mprint\u001b[39m(a)\n\u001b[0;32m      4\u001b[0m B\u001b[38;5;241m=\u001b[39mtorch\u001b[38;5;241m.\u001b[39mzeros(\u001b[38;5;241m2\u001b[39m)\n",
      "\u001b[1;31mNameError\u001b[0m: name 'torch' is not defined"
     ]
    }
   ],
   "source": [
    "# 텐서 연결 : cat()\n",
    "A=torch.ones(3)\n",
    "print(a)\n",
    "B=torch.zeros(2)\n",
    "print(b)\n",
    "\n",
    "# 연결 \n",
    "c=torch.cat([a,b], axis=0)\n",
    "print(c)"
   ]
  },
  {
   "cell_type": "code",
   "execution_count": null,
   "metadata": {},
   "outputs": [],
   "source": [
    " # 텐서 쌓기 : stack()\n",
    "a=torch.ones(3)\n",
    "b=torch.zeros(3)\n",
    "c=torch.stack([a,b],axis=0)\n",
    "s1=torch.stack([a,b], axis=1)\n",
    "print(s1)\n",
    "print(s)\n"
   ]
  },
  {
   "cell_type": "code",
   "execution_count": null,
   "metadata": {},
   "outputs": [],
   "source": [
    "# 이미지 "
   ]
  }
 ],
 "metadata": {
  "kernelspec": {
   "display_name": "dataproc",
   "language": "python",
   "name": "python3"
  },
  "language_info": {
   "codemirror_mode": {
    "name": "ipython",
    "version": 3
   },
   "file_extension": ".py",
   "mimetype": "text/x-python",
   "name": "python",
   "nbconvert_exporter": "python",
   "pygments_lexer": "ipython3",
   "version": "3.10.16"
  }
 },
 "nbformat": 4,
 "nbformat_minor": 2
}
