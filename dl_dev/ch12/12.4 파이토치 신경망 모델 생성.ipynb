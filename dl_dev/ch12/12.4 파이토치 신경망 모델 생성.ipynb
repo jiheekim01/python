{
 "cells": [
  {
   "cell_type": "code",
   "execution_count": 1,
   "metadata": {},
   "outputs": [],
   "source": [
    "import torch\n",
    "# 넘파이 버전 : 1.24 보다 작아야 한다 , 토치 버전 : 2.1.1+cu118\n",
    "# 넘파이 버전 1.23.5\n",
    "import numpy as np \n",
    "import matplotlib.pyplot as plt\n",
    "import warnings\n",
    "warnings.filterwarnings('ignore')"
   ]
  },
  {
   "cell_type": "code",
   "execution_count": 2,
   "metadata": {},
   "outputs": [
    {
     "name": "stdout",
     "output_type": "stream",
     "text": [
      "1.23.5\n",
      "2.1.1+cpu\n"
     ]
    }
   ],
   "source": [
    "print(np.__version__)\n",
    "print(torch.__version__)"
   ]
  },
  {
   "cell_type": "code",
   "execution_count": 3,
   "metadata": {},
   "outputs": [
    {
     "name": "stdout",
     "output_type": "stream",
     "text": [
      "[0. 1. 2. 3. 4. 5. 6. 7. 8. 9.] float32 (10,) 1\n",
      "[[0.]\n",
      " [1.]\n",
      " [2.]\n",
      " [3.]\n",
      " [4.]\n",
      " [5.]\n",
      " [6.]\n",
      " [7.]\n",
      " [8.]\n",
      " [9.]] float32 (10, 1) 2\n"
     ]
    }
   ],
   "source": [
    "# 학습에 사용할 데이터 생성\n",
    "X_train=np.arange(10, dtype='float32')\n",
    "print(X_train, X_train.dtype, X_train.shape, X_train.ndim)\n",
    "X_train=np.arange(10, dtype='float32').reshape([10,1])\n",
    "print(X_train, X_train.dtype, X_train.shape, X_train.ndim)"
   ]
  },
  {
   "cell_type": "code",
   "execution_count": 4,
   "metadata": {},
   "outputs": [
    {
     "name": "stdout",
     "output_type": "stream",
     "text": [
      "float32\n"
     ]
    }
   ],
   "source": [
    "# 레이블 생성\n",
    "y_train=np.array([1.0,1.3,3.1,2.0,5.0,6.3,6.6,7.4,8.0,9.0], dtype='float32')\n",
    "print(y_train.dtype)"
   ]
  },
  {
   "cell_type": "code",
   "execution_count": 5,
   "metadata": {},
   "outputs": [
    {
     "data": {
      "image/png": "[encoded data removed]",
      "text/plain": [
       "<Figure size 640x480 with 1 Axes>"
      ]
     },
     "metadata": {},
     "output_type": "display_data"
    }
   ],
   "source": [
    "# 시각화 \n",
    "plt.plot(\n",
    "    X_train,\n",
    "    y_train,\n",
    "    'o',\n",
    "    markersize=10\n",
    ")\n",
    "plt.xlabel('data:X')\n",
    "plt.ylabel('label:y')\n",
    "plt.show()"
   ]
  },
  {
   "cell_type": "code",
   "execution_count": null,
   "metadata": {},
   "outputs": [],
   "source": [
    "# 1. 데이터 정규화 진행 : StandardScaler, 코드 진행\n",
    "# 2. Dataset : data + label \n",
    "# 3. DataLoader : 1개씩 모델에 들어가게 해야 한다\n",
    "from torch.utils.data import TensorDataset\n",
    "from torch.utils.data import DataLoader\n",
    "\n",
    "# 데이터를 정규화 : ndarray\n",
    "X_train_norm=(X_train-np.mean(X_train))/np.std(X_train) \n",
    "# 테이터를 텐서로 변환\n",
    "X_train_norm=torch.from_numpy(X_train_norm)\n",
    "\n",
    "# 레이블 텐선 변환\n",
    "y_train=torch.from_numpy(y_train).float()\n",
    "\n",
    "# 데이터셋 생성 : 데이터와 레이블 묶은것\n",
    "trian_ds=TensorDataset(X_train_norm, y_train)\n",
    "\n",
    "# DataLoader 생성 : 배치사이즈, 셔플\n",
    "batch_size=1\n",
    "\n",
    "train_dl=DataLoader(trian_ds, batch_size=batch_size, shuffle=True)\n"
   ]
  },
  {
   "cell_type": "code",
   "execution_count": null,
   "metadata": {},
   "outputs": [],
   "source": [
    "# 신경망 구성\n",
    "# 수동으로 신경망 구성\n",
    "# 가중치 1개 선언 : 임의값으로 초기화\n",
    "torch.manual_seed(1)\n",
    "weight=torch.randn(1)\n",
    "weight.requires_grad_() # 아주 중요, 가중치를 미분가능하게 만든것이다\n",
    "# 바이어스 1개 선언 : 0으로 초기화\n",
    "bias=torch.zeros(1, requires_grad=True)\n",
    "\n",
    "# 오차(손실)함수 정의 : 회귀의 오차함수=> MSE, MAE, RMSE, RMSLE\n",
    "def loss_fn(input, target): # input : y^, target : real value\n",
    "    return (input-target).pow(2).mean() # MSE\n",
    "\n",
    "# 모델 정의\n",
    "def model(x_batch):\n",
    "    return x_batch @ weight + bias # 내적의 결과값은 스칼라(단일값) : 유자도 의미\n"
   ]
  },
  {
   "cell_type": "code",
   "execution_count": 8,
   "metadata": {},
   "outputs": [
    {
     "name": "stdout",
     "output_type": "stream",
     "text": [
      "에포크 : 0, 손실 :46.420670\n",
      "에포크 : 10, 손실 :36.847397\n",
      "에포크 : 20, 손실 :4.019924\n",
      "에포크 : 30, 손실 :45.545486\n",
      "에포크 : 40, 손실 :53.658543\n",
      "에포크 : 50, 손실 :38.091248\n",
      "에포크 : 60, 손실 :3.365927\n",
      "에포크 : 70, 손실 :47.420197\n",
      "에포크 : 80, 손실 :19.588232\n",
      "에포크 : 90, 손실 :3.040049\n",
      "에포크 : 100, 손실 :41.897514\n",
      "에포크 : 110, 손실 :17.617043\n",
      "에포크 : 120, 손실 :2.477751\n",
      "에포크 : 130, 손실 :8.651769\n",
      "에포크 : 140, 손실 :35.507755\n",
      "에포크 : 150, 손실 :1.764944\n",
      "에포크 : 160, 손실 :26.438332\n",
      "에포크 : 170, 손실 :23.721292\n",
      "에포크 : 180, 손실 :22.804956\n",
      "에포크 : 190, 손실 :28.853796\n",
      "에포크 : 200, 손실 :18.118477\n",
      "에포크 : 210, 손실 :20.264448\n",
      "에포크 : 220, 손실 :1.978018\n",
      "에포크 : 230, 손실 :17.765285\n",
      "에포크 : 240, 손실 :1.342943\n",
      "에포크 : 250, 손실 :1.273612\n",
      "에포크 : 260, 손실 :10.492305\n",
      "에포크 : 270, 손실 :0.508054\n",
      "에포크 : 280, 손실 :15.897473\n",
      "에포크 : 290, 손실 :15.232430\n",
      "에포크 : 300, 손실 :18.223417\n",
      "에포크 : 310, 손실 :8.872046\n",
      "에포크 : 320, 손실 :0.869622\n",
      "에포크 : 330, 손실 :8.302719\n",
      "에포크 : 340, 손실 :8.033273\n",
      "에포크 : 350, 손실 :0.142251\n",
      "에포크 : 360, 손실 :9.922401\n",
      "에포크 : 370, 손실 :10.816671\n",
      "에포크 : 380, 손실 :0.616285\n",
      "에포크 : 390, 손실 :0.580847\n",
      "에포크 : 400, 손실 :11.948375\n",
      "에포크 : 410, 손실 :3.566495\n",
      "에포크 : 420, 손실 :7.942209\n",
      "에포크 : 430, 손실 :3.361800\n",
      "에포크 : 440, 손실 :8.229938\n",
      "에포크 : 450, 손실 :0.975721\n",
      "에포크 : 460, 손실 :8.864385\n",
      "에포크 : 470, 손실 :6.977545\n",
      "에포크 : 480, 손실 :7.043014\n",
      "에포크 : 490, 손실 :8.135885\n",
      "에포크 : 500, 손실 :0.845623\n",
      "에포크 : 510, 손실 :2.670893\n",
      "에포크 : 520, 손실 :5.590924\n",
      "에포크 : 530, 손실 :7.292790\n",
      "에포크 : 540, 손실 :5.579411\n",
      "에포크 : 550, 손실 :4.939130\n",
      "에포크 : 560, 손실 :6.724970\n",
      "에포크 : 570, 손실 :5.756710\n",
      "에포크 : 580, 손실 :5.511293\n",
      "에포크 : 590, 손실 :0.129728\n",
      "에포크 : 600, 손실 :6.051079\n",
      "에포크 : 610, 손실 :0.165731\n",
      "에포크 : 620, 손실 :0.184787\n",
      "에포크 : 630, 손실 :4.427111\n",
      "에포크 : 640, 손실 :3.249253\n",
      "에포크 : 650, 손실 :3.454861\n",
      "에포크 : 660, 손실 :3.335006\n",
      "에포크 : 670, 손실 :0.076131\n",
      "에포크 : 680, 손실 :2.832837\n",
      "에포크 : 690, 손실 :0.333053\n",
      "에포크 : 700, 손실 :3.011493\n",
      "에포크 : 710, 손실 :1.576944\n",
      "에포크 : 720, 손실 :2.967433\n",
      "에포크 : 730, 손실 :0.463056\n",
      "에포크 : 740, 손실 :2.584400\n",
      "에포크 : 750, 손실 :0.473207\n",
      "에포크 : 760, 손실 :2.477243\n",
      "에포크 : 770, 손실 :2.367208\n",
      "에포크 : 780, 손실 :1.334531\n",
      "에포크 : 790, 손실 :2.160773\n",
      "에포크 : 800, 손실 :0.593817\n",
      "에포크 : 810, 손실 :1.980250\n",
      "에포크 : 820, 손실 :1.882506\n",
      "에포크 : 830, 손실 :0.666486\n",
      "에포크 : 840, 손실 :0.007965\n",
      "에포크 : 850, 손실 :1.637962\n",
      "에포크 : 860, 손실 :1.639198\n",
      "에포크 : 870, 손실 :0.336983\n",
      "에포크 : 880, 손실 :0.329908\n",
      "에포크 : 890, 손실 :3.080822\n",
      "에포크 : 900, 손실 :1.410267\n",
      "에포크 : 910, 손실 :0.857235\n",
      "에포크 : 920, 손실 :0.835990\n",
      "에포크 : 930, 손실 :0.000177\n",
      "에포크 : 940, 손실 :1.449263\n",
      "에포크 : 950, 손실 :0.926173\n",
      "에포크 : 960, 손실 :0.970921\n",
      "에포크 : 970, 손실 :0.994444\n",
      "에포크 : 980, 손실 :1.322106\n",
      "에포크 : 990, 손실 :1.098996\n"
     ]
    }
   ],
   "source": [
    "# 학습하는 코딩\n",
    "# W := W - ^ * ^W\n",
    "# 학습에 필요한 파라미터 설정\n",
    "# 학습율 : learning_rate\n",
    "learning_rate=0.0001\n",
    "# 에포크 : 전체 데이터 몇번 반복해서 사용할 것인지\n",
    "num_epochs=1000\n",
    "# 몇번마다 손실(오차)을 출력한 것이지? 지정\n",
    "loss_epochs=10\n",
    "\n",
    "# 학습 : 데이터와 레이블을 넣어서 학습\n",
    "for epoch in range(num_epochs): # 200반복\n",
    "    # 데이터 추출(train_dl)해서 모델 넣어야 한다.\n",
    "    for x_batch, y_batch in train_dl: # x_batch : 데이터, y_batch : 레이블\n",
    "        pred=model(x_batch)\n",
    "        loss=loss_fn(pred,y_batch) \n",
    "        loss.backward() # 오차 역전파\n",
    "        \n",
    "        # 추론 : 뉴데이터 넣어서 예측값을 추출 : 계산그래프X, 가중치값을 저장 X\n",
    "        with torch.no_grad(): # 가중치 값들을 구하기 => 출력\n",
    "            weight -= weight.grad * learning_rate\n",
    "            bias -= bias.grad * learning_rate\n",
    "            weight.grad.zero_()\n",
    "            bias.grad.zero_()\n",
    "    # 에포크 10의 배수마다 오차를 출력\n",
    "    if epoch % loss_epochs == 0:\n",
    "        print(f'에포크 : {epoch}, 손실 :{loss.item():4f}')\n",
    "        \n",
    "        "
   ]
  },
  {
   "cell_type": "code",
   "execution_count": 9,
   "metadata": {},
   "outputs": [
    {
     "name": "stdout",
     "output_type": "stream",
     "text": [
      "최종 파라미터(가중치) : 2.430217742919922,4.297636032104492\n"
     ]
    }
   ],
   "source": [
    "# 가중치 값 출력\n",
    "print(f'최종 파라미터(가중치) : {weight.item()},{bias.item()}')"
   ]
  },
  {
   "cell_type": "code",
   "execution_count": 10,
   "metadata": {},
   "outputs": [
    {
     "name": "stdout",
     "output_type": "stream",
     "text": [
      "에포크 0  손실 45.0782\n",
      "에포크 10  손실 26.4366\n",
      "에포크 20  손실 1.5918\n",
      "에포크 30  손실 14.1307\n",
      "에포크 40  손실 11.6038\n",
      "에포크 50  손실 6.3084\n",
      "에포크 60  손실 0.6349\n",
      "에포크 70  손실 3.1374\n",
      "에포크 80  손실 1.9999\n",
      "에포크 90  손실 0.3133\n",
      "에포크 100  손실 0.7653\n",
      "에포크 110  손실 1.0039\n",
      "에포크 120  손실 0.0235\n",
      "에포크 130  손실 0.5176\n",
      "에포크 140  손실 0.0759\n",
      "에포크 150  손실 1.8789\n",
      "에포크 160  손실 0.0008\n",
      "에포크 170  손실 0.0866\n",
      "에포크 180  손실 0.0646\n",
      "에포크 190  손실 0.0011\n"
     ]
    }
   ],
   "source": [
    "torch.manual_seed(1)\n",
    "weight = torch.randn(1)\n",
    "weight.requires_grad_()\n",
    "bias = torch.zeros(1, requires_grad=True)\n",
    "\n",
    "def loss_fn(input, target):\n",
    "    return (input-target).pow(2).mean()\n",
    "\n",
    "def model(xb):\n",
    "    return xb @ weight + bias\n",
    "\n",
    "learning_rate = 0.001\n",
    "num_epochs = 200\n",
    "log_epochs = 10\n",
    "\n",
    "for epoch in range(num_epochs):\n",
    "    for x_batch, y_batch in train_dl:\n",
    "        pred = model(x_batch)\n",
    "        loss = loss_fn(pred, y_batch)\n",
    "        loss.backward()\n",
    "\n",
    "        with torch.no_grad():\n",
    "            weight -= weight.grad * learning_rate\n",
    "            bias -= bias.grad * learning_rate\n",
    "            weight.grad.zero_()\n",
    "            bias.grad.zero_()\n",
    "\n",
    "    if epoch % log_epochs==0:\n",
    "        print(f'에포크 {epoch}  손실 {loss.item():.4f}')"
   ]
  },
  {
   "cell_type": "code",
   "execution_count": 11,
   "metadata": {},
   "outputs": [
    {
     "data": {
      "image/png": "[encoded data removed]",
      "text/plain": [
       "<Figure size 1300x500 with 1 Axes>"
      ]
     },
     "metadata": {},
     "output_type": "display_data"
    }
   ],
   "source": [
    "X_test = np.linspace(0, 9, num=100, dtype='float32').reshape(-1, 1)\n",
    "X_test_norm = (X_test - np.mean(X_train)) / np.std(X_train)\n",
    "X_test_norm = torch.from_numpy(X_test_norm)\n",
    "y_pred = model(X_test_norm).detach()  # 계산 그래프에서 텐서를 분리합니다.\n",
    "\n",
    "\n",
    "fig = plt.figure(figsize=(13, 5))\n",
    "ax = fig.add_subplot(1, 2, 1)\n",
    "plt.plot(X_train_norm, y_train, 'o', markersize=10)\n",
    "plt.plot(X_test_norm, y_pred, '--', lw=3)\n",
    "plt.legend(['Training examples', 'Linear Reg.'], fontsize=15)\n",
    "ax.set_xlabel('x', size=15)\n",
    "ax.set_ylabel('y', size=15)\n",
    "ax.tick_params(axis='both', which='major', labelsize=15)\n",
    "\n",
    "#plt.savefig('figures/12_08.pdf')\n",
    "\n",
    "plt.show()"
   ]
  },
  {
   "cell_type": "code",
   "execution_count": 12,
   "metadata": {},
   "outputs": [
    {
     "name": "stdout",
     "output_type": "stream",
     "text": [
      "에포크 : 0, 손실 : 24.6684\n",
      "에포크 : 10, 손실 : 29.1377\n",
      "에포크 : 20, 손실 : 20.9207\n",
      "에포크 : 30, 손실 : 0.1257\n",
      "에포크 : 40, 손실 : 12.4922\n",
      "에포크 : 50, 손실 : 1.7845\n",
      "에포크 : 60, 손실 : 7.6425\n",
      "에포크 : 70, 손실 : 2.5606\n",
      "에포크 : 80, 손실 : 0.0157\n",
      "에포크 : 90, 손실 : 0.7548\n",
      "에포크 : 100, 손실 : 0.8412\n",
      "에포크 : 110, 손실 : 0.4923\n",
      "에포크 : 120, 손실 : 0.0823\n",
      "에포크 : 130, 손실 : 0.0794\n",
      "에포크 : 140, 손실 : 0.0891\n",
      "에포크 : 150, 손실 : 0.0973\n",
      "에포크 : 160, 손실 : 0.1043\n",
      "에포크 : 170, 손실 : 0.1103\n",
      "에포크 : 180, 손실 : 0.0009\n",
      "에포크 : 190, 손실 : 0.0764\n"
     ]
    }
   ],
   "source": [
    "# nn module 사용해서 신경망 구성 학습\n",
    "import torch.nn as nn\n",
    "\n",
    "input_size=1\n",
    "output_size=1\n",
    "\n",
    "# 신경망 구성\n",
    "model=nn.Linear(input_size,output_size)\n",
    "# 손실 함수 정의\n",
    "loss_fn=nn.MSELoss(reduction='mean')\n",
    "# 최적화 : 미분 => 오차 최소가 되는 가중치\n",
    "optimizer=torch.optim.SGD(model.parameters(), lr=learning_rate)\n",
    "\n",
    "for epoch in range(num_epochs): # 1000번 반복\n",
    "    for x_batch, y_batch in train_dl: # 데이터 10개라서 10번 반복\n",
    "        # 1. 예측값 추출\n",
    "        pred=model(x_batch)[:,0]\n",
    "        \n",
    "        # 2. 오차\n",
    "        loss=loss_fn(pred, y_batch)\n",
    "        \n",
    "        # 3. gradient(기울기 구한것이다) 계산\n",
    "        loss.backward()\n",
    "        \n",
    "        # 4. 가중치 업데이트 : 오차가 최소가 되는 가중치 구한다\n",
    "        optimizer.step()\n",
    "        \n",
    "        # 5. 기울기 초기화 : 빠지면 발산, 폭주할 가능성이 있다\n",
    "        # 파이토치 기본적으로 기울기 누적 처리\n",
    "        # 정상 학습이 된다\n",
    "        # 기울기를 초기화 새로 계산하게 만든다\n",
    "        optimizer.zero_grad()\n",
    "    if epoch % loss_epochs==0: # 10배수이면 \n",
    "        print(f'에포크 : {epoch}, 손실 : {loss.item():.4f}')"
   ]
  },
  {
   "cell_type": "code",
   "execution_count": 13,
   "metadata": {},
   "outputs": [
    {
     "name": "stdout",
     "output_type": "stream",
     "text": [
      "최종 파라미터: 2.6496422290802 4.87706995010376\n"
     ]
    },
    {
     "data": {
      "image/png": "[encoded data removed]",
      "text/plain": [
       "<Figure size 1300x500 with 1 Axes>"
      ]
     },
     "metadata": {},
     "output_type": "display_data"
    }
   ],
   "source": [
    "print('최종 파라미터:', model.weight.item(), model.bias.item())\n",
    "\n",
    "X_test = np.linspace(0, 9, num=100, dtype='float32').reshape(-1, 1)\n",
    "X_test_norm = (X_test - np.mean(X_train)) / np.std(X_train)\n",
    "X_test_norm = torch.from_numpy(X_test_norm)\n",
    "y_pred = model(X_test_norm).detach()\n",
    "\n",
    "\n",
    "fig = plt.figure(figsize=(13, 5))\n",
    "ax = fig.add_subplot(1, 2, 1)\n",
    "plt.plot(X_train_norm, y_train, 'o', markersize=10)\n",
    "plt.plot(X_test_norm, y_pred, '--', lw=3)\n",
    "plt.legend(['Training examples', 'Linear reg.'], fontsize=15)\n",
    "ax.set_xlabel('x', size=15)\n",
    "ax.set_ylabel('y', size=15)\n",
    "ax.tick_params(axis='both', which='major', labelsize=15)\n",
    "\n",
    "#plt.savefig('ch12-linreg-2.pdf')\n",
    "\n",
    "plt.show()\n"
   ]
  },
  {
   "cell_type": "code",
   "execution_count": 20,
   "metadata": {},
   "outputs": [
    {
     "name": "stdout",
     "output_type": "stream",
     "text": [
      "<class 'numpy.ndarray'> <class 'numpy.ndarray'>\n"
     ]
    }
   ],
   "source": [
    "# 다중 분류 예제 \n",
    "from sklearn.datasets import load_iris\n",
    "from sklearn.model_selection import train_test_split\n",
    "\n",
    "# 데이터 로딩=> 데이터와 레이블 분리\n",
    "iris=load_iris()\n",
    "\n",
    "X=iris['data']\n",
    "y=iris['target']\n",
    "\n",
    "print(type(X), type(y))\n",
    "\n",
    "# 학습/테스트 데이터 분리\n",
    "X_train, X_test, y_train, y_test=\\\n",
    "    train_test_split(\n",
    "        X,\n",
    "        y,\n",
    "        test_size=1./3,\n",
    "        random_state=1\n",
    "    )"
   ]
  },
  {
   "cell_type": "code",
   "execution_count": 21,
   "metadata": {},
   "outputs": [],
   "source": [
    "# 정규화 처리, 데이터셋, 데이터로더 생성 \n",
    "# 학습할 데이터를 준비\n",
    "from torch.utils.data import TensorDataset, DataLoader\n",
    "\n",
    "# 1. 데이터 정규화 : ndarray\n",
    "X_train_norm=(X_train - np.mean(X_train)) / np.std(X_train)\n",
    "# data tensor\n",
    "X_train_norm=torch.from_numpy(X_train_norm).float()\n",
    "# label tensor\n",
    "y_train=torch.from_numpy(y_train)\n",
    "\n",
    "# 2. 데이터셋 생성\n",
    "train_ds=TensorDataset(X_train_norm, y_train)\n",
    "\n",
    "# 3. DataLoader 생성\n",
    "torch.manual_seed(1)\n",
    "batch_size=2\n",
    "train_dl=DataLoader(train_ds,batch_size=batch_size, shuffle=True)"
   ]
  },
  {
   "cell_type": "code",
   "execution_count": 22,
   "metadata": {},
   "outputs": [],
   "source": [
    "# 다층 신경망 구성 : \n",
    "# input(4)-> 층(hidden:16) -> sigmoid -> 층(hidden:16) -> output(3) ->  softmax\n",
    "class Model(nn.Module):\n",
    "    def __init__(self, input_size, hidden_size, output_size): # 층 정의\n",
    "        super().__init__() # 상위 클래스(Module)를 객체 생성, 초기화\n",
    "        # 첫번째 층 : 입력개수(input_size), 유닛개수(hidden_size)\n",
    "        self.layer1=nn.Linear(input_size, hidden_size)\n",
    "        self.layer2=nn.Linear(hidden_size, output_size)\n",
    "    # def forward(self, x): # x : 데이터\n",
    "    def forward(self, x): # x : 데이터\n",
    "        # x : 층을 통과한 결과값 = self.layer1(x : 입력데이터)   \n",
    "        x=self.layer1(x)  # 선형(직선)\n",
    "        x=nn.Sigmoid()(x) # x값이 0~1 값으로 변경된다, 곡선(비선형)\n",
    "        x=self.layer2(x) # output_size=3 개 나온다\n",
    "        # 위 나온 값을 확률로 변환\n",
    "        x=nn.Softmax(dim=1)(x)\n",
    "        return x\n",
    "        "
   ]
  },
  {
   "cell_type": "code",
   "execution_count": 23,
   "metadata": {},
   "outputs": [],
   "source": [
    "# 피처(열)의 개수\n",
    "input_size=X_train_norm.shape[1]\n",
    "# 유닛의 개수\n",
    "hidden_size=16 # 2**4\n",
    "# 결과값의 개수 : 3개 품종 분류\n",
    "output_size=3\n",
    "\n",
    "# Model object 생성만 한것이다\n",
    "model=Model(input_size, hidden_size, output_size)\n",
    "\n",
    "# 학습률 설정\n",
    "learning_rate=0.001\n",
    "\n",
    "# 손실함수 object 정의 : 다중 분류\n",
    "loss_fn=nn.CrossEntropyLoss()\n",
    "\n",
    "# 미분(오차역전파) 정의\n",
    "# model.parameters() : W\n",
    "optimizer=torch.optim.Adam(model.parameters(), lr=learning_rate)\n",
    "\n"
   ]
  },
  {
   "cell_type": "code",
   "execution_count": 24,
   "metadata": {},
   "outputs": [],
   "source": [
    "# 학습 결과 : 에포크별로 오차, 정확도 저장 => 시각화\n",
    "num_epochs=500\n",
    "# 오차 100개 저장 리스트\n",
    "loss_hist=[0] * num_epochs\n",
    "# 정확도 100개 저장 리스트\n",
    "accuracy_hist=[0] * num_epochs\n",
    "\n",
    "for epoch in range(num_epochs): # 100번 반복\n",
    "    for x_batch, y_batch in train_dl: # 50번 반복 => 전체데이터 : 100, batch_size:2\n",
    "        # 예측값\n",
    "        pred=model(x_batch) # forward() 실행\n",
    "        loss=loss_fn(pred,y_batch.long())\n",
    "        loss.backward()\n",
    "        optimizer.step() # cost min W\n",
    "        optimizer.zero_grad() # 기울기 초기화\n",
    "        \n",
    "        # 에포크별 오차 리스트에 추가\n",
    "        # 배치별 오차 누적\n",
    "        loss_hist[epoch] += loss.item()*y_batch.size(0) # 2곱한것\n",
    "        # 배치별 정확도 누적\n",
    "        is_correct=(torch.argmax(pred,dim=1)==y_batch).float()\n",
    "        accuracy_hist[epoch] += is_correct.sum()\n",
    "    \n",
    "    loss_hist[epoch] /= len(train_dl.dataset)\n",
    "    accuracy_hist[epoch] /= len(train_dl.dataset)\n"
   ]
  },
  {
   "cell_type": "code",
   "execution_count": 25,
   "metadata": {},
   "outputs": [
    {
     "data": {
      "image/png": "[encoded data removed]",
      "text/plain": [
       "<Figure size 1200x500 with 2 Axes>"
      ]
     },
     "metadata": {},
     "output_type": "display_data"
    }
   ],
   "source": [
    "fig = plt.figure(figsize=(12, 5))\n",
    "ax = fig.add_subplot(1, 2, 1)\n",
    "ax.plot(loss_hist, lw=3)\n",
    "ax.set_title('Training loss', size=15)\n",
    "ax.set_xlabel('Epoch', size=15)\n",
    "ax.tick_params(axis='both', which='major', labelsize=15)\n",
    "\n",
    "ax = fig.add_subplot(1, 2, 2)\n",
    "ax.plot(accuracy_hist, lw=3)\n",
    "ax.set_title('Training accuracy', size=15)\n",
    "ax.set_xlabel('Epoch', size=15)\n",
    "ax.tick_params(axis='both', which='major', labelsize=15)\n",
    "plt.tight_layout()\n",
    "\n",
    "#plt.savefig('figures/12_09.pdf')\n",
    "\n",
    "plt.show()"
   ]
  },
  {
   "cell_type": "code",
   "execution_count": 26,
   "metadata": {},
   "outputs": [],
   "source": [
    "# 모델 평가 : 테스트 데이터 => X_test, y_test <= ndarray\n",
    "# 데이터 정규화\n",
    "X_test_norm=(X_test  - np.mean(X_train)) / np.std(X_train)\n",
    "# 텐서 변환\n",
    "X_test_norm_ts=torch.from_numpy(X_test_norm).float()\n",
    "y_test_ts=torch.from_numpy(y_test)\n",
    "\n",
    "# 예측값 추출 : model(X_test_norm)\n",
    "pred_test=model(X_test_norm_ts)"
   ]
  },
  {
   "cell_type": "code",
   "execution_count": 27,
   "metadata": {},
   "outputs": [
    {
     "data": {
      "text/plain": [
       "tensor([[9.9999e-01, 6.1246e-06, 2.9992e-12],\n",
       "        [7.0910e-04, 9.9928e-01, 6.4541e-06],\n",
       "        [1.4405e-06, 9.9839e-01, 1.6040e-03],\n",
       "        [9.9999e-01, 6.4541e-06, 3.2834e-12],\n",
       "        [5.8904e-17, 1.8205e-05, 9.9998e-01],\n",
       "        [1.2387e-07, 9.5761e-01, 4.2393e-02],\n",
       "        [5.8130e-13, 5.5303e-03, 9.9447e-01],\n",
       "        [9.9999e-01, 1.0888e-05, 6.3215e-12],\n",
       "        [9.9999e-01, 1.0203e-05, 5.6351e-12],\n",
       "        [5.3603e-17, 3.3422e-05, 9.9997e-01],\n",
       "        [5.0548e-07, 9.9782e-01, 2.1839e-03],\n",
       "        [9.9999e-01, 8.2927e-06, 4.4960e-12],\n",
       "        [1.0778e-17, 1.5943e-05, 9.9998e-01],\n",
       "        [7.3371e-07, 9.9527e-01, 4.7276e-03],\n",
       "        [9.4449e-08, 9.7700e-01, 2.3004e-02],\n",
       "        [9.9999e-01, 7.3441e-06, 3.8853e-12],\n",
       "        [2.8231e-06, 9.9967e-01, 3.2437e-04],\n",
       "        [6.9791e-08, 9.6611e-01, 3.3886e-02],\n",
       "        [9.9999e-01, 9.1149e-06, 4.8480e-12],\n",
       "        [9.9999e-01, 7.1544e-06, 3.6398e-12],\n",
       "        [9.6112e-08, 9.8968e-01, 1.0319e-02],\n",
       "        [4.6848e-08, 9.5178e-01, 4.8222e-02],\n",
       "        [9.8710e-10, 3.0907e-01, 6.9093e-01],\n",
       "        [9.9999e-01, 6.9415e-06, 3.5824e-12],\n",
       "        [2.3471e-16, 6.9076e-05, 9.9993e-01],\n",
       "        [1.8323e-06, 9.9931e-01, 6.8777e-04],\n",
       "        [9.9999e-01, 6.2468e-06, 3.1357e-12],\n",
       "        [9.9999e-01, 7.1110e-06, 3.7350e-12],\n",
       "        [7.0805e-08, 9.7313e-01, 2.6866e-02],\n",
       "        [3.5236e-13, 8.5399e-03, 9.9146e-01],\n",
       "        [1.3898e-07, 9.8093e-01, 1.9075e-02],\n",
       "        [8.2750e-19, 3.7513e-06, 1.0000e+00],\n",
       "        [4.0139e-06, 9.9981e-01, 1.8898e-04],\n",
       "        [2.5754e-17, 3.2825e-05, 9.9997e-01],\n",
       "        [3.4106e-16, 1.5132e-04, 9.9985e-01],\n",
       "        [9.9999e-01, 7.4107e-06, 3.8295e-12],\n",
       "        [3.0748e-07, 9.9826e-01, 1.7391e-03],\n",
       "        [9.9999e-01, 7.7506e-06, 3.9968e-12],\n",
       "        [6.8649e-08, 9.6787e-01, 3.2127e-02],\n",
       "        [1.0754e-17, 2.3834e-05, 9.9998e-01],\n",
       "        [1.6765e-15, 2.5683e-04, 9.9974e-01],\n",
       "        [9.9999e-01, 7.4339e-06, 3.8793e-12],\n",
       "        [1.3285e-12, 2.4783e-02, 9.7522e-01],\n",
       "        [7.3592e-16, 1.9289e-04, 9.9981e-01],\n",
       "        [3.7090e-07, 9.9376e-01, 6.2398e-03],\n",
       "        [3.7461e-22, 7.3373e-08, 1.0000e+00],\n",
       "        [9.9999e-01, 9.1990e-06, 4.8659e-12],\n",
       "        [9.9999e-01, 7.0327e-06, 3.6331e-12],\n",
       "        [9.9999e-01, 9.4789e-06, 5.1278e-12],\n",
       "        [1.4336e-06, 9.9929e-01, 7.0868e-04]], grad_fn=<SoftmaxBackward0>)"
      ]
     },
     "execution_count": 27,
     "metadata": {},
     "output_type": "execute_result"
    }
   ],
   "source": [
    "pred_test"
   ]
  },
  {
   "cell_type": "code",
   "execution_count": 28,
   "metadata": {},
   "outputs": [
    {
     "data": {
      "text/plain": [
       "array([0, 1, 1, 0, 2, 1, 2, 0, 0, 2, 1, 0, 2, 1, 1, 0, 1, 1, 0, 0, 1, 1,\n",
       "       1, 0, 2, 1, 0, 0, 1, 2, 1, 2, 1, 2, 2, 0, 1, 0, 1, 2, 2, 0, 2, 2,\n",
       "       1, 2, 0, 0, 0, 1])"
      ]
     },
     "execution_count": 28,
     "metadata": {},
     "output_type": "execute_result"
    }
   ],
   "source": [
    "y_test"
   ]
  },
  {
   "cell_type": "code",
   "execution_count": 29,
   "metadata": {},
   "outputs": [
    {
     "data": {
      "text/plain": [
       "tensor(0.9800)"
      ]
     },
     "execution_count": 29,
     "metadata": {},
     "output_type": "execute_result"
    }
   ],
   "source": [
    "correct = (torch.argmax(pred_test, dim=1) == y_test_ts).float()\n",
    "correct.mean()"
   ]
  },
  {
   "cell_type": "code",
   "execution_count": 30,
   "metadata": {},
   "outputs": [],
   "source": [
    "# 훈련된 모델 저장하고 로드\n",
    "path='iris_classifier.pt'\n",
    "torch.save(model,path)"
   ]
  },
  {
   "cell_type": "code",
   "execution_count": 31,
   "metadata": {},
   "outputs": [
    {
     "data": {
      "text/plain": [
       "Model(\n",
       "  (layer1): Linear(in_features=4, out_features=16, bias=True)\n",
       "  (layer2): Linear(in_features=16, out_features=3, bias=True)\n",
       ")"
      ]
     },
     "execution_count": 31,
     "metadata": {},
     "output_type": "execute_result"
    }
   ],
   "source": [
    "# 로드 평가\n",
    "model_new=torch.load(path)\n",
    "model_new.eval()"
   ]
  },
  {
   "cell_type": "code",
   "execution_count": 32,
   "metadata": {},
   "outputs": [],
   "source": [
    "# 모델 평가 : 테스트 데이터 => X_test, y_test <= ndarray\n",
    "# 데이터 정규화\n",
    "X_test_norm=(X_test  - np.mean(X_train)) / np.std(X_train)\n",
    "# 텐서 변환\n",
    "X_test_norm_ts=torch.from_numpy(X_test_norm).float()\n",
    "y_test_ts=torch.from_numpy(y_test)\n",
    "\n",
    "# 예측값 추출 : model(X_test_norm)\n",
    "pred_test=model_new(X_test_norm_ts)\n"
   ]
  },
  {
   "cell_type": "code",
   "execution_count": 33,
   "metadata": {},
   "outputs": [
    {
     "data": {
      "text/plain": [
       "tensor(0.9800)"
      ]
     },
     "execution_count": 33,
     "metadata": {},
     "output_type": "execute_result"
    }
   ],
   "source": [
    "correct = (torch.argmax(pred_test, dim=1) == y_test_ts).float()\n",
    "correct.mean()"
   ]
  },
  {
   "cell_type": "code",
   "execution_count": 34,
   "metadata": {},
   "outputs": [
    {
     "data": {
      "text/plain": [
       "tensor([[ 1.1957,  0.2783, -1.1488, -1.6585],\n",
       "        [ 0.8389, -0.4862, -0.2314, -1.1998]])"
      ]
     },
     "execution_count": 34,
     "metadata": {},
     "output_type": "execute_result"
    }
   ],
   "source": [
    "X_test_norm_ts[0:2]"
   ]
  },
  {
   "cell_type": "code",
   "execution_count": 35,
   "metadata": {},
   "outputs": [
    {
     "data": {
      "text/plain": [
       "tensor([[9.9999e-01, 6.1246e-06, 2.9992e-12],\n",
       "        [7.0910e-04, 9.9928e-01, 6.4541e-06]], grad_fn=<SoftmaxBackward0>)"
      ]
     },
     "execution_count": 35,
     "metadata": {},
     "output_type": "execute_result"
    }
   ],
   "source": [
    "pred_test=model_new(X_test_norm_ts[0:2])\n",
    "pred_test"
   ]
  },
  {
   "cell_type": "code",
   "execution_count": 36,
   "metadata": {},
   "outputs": [
    {
     "data": {
      "text/plain": [
       "tensor(1.)"
      ]
     },
     "execution_count": 36,
     "metadata": {},
     "output_type": "execute_result"
    }
   ],
   "source": [
    "start_idx=2\n",
    "end_idx=4\n",
    "pred_test=model_new(X_test_norm_ts[start_idx:end_idx])\n",
    "correct = (torch.argmax(pred_test, dim=1) == y_test_ts[start_idx:end_idx]).float()\n",
    "correct.mean()"
   ]
  },
  {
   "cell_type": "code",
   "execution_count": null,
   "metadata": {},
   "outputs": [],
   "source": []
  },
  {
   "cell_type": "code",
   "execution_count": null,
   "metadata": {},
   "outputs": [],
   "source": []
  },
  {
   "cell_type": "code",
   "execution_count": null,
   "metadata": {},
   "outputs": [],
   "source": []
  },
  {
   "cell_type": "code",
   "execution_count": null,
   "metadata": {},
   "outputs": [],
   "source": []
  }
 ],
 "metadata": {
  "kernelspec": {
   "display_name": "dl_dev",
   "language": "python",
   "name": "python3"
  },
  "language_info": {
   "codemirror_mode": {
    "name": "ipython",
    "version": 3
   },
   "file_extension": ".py",
   "mimetype": "text/x-python",
   "name": "python",
   "nbconvert_exporter": "python",
   "pygments_lexer": "ipython3",
   "version": "3.10.0"
  }
 },
 "nbformat": 4,
 "nbformat_minor": 2
}
