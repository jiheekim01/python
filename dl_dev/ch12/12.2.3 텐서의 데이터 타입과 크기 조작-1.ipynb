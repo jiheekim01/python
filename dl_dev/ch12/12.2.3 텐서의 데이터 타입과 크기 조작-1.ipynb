{
 "cells": [
  {
   "cell_type": "code",
   "execution_count": 1,
   "metadata": {},
   "outputs": [
    {
     "name": "stdout",
     "output_type": "stream",
     "text": [
      "tensor([1, 2, 3])\n",
      "tensor([1, 2, 3], device='cuda:0')\n",
      "tensor([1., 2., 3.])\n"
     ]
    }
   ],
   "source": [
    "# torch.to() : 텐서를 다른 장치나 데이터 타입으로 이동\n",
    "import torch\n",
    "\n",
    "tensor_=torch.tensor([1,2,3]) # int64\n",
    "print(tensor_) # dram(주기억장치)\n",
    "tensor_gpu = tensor_.to('cuda') # gpu vram로 이동\n",
    "print(tensor_gpu)\n",
    "\n",
    "# 데이터 타입 변경\n",
    "tensor_float=tensor_.to(torch.float32)\n",
    "print(tensor_float)\n"
   ]
  },
  {
   "cell_type": "code",
   "execution_count": 2,
   "metadata": {},
   "outputs": [
    {
     "name": "stdout",
     "output_type": "stream",
     "text": [
      "tensor([[0.0417, 0.9935, 0.8224, 0.5501, 0.4449],\n",
      "        [0.0739, 0.6647, 0.2590, 0.3239, 0.5152],\n",
      "        [0.5315, 0.8585, 0.6984, 0.7501, 0.8470]])\n",
      "torch.Size([3, 5]) -> torch.Size([5, 3])\n"
     ]
    }
   ],
   "source": [
    "# 텐서 크기와 차원 추가, 삭제\n",
    "# 전치 : transpose()\n",
    "t=torch.rand(3,5)\n",
    "print(t)\n",
    "# t_tr=torch.transpose(t,0,1) # \n",
    "t_tr=t.transpose(0,1)\n",
    "print(t.shape ,'->', t_tr.shape)"
   ]
  },
  {
   "cell_type": "code",
   "execution_count": 3,
   "metadata": {},
   "outputs": [
    {
     "name": "stdout",
     "output_type": "stream",
     "text": [
      "tensor([0., 0., 0., 0., 0., 0., 0., 0., 0., 0., 0., 0., 0., 0., 0., 0., 0., 0., 0., 0., 0., 0., 0., 0.,\n",
      "        0., 0., 0., 0., 0., 0.])\n",
      "torch.Size([5, 6])\n"
     ]
    }
   ],
   "source": [
    "# 텐서 크기 변경 : reshape\n",
    "t=torch.zeros(30) # 1차원 : 1D\n",
    "print(t)\n",
    "# 2D 변경 : 5,6\n",
    "t_reshape=t.reshape(5,6)\n",
    "print(t_reshape.shape)"
   ]
  },
  {
   "cell_type": "code",
   "execution_count": 4,
   "metadata": {},
   "outputs": [
    {
     "name": "stdout",
     "output_type": "stream",
     "text": [
      "torch.Size([1, 2, 1, 4, 1])\n",
      "torch.Size([1, 2, 4, 1])\n"
     ]
    }
   ],
   "source": [
    "# 불필요한 차원 삭제 : squeeze\n",
    "t=torch.zeros(1,2,1,4,1) # 5차원\n",
    "print(t.shape)\n",
    "t_sqz=t.squeeze(2)\n",
    "print(t_sqz.shape)"
   ]
  },
  {
   "cell_type": "code",
   "execution_count": 5,
   "metadata": {},
   "outputs": [
    {
     "name": "stdout",
     "output_type": "stream",
     "text": [
      "torch.Size([3])\n",
      "tensor([1, 2, 3])\n",
      "torch.Size([1, 3])\n",
      "tensor([[1, 2, 3]])\n",
      "(3,)\n"
     ]
    }
   ],
   "source": [
    "# 차원 추가 : unsqueeze()\n",
    "import numpy as np\n",
    "t=torch.tensor([1,2,3])\n",
    "print(t.shape)\n",
    "print(t)\n",
    "\n",
    "# 차원 추가\n",
    "u_t=t.unsqueeze(0) # 0번째 차원 추가\n",
    "print(u_t.shape) # 2 차원된다\n",
    "print(u_t)\n",
    "\n",
    "# numpy\n",
    "t_n=np.array([1,2,3])\n",
    "print(t_n.shape)"
   ]
  },
  {
   "cell_type": "code",
   "execution_count": 6,
   "metadata": {},
   "outputs": [
    {
     "name": "stdout",
     "output_type": "stream",
     "text": [
      "tensor([[ 0.5153, -0.4414],\n",
      "        [-0.1939,  0.4694],\n",
      "        [-0.9414,  0.5997],\n",
      "        [-0.2057,  0.5087],\n",
      "        [ 0.1390, -0.1224]])\n",
      "tensor([[ 0.8590,  0.7056],\n",
      "        [-0.3406, -1.2720],\n",
      "        [-1.1948,  0.0250],\n",
      "        [-0.7627,  1.3969],\n",
      "        [-0.3245,  0.2879]])\n",
      "tensor([[ 0.4426, -0.3114],\n",
      "        [ 0.0660, -0.5970],\n",
      "        [ 1.1249,  0.0150],\n",
      "        [ 0.1569,  0.7107],\n",
      "        [-0.0451, -0.0352]])\n"
     ]
    }
   ],
   "source": [
    "# elment-wise:원소별 연산\n",
    "# 원소별 곱셈\n",
    "torch.manual_seed(1)\n",
    "t1=2*torch.rand(5,2)-1\n",
    "print(t1)\n",
    "t2=torch.normal(mean=0, std=1, size=(5,2))\n",
    "print(t2)\n",
    "t3=torch.multiply(t1,t2)\n",
    "print(t3)"
   ]
  },
  {
   "cell_type": "code",
   "execution_count": 7,
   "metadata": {},
   "outputs": [
    {
     "name": "stdout",
     "output_type": "stream",
     "text": [
      "tensor([[ 0.5153, -0.4414],\n",
      "        [-0.1939,  0.4694],\n",
      "        [-0.9414,  0.5997],\n",
      "        [-0.2057,  0.5087],\n",
      "        [ 0.1390, -0.1224]])\n",
      "tensor([ 0.0369,  0.1378, -0.1709,  0.1515,  0.0083])\n"
     ]
    }
   ],
   "source": [
    "print(t1)\n",
    "print(torch.mean(t1,axis=1))"
   ]
  },
  {
   "cell_type": "code",
   "execution_count": 8,
   "metadata": {},
   "outputs": [
    {
     "name": "stdout",
     "output_type": "stream",
     "text": [
      "tensor([-2.8246,  3.7193])\n"
     ]
    }
   ],
   "source": [
    "# 행렬 곱 : dot product (내적)\n",
    "tt=torch.tensor([1,2,3,4,5]).to(torch.float32)\n",
    "\n",
    "t5 = torch.matmul(tt, t1)\n",
    "\n",
    "print(t5)"
   ]
  },
  {
   "cell_type": "code",
   "execution_count": null,
   "metadata": {},
   "outputs": [
    {
     "name": "stdout",
     "output_type": "stream",
     "text": [
      "tensor([[ 0.5153, -0.4414],\n",
      "        [-0.1939,  0.4694],\n",
      "        [-0.9414,  0.5997],\n",
      "        [-0.2057,  0.5087],\n",
      "        [ 0.1390, -0.1224]])\n",
      "tensor([0.6785, 0.5078, 1.1162, 0.5488, 0.1853])\n"
     ]
    }
   ],
   "source": [
    "# 텐서의 노름 연산 : 텐서의 크기(길이) 계산\n",
    "print(t1)\n",
    "norm_t1=torch.linalg.norm(t1, ord=2, dim=1) # ord=2 유클리드 노름 \n",
    "print(norm_t1)"
   ]
  },
  {
   "cell_type": "code",
   "execution_count": 19,
   "metadata": {},
   "outputs": [
    {
     "name": "stdout",
     "output_type": "stream",
     "text": [
      "tensor([0.7576, 0.2793, 0.4031, 0.7347, 0.0293, 0.7999])\n",
      "(tensor([0.7576, 0.2793]), tensor([0.4031, 0.7347]), tensor([0.0293, 0.7999]))\n"
     ]
    }
   ],
   "source": [
    "# 텐서를 나누고, 쌓거나, 연결하는 함수\n",
    "# chunk() : 텐서 특정 개수로 나누기\n",
    "torch.manual_seed(1)\n",
    "\n",
    "# 난수 생성 6개\n",
    "t=torch.rand(6)\n",
    "print(t)\n",
    "# 3개로 나누기\n",
    "t_c=torch.chunk(t, 3)\n",
    "print(t_c)\n"
   ]
  },
  {
   "cell_type": "code",
   "execution_count": 23,
   "metadata": {},
   "outputs": [
    {
     "name": "stdout",
     "output_type": "stream",
     "text": [
      "tensor([0.7576, 0.2793, 0.4031, 0.7347, 0.0293])\n",
      "(tensor([0.7576, 0.2793, 0.4031]), tensor([0.7347, 0.0293]))\n"
     ]
    }
   ],
   "source": [
    "# split() : 텐서 특정 크기로 나누기, reshape 비슷\n",
    "torch.manual_seed(1)\n",
    "t=torch.rand(5)\n",
    "print(t)\n",
    "t_s=torch.split(t, split_size_or_sections=[3,2])\n",
    "print(t_s)"
   ]
  },
  {
   "cell_type": "code",
   "execution_count": 25,
   "metadata": {},
   "outputs": [
    {
     "name": "stdout",
     "output_type": "stream",
     "text": [
      "tensor([0, 1, 2, 3, 4, 5, 6, 7, 8, 9])\n",
      "(tensor([0, 1, 2, 3]), tensor([4, 5, 6, 7]), tensor([8, 9]))\n"
     ]
    }
   ],
   "source": [
    "# \n",
    "tensor_=torch.arange(10)\n",
    "print(tensor_)\n",
    "splits=torch.split(tensor_,4)\n",
    "print(splits)"
   ]
  },
  {
   "cell_type": "code",
   "execution_count": 29,
   "metadata": {},
   "outputs": [
    {
     "name": "stdout",
     "output_type": "stream",
     "text": [
      "tensor([1., 1., 1.])\n",
      "tensor([0., 0.])\n",
      "tensor([1., 1., 1., 0., 0.])\n"
     ]
    }
   ],
   "source": [
    "# 텐서 연결 : cat()\n",
    "a=torch.ones(3)\n",
    "print(a)\n",
    "b=torch.zeros(2)\n",
    "print(b)\n",
    "\n",
    "# 연결\n",
    "c=torch.cat([a,b], axis=0)\n",
    "print(c)\n"
   ]
  },
  {
   "cell_type": "code",
   "execution_count": 33,
   "metadata": {},
   "outputs": [
    {
     "name": "stdout",
     "output_type": "stream",
     "text": [
      "tensor([[1., 0.],\n",
      "        [1., 0.],\n",
      "        [1., 0.]])\n",
      "tensor([[1., 1., 1.],\n",
      "        [0., 0., 0.]])\n"
     ]
    }
   ],
   "source": [
    "# 텐서 쌓기 : stack()\n",
    "a=torch.ones(3)\n",
    "b=torch.zeros(3)\n",
    "s=torch.stack([a,b],axis=0)\n",
    "s1=torch.stack([a,b], axis=1)\n",
    "print(s1)\n",
    "print(s)"
   ]
  }
 ],
 "metadata": {
  "kernelspec": {
   "display_name": "dl_dev",
   "language": "python",
   "name": "python3"
  },
  "language_info": {
   "codemirror_mode": {
    "name": "ipython",
    "version": 3
   },
   "file_extension": ".py",
   "mimetype": "text/x-python",
   "name": "python",
   "nbconvert_exporter": "python",
   "pygments_lexer": "ipython3",
   "version": "3.10.16"
  }
 },
 "nbformat": 4,
 "nbformat_minor": 2
}
