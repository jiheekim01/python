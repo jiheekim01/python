{
 "cells": [
  {
   "cell_type": "code",
   "execution_count": null,
   "metadata": {},
   "outputs": [
    {
     "name": "stdout",
     "output_type": "stream",
     "text": [
      "[[10 11]\n",
      " [11 12]\n",
      " [12 13]\n",
      " [13 14]\n",
      " [14 15]]\n",
      "[12 13 14 15 16]\n"
     ]
    }
   ],
   "source": [
    "# 시계열 데이터 :10일 데이터로 학습, 11일차 데이터 레이블\n",
    "import numpy as np\n",
    "\n",
    "data=[10,11,12,13,14,15,16]\n",
    "# data                     label \n",
    "# [10,11,12,13,14]            15\n",
    "# [11,12,13,14,15]            16\n",
    "def create_seq(data, seq_length):\n",
    "    seqs=[]\n",
    "    target=[]\n",
    "    # seqs → 입력 데이터 시퀀스들을 모은 리스트\n",
    "# target → 각 시퀀스 다음에 나오는 값을 모은 리스트\n",
    "    for i in range(len(data)-seq_length):\n",
    "# data[i:i+seq_length] : 데이터에서 길이 seq_length 만큼 잘라서 입력 시퀀스를 만든다.\n",
    "        seqs.append(data[i:i+seq_length])\n",
    "        target.append(data[i+seq_length])\n",
    "# data[i+seq_length] : 잘라낸 시퀀스 다음 값을 레이블(정답)로 만든다.\n",
    "    return np.array(seqs), np.array(target)\n",
    "\n",
    "seq_length=2\n",
    "\n",
    "nd_data,target=create_seq(data, seq_length) #seq_length는 입력 시퀀스의 길이,\n",
    "# seq_length 값을 크게 하면 과거를 더 길게 기억하고 예측 \n",
    "#  주가 예측, 날씨, 매출 예측 같은데서 자주 쓰이는 기본 전처리 \n",
    "# 몇 개의 연속된 데이터를 보고 다음 값을 예측할지를 결정\n",
    "print(nd_data)\n",
    "print(target)\n",
    "        "
   ]
  },
  {
   "cell_type": "code",
   "execution_count": 5,
   "metadata": {},
   "outputs": [],
   "source": [
    "# 임포트\n",
    "import yfinance as yf\n",
    "import pandas as pd\n",
    "import numpy as np\n",
    "import torch\n",
    "from torch.utils.data import TensorDataset, DataLoader\n",
    "from sklearn.preprocessing import StandardScaler\n",
    "\n",
    "import warnings\n",
    "warnings.filterwarnings('ignore')"
   ]
  },
  {
   "cell_type": "code",
   "execution_count": 20,
   "metadata": {},
   "outputs": [
    {
     "name": "stderr",
     "output_type": "stream",
     "text": [
      "[*********************100%***********************]  3 of 3 completed\n"
     ]
    },
    {
     "data": {
      "text/html": [
       "<div>\n",
       "<style scoped>\n",
       "    .dataframe tbody tr th:only-of-type {\n",
       "        vertical-align: middle;\n",
       "    }\n",
       "\n",
       "    .dataframe tbody tr th {\n",
       "        vertical-align: top;\n",
       "    }\n",
       "\n",
       "    .dataframe thead th {\n",
       "        text-align: right;\n",
       "    }\n",
       "</style>\n",
       "<table border=\"1\" class=\"dataframe\">\n",
       "  <thead>\n",
       "    <tr style=\"text-align: right;\">\n",
       "      <th>Ticker</th>\n",
       "      <th>AAPL</th>\n",
       "      <th>GOOGL</th>\n",
       "      <th>MSFT</th>\n",
       "    </tr>\n",
       "    <tr>\n",
       "      <th>Date</th>\n",
       "      <th></th>\n",
       "      <th></th>\n",
       "      <th></th>\n",
       "    </tr>\n",
       "  </thead>\n",
       "  <tbody>\n",
       "    <tr>\n",
       "      <th>2020-04-17</th>\n",
       "      <td>68.629608</td>\n",
       "      <td>63.645714</td>\n",
       "      <td>170.952148</td>\n",
       "    </tr>\n",
       "    <tr>\n",
       "      <th>2020-04-20</th>\n",
       "      <td>67.205093</td>\n",
       "      <td>62.757458</td>\n",
       "      <td>167.563705</td>\n",
       "    </tr>\n",
       "    <tr>\n",
       "      <th>2020-04-21</th>\n",
       "      <td>65.127777</td>\n",
       "      <td>60.319614</td>\n",
       "      <td>160.633743</td>\n",
       "    </tr>\n",
       "    <tr>\n",
       "      <th>2020-04-22</th>\n",
       "      <td>67.003677</td>\n",
       "      <td>62.621113</td>\n",
       "      <td>166.089676</td>\n",
       "    </tr>\n",
       "    <tr>\n",
       "      <th>2020-04-23</th>\n",
       "      <td>66.743996</td>\n",
       "      <td>63.256073</td>\n",
       "      <td>164.079575</td>\n",
       "    </tr>\n",
       "  </tbody>\n",
       "</table>\n",
       "</div>"
      ],
      "text/plain": [
       "Ticker           AAPL      GOOGL        MSFT\n",
       "Date                                        \n",
       "2020-04-17  68.629608  63.645714  170.952148\n",
       "2020-04-20  67.205093  62.757458  167.563705\n",
       "2020-04-21  65.127777  60.319614  160.633743\n",
       "2020-04-22  67.003677  62.621113  166.089676\n",
       "2020-04-23  66.743996  63.256073  164.079575"
      ]
     },
     "execution_count": 20,
     "metadata": {},
     "output_type": "execute_result"
    }
   ],
   "source": [
    "# 종목 정의 기간 설정 \n",
    "tickers=['AAPL','MSFT','GOOGL']\n",
    "start_date='2020-04-17'\n",
    "end_date='2025-04-16'\n",
    "\n",
    "# 데이터 로딩 \n",
    "data=yf.download(\n",
    "    tickers=tickers,\n",
    "    start=start_date,\n",
    "    end=end_date\n",
    ")['Close']\n",
    "data.head()"
   ]
  },
  {
   "cell_type": "code",
   "execution_count": 10,
   "metadata": {},
   "outputs": [
    {
     "data": {
      "text/html": [
       "<div>\n",
       "<style scoped>\n",
       "    .dataframe tbody tr th:only-of-type {\n",
       "        vertical-align: middle;\n",
       "    }\n",
       "\n",
       "    .dataframe tbody tr th {\n",
       "        vertical-align: top;\n",
       "    }\n",
       "\n",
       "    .dataframe thead th {\n",
       "        text-align: right;\n",
       "    }\n",
       "</style>\n",
       "<table border=\"1\" class=\"dataframe\">\n",
       "  <thead>\n",
       "    <tr style=\"text-align: right;\">\n",
       "      <th>Ticker</th>\n",
       "      <th>AAPL</th>\n",
       "      <th>GOOGL</th>\n",
       "      <th>MSFT</th>\n",
       "    </tr>\n",
       "    <tr>\n",
       "      <th>Date</th>\n",
       "      <th></th>\n",
       "      <th></th>\n",
       "      <th></th>\n",
       "    </tr>\n",
       "  </thead>\n",
       "  <tbody>\n",
       "    <tr>\n",
       "      <th>2025-04-09</th>\n",
       "      <td>198.850006</td>\n",
       "      <td>158.710007</td>\n",
       "      <td>390.489990</td>\n",
       "    </tr>\n",
       "    <tr>\n",
       "      <th>2025-04-10</th>\n",
       "      <td>190.419998</td>\n",
       "      <td>152.820007</td>\n",
       "      <td>381.350006</td>\n",
       "    </tr>\n",
       "    <tr>\n",
       "      <th>2025-04-11</th>\n",
       "      <td>198.149994</td>\n",
       "      <td>157.139999</td>\n",
       "      <td>388.450012</td>\n",
       "    </tr>\n",
       "    <tr>\n",
       "      <th>2025-04-14</th>\n",
       "      <td>202.520004</td>\n",
       "      <td>159.070007</td>\n",
       "      <td>387.809998</td>\n",
       "    </tr>\n",
       "    <tr>\n",
       "      <th>2025-04-15</th>\n",
       "      <td>202.139999</td>\n",
       "      <td>156.309998</td>\n",
       "      <td>385.730011</td>\n",
       "    </tr>\n",
       "  </tbody>\n",
       "</table>\n",
       "</div>"
      ],
      "text/plain": [
       "Ticker            AAPL       GOOGL        MSFT\n",
       "Date                                          \n",
       "2025-04-09  198.850006  158.710007  390.489990\n",
       "2025-04-10  190.419998  152.820007  381.350006\n",
       "2025-04-11  198.149994  157.139999  388.450012\n",
       "2025-04-14  202.520004  159.070007  387.809998\n",
       "2025-04-15  202.139999  156.309998  385.730011"
      ]
     },
     "execution_count": 10,
     "metadata": {},
     "output_type": "execute_result"
    }
   ],
   "source": [
    "data['Close'].head()\n",
    "data['Close'].tail()"
   ]
  },
  {
   "cell_type": "code",
   "execution_count": 21,
   "metadata": {},
   "outputs": [
    {
     "name": "stdout",
     "output_type": "stream",
     "text": [
      "<class 'pandas.core.frame.DataFrame'>\n",
      "DatetimeIndex: 1256 entries, 2020-04-17 to 2025-04-15\n",
      "Data columns (total 3 columns):\n",
      " #   Column  Non-Null Count  Dtype  \n",
      "---  ------  --------------  -----  \n",
      " 0   AAPL    1256 non-null   float64\n",
      " 1   GOOGL   1256 non-null   float64\n",
      " 2   MSFT    1256 non-null   float64\n",
      "dtypes: float64(3)\n",
      "memory usage: 39.2 KB\n"
     ]
    }
   ],
   "source": [
    "data.info()"
   ]
  },
  {
   "cell_type": "code",
   "execution_count": 12,
   "metadata": {},
   "outputs": [],
   "source": [
    "# 결측치 처리(보간법 이용-> 채우겠다)\n",
    "data.interpolate(method='linear', inplace=True)\n"
   ]
  },
  {
   "cell_type": "code",
   "execution_count": 13,
   "metadata": {},
   "outputs": [
    {
     "data": {
      "text/html": [
       "<div>\n",
       "<style scoped>\n",
       "    .dataframe tbody tr th:only-of-type {\n",
       "        vertical-align: middle;\n",
       "    }\n",
       "\n",
       "    .dataframe tbody tr th {\n",
       "        vertical-align: top;\n",
       "    }\n",
       "\n",
       "    .dataframe thead th {\n",
       "        text-align: right;\n",
       "    }\n",
       "</style>\n",
       "<table border=\"1\" class=\"dataframe\">\n",
       "  <thead>\n",
       "    <tr style=\"text-align: right;\">\n",
       "      <th>Ticker</th>\n",
       "      <th>AAPL</th>\n",
       "      <th>GOOGL</th>\n",
       "      <th>MSFT</th>\n",
       "    </tr>\n",
       "    <tr>\n",
       "      <th>Date</th>\n",
       "      <th></th>\n",
       "      <th></th>\n",
       "      <th></th>\n",
       "    </tr>\n",
       "  </thead>\n",
       "  <tbody>\n",
       "    <tr>\n",
       "      <th>2025-04-09</th>\n",
       "      <td>198.850006</td>\n",
       "      <td>158.710007</td>\n",
       "      <td>390.489990</td>\n",
       "    </tr>\n",
       "    <tr>\n",
       "      <th>2025-04-10</th>\n",
       "      <td>190.419998</td>\n",
       "      <td>152.820007</td>\n",
       "      <td>381.350006</td>\n",
       "    </tr>\n",
       "    <tr>\n",
       "      <th>2025-04-11</th>\n",
       "      <td>198.149994</td>\n",
       "      <td>157.139999</td>\n",
       "      <td>388.450012</td>\n",
       "    </tr>\n",
       "    <tr>\n",
       "      <th>2025-04-14</th>\n",
       "      <td>202.520004</td>\n",
       "      <td>159.070007</td>\n",
       "      <td>387.809998</td>\n",
       "    </tr>\n",
       "    <tr>\n",
       "      <th>2025-04-15</th>\n",
       "      <td>202.139999</td>\n",
       "      <td>156.309998</td>\n",
       "      <td>385.730011</td>\n",
       "    </tr>\n",
       "  </tbody>\n",
       "</table>\n",
       "</div>"
      ],
      "text/plain": [
       "Ticker            AAPL       GOOGL        MSFT\n",
       "Date                                          \n",
       "2025-04-09  198.850006  158.710007  390.489990\n",
       "2025-04-10  190.419998  152.820007  381.350006\n",
       "2025-04-11  198.149994  157.139999  388.450012\n",
       "2025-04-14  202.520004  159.070007  387.809998\n",
       "2025-04-15  202.139999  156.309998  385.730011"
      ]
     },
     "execution_count": 13,
     "metadata": {},
     "output_type": "execute_result"
    }
   ],
   "source": [
    "# 신경망은 중간에 결측치가 있으면 에러남 -> nan 처리 해야함 \n",
    "# 스케일링 처리 : 각 종목별 가격 차이 심하다 \n",
    "data['Close'].tail()"
   ]
  },
  {
   "cell_type": "code",
   "execution_count": 22,
   "metadata": {},
   "outputs": [
    {
     "data": {
      "text/plain": [
       "array([[0.93545652, 1.04211358, 1.11109945],\n",
       "       [0.72634903, 0.86063224, 0.99553718],\n",
       "       [0.91809263, 0.99373887, 1.08530679],\n",
       "       [1.02649133, 1.05320584, 1.0772147 ],\n",
       "       [1.01706525, 0.96816504, 1.0509162 ]])"
      ]
     },
     "execution_count": 22,
     "metadata": {},
     "output_type": "execute_result"
    }
   ],
   "source": [
    "# 스케일링 처리 : 각 종목별 가격 차이 심하다 \n",
    "scaler=StandardScaler()\n",
    "scaled_data=scaler.fit_transform(data)\n",
    "scaled_data[-5:] #뒤에서 5개 가져오기"
   ]
  },
  {
   "cell_type": "code",
   "execution_count": 17,
   "metadata": {},
   "outputs": [],
   "source": [
    "# 시계열 데이터에서 데이터와 레이블 생성 \n",
    "def create_seq(data, seq_length):\n",
    "    seqs=[]\n",
    "    targets=[]\n",
    "    \n",
    "    for i in range(len(data)-seq_length):\n",
    "        seqs.append(data[i:i+seq_length])\n",
    "        targets.append(data[i+seq_length])\n",
    "    return np.array(seqs), np.array(targets)\n",
    "     "
   ]
  },
  {
   "cell_type": "code",
   "execution_count": 16,
   "metadata": {},
   "outputs": [
    {
     "data": {
      "text/plain": [
       "1246"
      ]
     },
     "execution_count": 16,
     "metadata": {},
     "output_type": "execute_result"
    }
   ],
   "source": [
    "1256-10"
   ]
  },
  {
   "cell_type": "code",
   "execution_count": null,
   "metadata": {},
   "outputs": [
    {
     "name": "stdout",
     "output_type": "stream",
     "text": [
      "[[[-2.2946781  -1.88698617 -1.66464828]\n",
      "  [-2.33001338 -1.91435491 -1.70749039]\n",
      "  [-2.38154149 -1.9894692  -1.79511003]\n",
      "  [-2.33500953 -1.91855594 -1.72612742]\n",
      "  [-2.34145097 -1.89899169 -1.75154233]\n",
      "  [-2.29365408 -1.89066603 -1.71366267]\n",
      "  [-2.29245008 -1.89946701 -1.7197134 ]\n",
      "  [-2.32008069 -1.95814472 -1.77102708]\n",
      "  [-2.26500039 -1.79011497 -1.67880828]\n",
      "  [-2.22846149 -1.78318472 -1.65726636]]\n",
      "\n",
      " [[-2.33001338 -1.91435491 -1.70749039]\n",
      "  [-2.38154149 -1.9894692  -1.79511003]\n",
      "  [-2.33500953 -1.91855594 -1.72612742]\n",
      "  [-2.34145097 -1.89899169 -1.75154233]\n",
      "  [-2.29365408 -1.89066603 -1.71366267]\n",
      "  [-2.29245008 -1.89946701 -1.7197134 ]\n",
      "  [-2.32008069 -1.95814472 -1.77102708]\n",
      "  [-2.26500039 -1.79011497 -1.67880828]\n",
      "  [-2.22846149 -1.78318472 -1.65726636]\n",
      "  [-2.25693407 -1.82823194 -1.71342016]]]\n",
      "[[-2.25693407 -1.82823194 -1.71342016]\n",
      " [-2.23231364 -1.81967638 -1.66174417]]\n"
     ]
    }
   ],
   "source": [
    "seq_length=10 #10일치 \n",
    "\n",
    "X,y=create_seq(scaled_data, seq_length)\n",
    "print(X[:2]) # 행렬 \n",
    "print(y[:2])"
   ]
  },
  {
   "cell_type": "code",
   "execution_count": 26,
   "metadata": {},
   "outputs": [
    {
     "name": "stdout",
     "output_type": "stream",
     "text": [
      "입력 데이터 배치 크기 : torch.Size([32, 10, 3])\n",
      "레이블 배치 크기 : torch.Size([32, 3])\n"
     ]
    }
   ],
   "source": [
    "# 데이터셋 : data + label  <= tensor \n",
    "# 텐서 변환 \n",
    "# X_tensor=tprch.tensor\n",
    "X_tensor=torch.tensor(X, dtype=torch.float32)\n",
    "# X_tensor=torch.tensor(X, dtype=torch.float32) # numpy 와 list 둘다 가능\n",
    "y_tensor=torch.tensor(y, dtype=torch.float32)\n",
    "\n",
    "# dataset\n",
    "dataset=TensorDataset(X_tensor, y_tensor)\n",
    "\n",
    "# DataLoader : batch_size=32, shuffle=False\n",
    "batch_size=32\n",
    "dataLoader=DataLoader(dataset, batch_size=batch_size, shuffle=False)\n",
    "\n",
    "# 데이터로더 \n",
    "for xb, yb in dataLoader:\n",
    "    print(f'입력 데이터 배치 크기 : {xb.shape}')\n",
    "    print(f'레이블 배치 크기 : {yb.shape}')\n",
    "    break\n"
   ]
  },
  {
   "cell_type": "code",
   "execution_count": 29,
   "metadata": {},
   "outputs": [],
   "source": [
    "# 신경망 구성 \n",
    "import torch.nn as nn \n",
    "import torch.optim as optim\n",
    "\n",
    "class LSTMStockModel(nn.Module):\n",
    "    def __init__(self, input_size, hidden_size, output_size): # 층구성\n",
    "        super(LSTMStockModel,self).__init__()\n",
    "        self.lstm=nn.LSTM(input_size, hidden_size, batch_first=True)\n",
    "        self.layer1=nn.Linear(hidden_size, output_size)\n",
    "    \n",
    "    def forward(self, X):\n",
    "        lstm_out,_=self.lstm(X)\n",
    "        out=self.layer1(lstm_out[:,-1,:])\n",
    "        return out #신경망을 거쳐서 나온 예측값 "
   ]
  },
  {
   "cell_type": "code",
   "execution_count": null,
   "metadata": {},
   "outputs": [
    {
     "name": "stdout",
     "output_type": "stream",
     "text": [
      "Epoch : 20 / 20, Loss : 0.0189\n"
     ]
    }
   ],
   "source": [
    "# 설정 \n",
    "# 는 PyTorch 기반 LSTM 딥러닝 모델을 사용해 주가 예측을 학습하는 루프\n",
    "# 여러 종목 주가 데이터로 lstm 모델로 학습해 미래의 주가를 예측하는 모델을 학습 \n",
    "input_size=len(tickers) #입열되는 피처 수 (세종목) 3\n",
    "hidden_size=32 # hidden_size 가 unit 의 개수가 아니다 \n",
    "# LSTM : 셀\n",
    "output_size=len(tickers) #3\n",
    "\n",
    "model=LSTMStockModel(input_size, hidden_size, output_size)\n",
    "\n",
    "loss_fn=nn.MSELoss()\n",
    "\n",
    "optimizer=optim.Adam(model.parameters(), lr=0.001)\n",
    "\n",
    "epochs=20\n",
    "\n",
    "for epoch in range(epochs):\n",
    "    epoch_loss=0\n",
    "    for xb, yb in dataLoader:\n",
    "        pred=model(xb)\n",
    "        loss=loss_fn(pred,yb)\n",
    "        optimizer.zero_grad() #기울기를 초기화 \n",
    "        loss.backward()\n",
    "        optimizer.step()\n",
    "        epoch_loss +=loss.item()\n",
    "print(f'Epoch : {epoch+1} / {epochs}, Loss : {epoch_loss/len(dataLoader):.4f}')"
   ]
  },
  {
   "cell_type": "code",
   "execution_count": null,
   "metadata": {},
   "outputs": [
    {
     "name": "stdout",
     "output_type": "stream",
     "text": [
      "예측된 주가 : [[198.43996 148.84904 388.56   ]]\n"
     ]
    }
   ],
   "source": [
    "# 추론 : 뉴데이터 입력해서 예측 \n",
    "# 추론하려면 모드를 변경 \n",
    "# 학습 모드 (model.train()), 추론 모드 (model.eval())\n",
    "model.eval()\n",
    "# 추론은 포워딩해야 한다. 백워드 (미분)하면 안된다\n",
    "with torch.no_grad():\n",
    "    preds=model(X_tensor).numpy() #StandardScaler \n",
    "    preds_original=scaler.inverse_transform(preds)\n",
    "    \n",
    "print(f'예측된 주가 : {preds_original[-1:]}') #최신 주가  \n"
   ]
  },
  {
   "cell_type": "code",
   "execution_count": null,
   "metadata": {},
   "outputs": [],
   "source": [
    "# LSTM, GRU : 순환신경망 \n",
    "# 문제점 : 장기기억이 잘 안된다, 병렬처리 비효율, \n",
    "# Transformer 계열의 신경망 활용 \n",
    "# PatchTST \n",
    "# Informer \n",
    "# TimeNet : 푸리에변환, 시계열 데이터의 특성 추출 \n"
   ]
  },
  {
   "cell_type": "code",
   "execution_count": null,
   "metadata": {},
   "outputs": [],
   "source": []
  },
  {
   "cell_type": "code",
   "execution_count": null,
   "metadata": {},
   "outputs": [],
   "source": []
  },
  {
   "cell_type": "code",
   "execution_count": null,
   "metadata": {},
   "outputs": [],
   "source": []
  },
  {
   "cell_type": "code",
   "execution_count": null,
   "metadata": {},
   "outputs": [],
   "source": []
  }
 ],
 "metadata": {
  "kernelspec": {
   "display_name": "dl_dev",
   "language": "python",
   "name": "python3"
  },
  "language_info": {
   "codemirror_mode": {
    "name": "ipython",
    "version": 3
   },
   "file_extension": ".py",
   "mimetype": "text/x-python",
   "name": "python",
   "nbconvert_exporter": "python",
   "pygments_lexer": "ipython3",
   "version": "3.10.0"
  }
 },
 "nbformat": 4,
 "nbformat_minor": 2
}
