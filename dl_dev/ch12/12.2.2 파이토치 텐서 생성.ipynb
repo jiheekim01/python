{
 "cells": [
  {
   "cell_type": "code",
   "execution_count": 3,
   "metadata": {},
   "outputs": [
    {
     "name": "stdout",
     "output_type": "stream",
     "text": [
      "tensor([1, 2, 3])\n",
      "torch.int64\n",
      "tensor([4, 5, 6], dtype=torch.int32)\n"
     ]
    }
   ],
   "source": [
    "# 텐서 생성 \n",
    "import torch\n",
    "import numpy as np\n",
    "\n",
    "# 넘파이 환경 설정 : 소수점 3자리까지 표시\n",
    "np.set_printoptions(precision=3)\n",
    "\n",
    "# 리스트 생성 \n",
    "a = [1,2,3]\n",
    "\n",
    "# array 생성\n",
    "b = np.array([4,5,6], dtype=np.int32)\n",
    "\n",
    "# 리스트 -> 텐서\n",
    "t_a=torch.tensor(a)\n",
    "print(t_a) #벡터\n",
    "print(t_a.dtype)\n",
    "\n",
    "# array => tensor \n",
    "t_b=torch.from_numpy(b)\n",
    "print(t_b)\n"
   ]
  },
  {
   "cell_type": "code",
   "execution_count": 5,
   "metadata": {},
   "outputs": [
    {
     "name": "stdout",
     "output_type": "stream",
     "text": [
      "shape : torch.Size([2, 3])\n",
      "tensor([[1., 1., 1.],\n",
      "        [1., 1., 1.]])\n"
     ]
    }
   ],
   "source": [
    "# tensor create : one\n",
    "t_ones=torch.ones(2,3) #2row x 3 col : matrix\n",
    "print(f'shape : {t_ones.shape}')\n",
    "print(t_ones)"
   ]
  },
  {
   "cell_type": "code",
   "execution_count": 6,
   "metadata": {},
   "outputs": [
    {
     "name": "stdout",
     "output_type": "stream",
     "text": [
      "tensor([[0., 0., 0.],\n",
      "        [0., 0., 0.]])\n"
     ]
    }
   ],
   "source": [
    "# zero\n",
    "t_zeros=torch.zeros(2,3)\n",
    "print(t_zeros)"
   ]
  },
  {
   "cell_type": "code",
   "execution_count": null,
   "metadata": {},
   "outputs": [],
   "source": []
  },
  {
   "cell_type": "code",
   "execution_count": null,
   "metadata": {},
   "outputs": [],
   "source": []
  }
 ],
 "metadata": {
  "kernelspec": {
   "display_name": "dl_dev",
   "language": "python",
   "name": "python3"
  },
  "language_info": {
   "codemirror_mode": {
    "name": "ipython",
    "version": 3
   },
   "file_extension": ".py",
   "mimetype": "text/x-python",
   "name": "python",
   "nbconvert_exporter": "python",
   "pygments_lexer": "ipython3",
   "version": "3.10.0"
  }
 },
 "nbformat": 4,
 "nbformat_minor": 2
}
