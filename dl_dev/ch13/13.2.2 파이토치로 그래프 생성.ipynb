{
 "cells": [
  {
   "cell_type": "code",
   "execution_count": 2,
   "metadata": {},
   "outputs": [
    {
     "name": "stdout",
     "output_type": "stream",
     "text": [
      "스칼라(단일값) 입력 :  tensor(1)\n",
      "랭크 1 입력 :  tensor([1])\n",
      "랭크 2 입력 :  tensor([[1]])\n"
     ]
    }
   ],
   "source": [
    "# 간단한 그래프 생성\n",
    "import torch\n",
    "\n",
    "def compute_z(a,b,c):\n",
    "    r1=torch.sub(a,b) # -\n",
    "    r2=torch.mul(r1,2) #x\n",
    "    z=torch.add(r2,c) #+\n",
    "    return z\n",
    "\n",
    "print(f'스칼라(단일값) 입력 : ', compute_z(torch.tensor(1),torch.tensor(2),torch.tensor(3)))\n",
    "print(f'랭크 1 입력 : ', compute_z(torch.tensor([1]),torch.tensor([2]),torch.tensor([3])))\n",
    "print(f'랭크 2 입력 : ', compute_z(torch.tensor([[1]]),torch.tensor([[2]]),torch.tensor([[3]])))"
   ]
  },
  {
   "cell_type": "code",
   "execution_count": null,
   "metadata": {},
   "outputs": [
    {
     "data": {
      "text/html": [
       "<img src=\"https://raw.githubusercontent.com/rickiepark/ml-with-pytorch/main/ch13/figures/13_01.png\" width=\"400\"/>"
      ],
      "text/plain": [
       "<IPython.core.display.Image object>"
      ]
     },
     "execution_count": 3,
     "metadata": {},
     "output_type": "execute_result"
    }
   ],
   "source": [
    "from IPython.display import Image\n",
    "Image(url='https://raw.githubusercontent.com/rickiepark/ml-with-pytorch/main/ch13/figures/13_01.png', width=400)\n",
    "# ctrl + 터치 누르면 해당 사이트로 이동 "
   ]
  },
  {
   "cell_type": "code",
   "execution_count": null,
   "metadata": {},
   "outputs": [],
   "source": []
  },
  {
   "cell_type": "code",
   "execution_count": null,
   "metadata": {},
   "outputs": [],
   "source": []
  },
  {
   "cell_type": "code",
   "execution_count": null,
   "metadata": {},
   "outputs": [],
   "source": []
  },
  {
   "cell_type": "code",
   "execution_count": null,
   "metadata": {},
   "outputs": [],
   "source": []
  },
  {
   "cell_type": "code",
   "execution_count": null,
   "metadata": {},
   "outputs": [],
   "source": []
  },
  {
   "cell_type": "code",
   "execution_count": null,
   "metadata": {},
   "outputs": [],
   "source": []
  }
 ],
 "metadata": {
  "kernelspec": {
   "display_name": "dl_dev",
   "language": "python",
   "name": "python3"
  },
  "language_info": {
   "codemirror_mode": {
    "name": "ipython",
    "version": 3
   },
   "file_extension": ".py",
   "mimetype": "text/x-python",
   "name": "python",
   "nbconvert_exporter": "python",
   "pygments_lexer": "ipython3",
   "version": "3.10.0"
  }
 },
 "nbformat": 4,
 "nbformat_minor": 2
}
