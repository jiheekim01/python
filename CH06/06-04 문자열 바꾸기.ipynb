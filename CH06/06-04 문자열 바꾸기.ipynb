{
 "cells": [
  {
   "cell_type": "code",
   "execution_count": 1,
   "metadata": {},
   "outputs": [],
   "source": [
    "import re"
   ]
  },
  {
   "cell_type": "code",
   "execution_count": 4,
   "metadata": {},
   "outputs": [
    {
     "name": "stdout",
     "output_type": "stream",
     "text": [
      "colour sockes and red shees\n",
      "colour sockes and red shees\n"
     ]
    }
   ],
   "source": [
    "# 패턴 생성 문자열 \n",
    "p_str = '(blue|white}red)'\n",
    "data = 'blue sockes and red shees'\n",
    "\n",
    "#  패턴 오브젝트 생성 (틀 생성)\n",
    "pat = re.compile(p_str)\n",
    "\n",
    "# pat.sub(변경할 문자열, data) : method : 패턴과 일치하는 문자열 변경\n",
    "print(pat.sub('colour',data))\n",
    "print(pat.sub('colour',data, count=1)) #count 바꿀 개수 지정\n",
    "\n"
   ]
  },
  {
   "cell_type": "code",
   "execution_count": null,
   "metadata": {},
   "outputs": [
    {
     "data": {
      "text/plain": [
       "'010-1234-1234park'"
      ]
     },
     "execution_count": 5,
     "metadata": {},
     "output_type": "execute_result"
    }
   ],
   "source": [
    "# sum 메소드 사용시 참조 구문 사용\n",
    "data = 'park 010-1234-1234'\n",
    "p_str = r'(?P<name>\\w+)\\s+(?P<phoner>(\\d+)[-]\\d+[-]\\d+)'\n",
    "\n",
    "pat = re.compile(p_str)\n",
    "\n",
    "pat.sub('\\g<phone> \\g<name>',data)"
   ]
  },
  {
   "cell_type": "code",
   "execution_count": 6,
   "metadata": {},
   "outputs": [],
   "source": [
    "# sub 메소드 입력인수(argument)에 함수 넣기\n",
    "# 내장 함수 => filter, map, zip , minimulate\n",
    "# sub : 변경 \n",
    "\n",
    "# 함수 : 특정문자열에 있는 정수를 찾아서=>16진수로 변환해서 반환\n",
    "def hexrepl(match): #match object를 받는함수다\n",
    "    '''\n",
    "    특정문자열에 있는 정수를 찾아서=>16진수로 변환해서 반환\n",
    "    paramete match : match object\n",
    "    '''\n",
    "    value = int(match.group())\n",
    "    return hex(value)\n",
    "\n",
    "\n",
    " "
   ]
  },
  {
   "cell_type": "code",
   "execution_count": 7,
   "metadata": {},
   "outputs": [
    {
     "data": {
      "text/plain": [
       "'Call 0xffd2 fro printing, 0xc000 for user code.'"
      ]
     },
     "execution_count": 7,
     "metadata": {},
     "output_type": "execute_result"
    }
   ],
   "source": [
    "p_str = '\\d+'\n",
    "data = 'Call 65490 fro printing, 49152 for user code.'\n",
    "\n",
    "pat = re.compile(p_str)\n",
    "# pat.sub(함수, data)\n",
    "pat.sub(hexrepl, data)"
   ]
  },
  {
   "cell_type": "code",
   "execution_count": null,
   "metadata": {},
   "outputs": [],
   "source": []
  }
 ],
 "metadata": {
  "kernelspec": {
   "display_name": "firstenv",
   "language": "python",
   "name": "python3"
  },
  "language_info": {
   "codemirror_mode": {
    "name": "ipython",
    "version": 3
   },
   "file_extension": ".py",
   "mimetype": "text/x-python",
   "name": "python",
   "nbconvert_exporter": "python",
   "pygments_lexer": "ipython3",
   "version": "3.10.16"
  }
 },
 "nbformat": 4,
 "nbformat_minor": 2
}
