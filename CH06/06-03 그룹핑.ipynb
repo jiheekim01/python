{
 "cells": [
  {
   "cell_type": "code",
   "execution_count": 12,
   "metadata": {},
   "outputs": [
    {
     "name": "stdout",
     "output_type": "stream",
     "text": [
      "park 010-1234-1234\n",
      "park\n",
      "park\n",
      "010-1234-1234\n"
     ]
    }
   ],
   "source": [
    "# 연락처 문자열에서 이름만 추출\n",
    "# 'park 010-1234-1234': 알파벳 여러개 공백 숫자- 숫자-숫자\n",
    "# \\w+ : 알파벳 여러개\n",
    "# \\s+ : 공백 1개 이상\n",
    "# 숫자(3자리 - 010 )-숫자(4자리)-숫자(4자리)\n",
    "import re\n",
    "data = 'park 010-1234-1234'  #알파벳 여러개 공백 숫자- 숫자-숫자\n",
    "# data = 'park 031-1234-1234'  #알파벳 여러개 공백 숫자- 숫자-숫자\n",
    "\n",
    "# 국번 : 02, 031,\n",
    "p_str = '(?P<name>\\w+)\\s+(010[-]\\d{4}[-]\\d{4})'\n",
    "# p_str = '(\\w+)\\s+((\\d{2,3})[-]\\d{4}[-]\\d{4})'\n",
    "\n",
    "pat = re.compile(p_str)\n",
    "m = pat.search(data)\n",
    "print(m.group())\n",
    "print(m.group().split()[0])\n",
    "print(m.group('name'))\n",
    "print(m.group(2))\n",
    "# print(m.group(3))"
   ]
  },
  {
   "cell_type": "code",
   "execution_count": null,
   "metadata": {},
   "outputs": [
    {
     "data": {
      "text/plain": [
       "'the the'"
      ]
     },
     "execution_count": 11,
     "metadata": {},
     "output_type": "execute_result"
    }
   ],
   "source": [
    "# 재참조 \n",
    "# the the : the를 찾아냄 \n",
    "data = 'Paris in the the spring'\n",
    "p_str = r'(\\b\\w+)\\s+\\1' # \\b 는 r 을 붙여야 함,\n",
    "re.search(pattern=p_str, string=data).group()"
   ]
  },
  {
   "cell_type": "code",
   "execution_count": 13,
   "metadata": {},
   "outputs": [
    {
     "name": "stdout",
     "output_type": "stream",
     "text": [
      "http\n"
     ]
    }
   ],
   "source": [
    "# 전방탐색 \n",
    "pat = re.compile('.+:')\n",
    "m = pat.search('http://google.com')\n",
    "print(m.group()[:-1]) #http: => http 만 추출"
   ]
  },
  {
   "cell_type": "code",
   "execution_count": null,
   "metadata": {},
   "outputs": [
    {
     "name": "stdout",
     "output_type": "stream",
     "text": [
      "http\n"
     ]
    }
   ],
   "source": [
    "# 전방탐색 \n",
    "pat = re.compile('.+(?=:)') # 긍정 전방탐색\n",
    "# pat = re.compile('.+(?!:)') # 부정 전방탐색\n",
    "m = pat.search('http://google.com')\n",
    "print(m.group()) #http: => http 만 추출"
   ]
  },
  {
   "cell_type": "code",
   "execution_count": null,
   "metadata": {},
   "outputs": [],
   "source": [
    "# 예제 \n",
    "# foo, bar, autoexec.bat, sendmaill.cf\n",
    "# 파일명(알파벳, 숫자) + . + 확장자 (알파벳, 숫자)\n",
    "# .*                   [.]    .*$\n",
    "# .*[.].*$\n",
    "# 위 파일에서 bat 인 파일을 제외\n",
    "# .*[.][^b].*$ => bar도 포함된다\n",
    "# .*[.]([^b]..|.[^a].|..[^t])$ cf 에서 문제 발생 \n",
    "# .*[.]([^b]..?|.[^a].?|..[^t]?)$ --> ? 는 없거나 한개 : {0,1}  \n",
    "#  bat 가 아닌 것들만 통과하자 -> .*[.](?!bat$).*$ => 정방탐색 \n",
    "# | : or 의 의미 \n",
    "\n",
    " \n",
    "\n"
   ]
  },
  {
   "cell_type": "code",
   "execution_count": null,
   "metadata": {},
   "outputs": [
    {
     "data": {
      "text/plain": [
       "['user1', 'user3']"
      ]
     },
     "execution_count": 16,
     "metadata": {},
     "output_type": "execute_result"
    }
   ],
   "source": [
    "# 메일 가운데 gmail 인 사원 추출 \n",
    "email_data= 'user1@gmail.com user2@naver.com user3@gmail.com' \n",
    "\n",
    "pattern = '\\w+@gmail[.]com'\n",
    "\n",
    "re.findall(pattern, email_data) # 긍정 정방탐색\n",
    "\n",
    "# 메일 가운데 gmail 인 사원명 추출 \n",
    "email_data= 'user1@gmail.com user2@naver.com user3@gmail.com' \n",
    "\n",
    "pattern = '\\w+(?=@gmail[.]com)'\n",
    "\n",
    "re.findall(pattern, email_data) # 긍정 정방탐색색"
   ]
  },
  {
   "cell_type": "code",
   "execution_count": 17,
   "metadata": {},
   "outputs": [
    {
     "data": {
      "text/plain": [
       "['test', 'test']"
      ]
     },
     "execution_count": 17,
     "metadata": {},
     "output_type": "execute_result"
    }
   ],
   "source": [
    "# 부정 전방 탐색 \n",
    "# aaa가 뒤에 나오지 않는 test만 추출 \n",
    "text = 'testaaa test123 test'\n",
    "pattern = 'test(?!aaa)'\n",
    "\n",
    "re.findall(pattern, text)"
   ]
  },
  {
   "cell_type": "code",
   "execution_count": 18,
   "metadata": {},
   "outputs": [
    {
     "data": {
      "text/plain": [
       "['word', 'word']"
      ]
     },
     "execution_count": 18,
     "metadata": {},
     "output_type": "execute_result"
    }
   ],
   "source": [
    "# 긍정 부정 다 사용 \n",
    "# word 다음에 123 이 있는 경우만 찾되, 456은 제외\n",
    "data = 'word123 word456 word789 word123'\n",
    "pattern = 'word(?=123)(?!456)'\n",
    "\n",
    "re.findall(pattern, data) "
   ]
  }
 ],
 "metadata": {
  "kernelspec": {
   "display_name": "firstenv",
   "language": "python",
   "name": "python3"
  },
  "language_info": {
   "codemirror_mode": {
    "name": "ipython",
    "version": 3
   },
   "file_extension": ".py",
   "mimetype": "text/x-python",
   "name": "python",
   "nbconvert_exporter": "python",
   "pygments_lexer": "ipython3",
   "version": "3.10.16"
  }
 },
 "nbformat": 4,
 "nbformat_minor": 2
}
