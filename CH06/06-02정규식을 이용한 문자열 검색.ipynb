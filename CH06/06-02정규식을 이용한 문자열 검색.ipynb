{
 "cells": [
  {
   "cell_type": "code",
   "execution_count": null,
   "metadata": {},
   "outputs": [
    {
     "name": "stdout",
     "output_type": "stream",
     "text": [
      "<re.Match object; span=(0, 6), match='python'>\n",
      "python\n",
      "['python']\n",
      "<re.Match object; span=(0, 6), match='python'>\n",
      "python\n"
     ]
    }
   ],
   "source": [
    "#  match 메소드\n",
    "import re\n",
    "\n",
    "# 패턴 생성 : compile() function -> return pattern object \n",
    "p_str = '[a-z]+' # 소문자 한개 이상\n",
    "pat = re.compile(p_str)\n",
    "\n",
    "str_ = 'python' # 매칭할 문자열\n",
    "m = pat.match(str_)  # 처음부터 찾을 수 았더\n",
    "s1 = pat.search(str_) # 중간부터 찾을 수 있다\n",
    "f = pat.findall(str_)\n",
    "print(m) # -> match => return match object\n",
    "if m != None:  #  = m:  // not m (python 없다)// m != None:\n",
    "    print(m.group())\n",
    "else:\n",
    "    print('match없다')\n",
    "print(f) # findall \n",
    "print(s1) # search => return match object \n",
    "print(s1.group())"
   ]
  },
  {
   "cell_type": "code",
   "execution_count": null,
   "metadata": {},
   "outputs": [
    {
     "name": "stdout",
     "output_type": "stream",
     "text": [
      "['life', 'shor']\n"
     ]
    }
   ],
   "source": [
    "# Findall\n",
    "p_str = '[^a-z]+' # + 가 빠지면 소문자 한자씩 찾기\n",
    "p_str = '[a-z]{3,5}' # + 가 빠지면 소문자 한자씩 찾기\n",
    "p_str = '[a-z]{4}' # 4자 까지 찾기\n",
    "pat = re.compile(p_str)\n",
    "\n",
    "str_ = 'life-is-too-short'\n",
    "result = pat.findall(str_)\n",
    "print(result)"
   ]
  },
  {
   "cell_type": "code",
   "execution_count": 15,
   "metadata": {},
   "outputs": [
    {
     "name": "stdout",
     "output_type": "stream",
     "text": [
      "<callable_iterator object at 0x0000026B92323E20>\n",
      "<re.Match object; span=(0, 4), match='life'>\n",
      "life\n",
      "<re.Match object; span=(12, 16), match='shor'>\n",
      "shor\n"
     ]
    }
   ],
   "source": [
    "result = pat.finditer('life is too short')\n",
    "\n",
    "print(result)\n",
    "\n",
    "for iter in result:\n",
    "    print(iter)\n",
    "    print(iter.group())"
   ]
  },
  {
   "cell_type": "code",
   "execution_count": null,
   "metadata": {},
   "outputs": [
    {
     "name": "stdout",
     "output_type": "stream",
     "text": [
      "['python one', 'python two', 'python three']\n"
     ]
    }
   ],
   "source": [
    "import re\n",
    "\n",
    "p_str = '^python\\s\\w+' # ^ 있고 없고 의 차이 알기, \n",
    "pat = re.compile(p_str, re.MULTILINE) #^ 사용할때 multiline 사용\n",
    "\n",
    "data = '''python one\n",
    "life is too short\n",
    "python two\n",
    "you need python\n",
    "python three'''\n",
    "\n",
    "\n",
    "print(pat.findall(data))\n"
   ]
  },
  {
   "cell_type": "code",
   "execution_count": null,
   "metadata": {},
   "outputs": [],
   "source": [
    "# 정규식 표현식 : multiple \n",
    "import\n",
    "p_str = 'python\\s\\str'\n",
    "pat = re.compile(p_str, )\n",
    " \n",
    "\n",
    "\n"
   ]
  },
  {
   "cell_type": "code",
   "execution_count": null,
   "metadata": {},
   "outputs": [],
   "source": []
  },
  {
   "cell_type": "code",
   "execution_count": null,
   "metadata": {},
   "outputs": [],
   "source": []
  },
  {
   "cell_type": "code",
   "execution_count": null,
   "metadata": {},
   "outputs": [],
   "source": []
  }
 ],
 "metadata": {
  "kernelspec": {
   "display_name": "firstenv",
   "language": "python",
   "name": "python3"
  },
  "language_info": {
   "codemirror_mode": {
    "name": "ipython",
    "version": 3
   },
   "file_extension": ".py",
   "mimetype": "text/x-python",
   "name": "python",
   "nbconvert_exporter": "python",
   "pygments_lexer": "ipython3",
   "version": "3.10.16"
  }
 },
 "nbformat": 4,
 "nbformat_minor": 2
}
