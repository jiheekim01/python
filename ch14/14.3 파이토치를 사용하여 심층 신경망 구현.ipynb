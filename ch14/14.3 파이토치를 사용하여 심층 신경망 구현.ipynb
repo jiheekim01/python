{
 "cells": [
  {
   "cell_type": "code",
   "execution_count": null,
   "metadata": {},
   "outputs": [
    {
     "name": "stdout",
     "output_type": "stream",
     "text": [
      "Downloading http://yann.lecun.com/exdb/mnist/train-images-idx3-ubyte.gz\n",
      "Failed to download (trying next):\n",
      "HTTP Error 404: Not Found\n",
      "\n",
      "Downloading https://ossci-datasets.s3.amazonaws.com/mnist/train-images-idx3-ubyte.gz\n",
      "Downloading https://ossci-datasets.s3.amazonaws.com/mnist/train-images-idx3-ubyte.gz to ./MNIST\\raw\\train-images-idx3-ubyte.gz\n"
     ]
    },
    {
     "name": "stderr",
     "output_type": "stream",
     "text": [
      "100.0%\n"
     ]
    },
    {
     "name": "stdout",
     "output_type": "stream",
     "text": [
      "Extracting ./MNIST\\raw\\train-images-idx3-ubyte.gz to ./MNIST\\raw\n",
      "\n",
      "Downloading http://yann.lecun.com/exdb/mnist/train-labels-idx1-ubyte.gz\n",
      "Failed to download (trying next):\n",
      "HTTP Error 404: Not Found\n",
      "\n",
      "Downloading https://ossci-datasets.s3.amazonaws.com/mnist/train-labels-idx1-ubyte.gz\n",
      "Downloading https://ossci-datasets.s3.amazonaws.com/mnist/train-labels-idx1-ubyte.gz to ./MNIST\\raw\\train-labels-idx1-ubyte.gz\n"
     ]
    },
    {
     "name": "stderr",
     "output_type": "stream",
     "text": [
      "100.0%\n"
     ]
    },
    {
     "name": "stdout",
     "output_type": "stream",
     "text": [
      "Extracting ./MNIST\\raw\\train-labels-idx1-ubyte.gz to ./MNIST\\raw\n",
      "\n",
      "Downloading http://yann.lecun.com/exdb/mnist/t10k-images-idx3-ubyte.gz\n",
      "Failed to download (trying next):\n",
      "HTTP Error 404: Not Found\n",
      "\n",
      "Downloading https://ossci-datasets.s3.amazonaws.com/mnist/t10k-images-idx3-ubyte.gz\n",
      "Downloading https://ossci-datasets.s3.amazonaws.com/mnist/t10k-images-idx3-ubyte.gz to ./MNIST\\raw\\t10k-images-idx3-ubyte.gz\n"
     ]
    },
    {
     "name": "stderr",
     "output_type": "stream",
     "text": [
      "100.0%\n"
     ]
    },
    {
     "name": "stdout",
     "output_type": "stream",
     "text": [
      "Extracting ./MNIST\\raw\\t10k-images-idx3-ubyte.gz to ./MNIST\\raw\n",
      "\n",
      "Downloading http://yann.lecun.com/exdb/mnist/t10k-labels-idx1-ubyte.gz\n",
      "Failed to download (trying next):\n",
      "HTTP Error 404: Not Found\n",
      "\n",
      "Downloading https://ossci-datasets.s3.amazonaws.com/mnist/t10k-labels-idx1-ubyte.gz\n",
      "Downloading https://ossci-datasets.s3.amazonaws.com/mnist/t10k-labels-idx1-ubyte.gz to ./MNIST\\raw\\t10k-labels-idx1-ubyte.gz\n"
     ]
    },
    {
     "name": "stderr",
     "output_type": "stream",
     "text": [
      "100.0%"
     ]
    },
    {
     "name": "stdout",
     "output_type": "stream",
     "text": [
      "Extracting ./MNIST\\raw\\t10k-labels-idx1-ubyte.gz to ./MNIST\\raw\n",
      "\n"
     ]
    },
    {
     "name": "stderr",
     "output_type": "stream",
     "text": [
      "\n"
     ]
    }
   ],
   "source": [
    "# MNIST 데이터 로딩\n",
    "import torchvision\n",
    "from torchvision import transforms\n",
    "import torch\n",
    "\n",
    "\n",
    "# 이미지 파일을 다운로드 : 지정도리 위치 지정=> ./ : 현재 디렉토리\n",
    "image_path = './'\n",
    "\n",
    "# 텐서 변환 , 0~1 정규화 됨\n",
    "transform = transforms.Compose([transforms.ToTensor()])\n",
    "\n",
    "\n",
    "mnist_dataset = torchvision.datasets.MNIST(root=image_path,\n",
    "                                           train=True, #학습데이터터\n",
    "                                           transform=transform,\n",
    "                                           download=True)\n",
    "\n",
    "\n",
    "from torch.utils.data import Subset\n",
    "mnist_valid_dataset = Subset(mnist_dataset, torch.arange(10000))\n",
    "mnist_train_dataset = Subset(mnist_dataset, torch.arange(10000, len(mnist_dataset)))\n",
    "mnist_test_dataset = torchvision.datasets.MNIST(root=image_path,\n",
    "                                           train=False, #태수투 데이터\n",
    "                                           transform=transform,\n",
    "                                           download=False)"
   ]
  },
  {
   "cell_type": "code",
   "execution_count": 2,
   "metadata": {},
   "outputs": [],
   "source": [
    "from torch.utils.data import DataLoader\n",
    "\n",
    "\n",
    "batch_size = 64\n",
    "torch.manual_seed(1)\n",
    "train_dl = DataLoader(mnist_train_dataset, batch_size, shuffle=True)\n",
    "valid_dl = DataLoader(mnist_valid_dataset, batch_size, shuffle=False)"
   ]
  },
  {
   "cell_type": "code",
   "execution_count": 5,
   "metadata": {},
   "outputs": [
    {
     "data": {
      "text/plain": [
       "Sequential(\n",
       "  (conv1): Conv2d(1, 32, kernel_size=(5, 5), stride=(1, 1), padding=(2, 2))\n",
       "  (relu1): ReLU()\n",
       "  (pool1): MaxPool2d(kernel_size=2, stride=2, padding=0, dilation=1, ceil_mode=False)\n",
       "  (conv2): Conv2d(32, 64, kernel_size=(5, 5), stride=(1, 1), padding=(2, 2))\n",
       "  (relu2): ReLU()\n",
       "  (pool2): MaxPool3d(kernel_size=2, stride=2, padding=0, dilation=1, ceil_mode=False)\n",
       ")"
      ]
     },
     "execution_count": 5,
     "metadata": {},
     "output_type": "execute_result"
    }
   ],
   "source": [
    "# cnn 신경망 구성 \n",
    "import torch.nn as nn\n",
    "\n",
    "# 계산그래프 정의\n",
    "model=nn.Sequential()\n",
    "# 첫번쨰 cnn 층을 추가 :입력받는 층이고, 출력은 out_channels로 결정된다다\n",
    "model.add_module(\n",
    "    'conv1', #레퍼런스 변수수\n",
    "    nn.Conv2d(  #입력정의 \n",
    "        in_channels=1, #색상 : 흑백 \n",
    "        out_channels=32, #필터 (커널) 개수\n",
    "        kernel_size=5, # (5,5)\n",
    "        padding=2 #zero padding \n",
    "        )\n",
    ")\n",
    "# 활성화 함수 지정\n",
    "model.add_module('relu1', nn.ReLU()) #가중치없다, 변환해주는 함수다\n",
    "\n",
    "#  폴링층 설정\n",
    "model.add_module('pool1', nn.MaxPool2d(kernel_size=2)) #2-> (2,2)\n",
    "\n",
    "# 두번째 cnn 층 설정\n",
    "model.add_module(\n",
    "    'conv2',\n",
    "    nn.Conv2d(\n",
    "        in_channels=32,\n",
    "        out_channels=64,\n",
    "        kernel_size=5,\n",
    "        padding=2\n",
    "    )\n",
    ")\n",
    "model.add_module('relu2', nn.ReLU())\n",
    "model.add_module('pool2', nn.MaxPool3d(kernel_size=2))\n",
    "\n",
    "model\n"
   ]
  },
  {
   "cell_type": "code",
   "execution_count": 6,
   "metadata": {},
   "outputs": [
    {
     "data": {
      "text/plain": [
       "torch.Size([4, 32, 7, 7])"
      ]
     },
     "execution_count": 6,
     "metadata": {},
     "output_type": "execute_result"
    }
   ],
   "source": [
    "# x-> 다 1들어있는 임의 데이터\n",
    "x=torch.ones((4,1,28,28)) #4 : batch_size\n",
    "model(x).shape"
   ]
  },
  {
   "cell_type": "code",
   "execution_count": 8,
   "metadata": {},
   "outputs": [
    {
     "data": {
      "text/plain": [
       "Sequential(\n",
       "  (conv1): Conv2d(1, 32, kernel_size=(5, 5), stride=(1, 1), padding=(2, 2))\n",
       "  (relu1): ReLU()\n",
       "  (pool1): MaxPool2d(kernel_size=2, stride=2, padding=0, dilation=1, ceil_mode=False)\n",
       "  (conv2): Conv2d(32, 64, kernel_size=(5, 5), stride=(1, 1), padding=(2, 2))\n",
       "  (relu2): ReLU()\n",
       "  (pool2): MaxPool3d(kernel_size=2, stride=2, padding=0, dilation=1, ceil_mode=False)\n",
       "  (flatten): Flatten(start_dim=1, end_dim=-1)\n",
       ")"
      ]
     },
     "execution_count": 8,
     "metadata": {},
     "output_type": "execute_result"
    }
   ],
   "source": [
    "# flatten layer create\n",
    "model.add_module('flatten', nn.Flatten())\n",
    "model"
   ]
  },
  {
   "cell_type": "code",
   "execution_count": 9,
   "metadata": {},
   "outputs": [
    {
     "data": {
      "text/plain": [
       "torch.Size([4, 1568])"
      ]
     },
     "execution_count": 9,
     "metadata": {},
     "output_type": "execute_result"
    }
   ],
   "source": [
    "x=torch.ones([4,1,28,28])\n",
    "# torch.size([]4, 64, 7, 7))\n",
    "# flatten\n",
    "model(x).shape"
   ]
  },
  {
   "cell_type": "code",
   "execution_count": 10,
   "metadata": {},
   "outputs": [
    {
     "data": {
      "text/plain": [
       "Sequential(\n",
       "  (conv1): Conv2d(1, 32, kernel_size=(5, 5), stride=(1, 1), padding=(2, 2))\n",
       "  (relu1): ReLU()\n",
       "  (pool1): MaxPool2d(kernel_size=2, stride=2, padding=0, dilation=1, ceil_mode=False)\n",
       "  (conv2): Conv2d(32, 64, kernel_size=(5, 5), stride=(1, 1), padding=(2, 2))\n",
       "  (relu2): ReLU()\n",
       "  (pool2): MaxPool3d(kernel_size=2, stride=2, padding=0, dilation=1, ceil_mode=False)\n",
       "  (flatten): Flatten(start_dim=1, end_dim=-1)\n",
       "  (linear1): Linear(in_features=3136, out_features=1024, bias=True)\n",
       "  (relu3): ReLU()\n",
       "  (dropout1): Dropout(p=0.5, inplace=False)\n",
       "  (linear2): Linear(in_features=1024, out_features=10, bias=True)\n",
       ")"
      ]
     },
     "execution_count": 10,
     "metadata": {},
     "output_type": "execute_result"
    }
   ],
   "source": [
    "# 분류에 사용되는 선형신경망을 2개 추가 : 10진분류 (output 이 10개여야 한다)\n",
    "model.add_module('linear1', nn.Linear(in_features=3136, out_features=1024))#2의 10승\n",
    "model.add_module('relu3', nn.ReLU())\n",
    "model.add_module('dropout1', nn.Dropout(p=0.5)) #신경망에서의 규제(일반화성능을 높이기위해)\n",
    "# 마지막 출력 선형 신경망을 추가\n",
    "model.add_module('linear2', nn.Linear(1024,10))\n",
    "model"
   ]
  },
  {
   "cell_type": "code",
   "execution_count": 12,
   "metadata": {},
   "outputs": [],
   "source": [
    "import torch\n",
    "import torch.nn as nn\n",
    "\n",
    "model = nn.Sequential(\n",
    "    nn.Conv2d(1, 32, kernel_size=5, padding=2),  # (1, 28, 28) → (32, 28, 28)\n",
    "    nn.ReLU(),\n",
    "    nn.MaxPool2d(kernel_size=2),                # (32, 14, 14)\n",
    "    \n",
    "    nn.Conv2d(32, 64, kernel_size=5, padding=2), # (64, 14, 14)\n",
    "    nn.ReLU(),\n",
    "    nn.MaxPool2d(kernel_size=2),                # (64, 7, 7)\n",
    "    \n",
    "    nn.Flatten(),                               # (64 * 7 * 7) = 3136\n",
    "    nn.Linear(3136, 128),                        # ⚠️ 3136 입력 필요\n",
    "    nn.ReLU(),\n",
    "    nn.Linear(128, 10)                           # 출력 클래스 수: 예시로 10개\n",
    ")\n"
   ]
  },
  {
   "cell_type": "code",
   "execution_count": 13,
   "metadata": {},
   "outputs": [
    {
     "name": "stdout",
     "output_type": "stream",
     "text": [
      "torch.Size([4, 10])\n"
     ]
    }
   ],
   "source": [
    "x = torch.ones([4, 1, 28, 28])  # 배치 크기: 4\n",
    "out = model(x)\n",
    "print(out.shape)  # 👉 torch.Size([4, 10])\n"
   ]
  },
  {
   "cell_type": "code",
   "execution_count": null,
   "metadata": {},
   "outputs": [
    {
     "name": "stdout",
     "output_type": "stream",
     "text": [
      "모델이 위치한 디바이스 : cpu\n",
      "MNIST 데이터가 위치한 디바이스 : cpu\n"
     ]
    }
   ],
   "source": [
    "model_device=next(model.parameters()).device\n",
    "print(f'모델이 위치한 디바이스 : {model_device}')\n",
    "\n",
    "\n",
    "# MNIST 데이터의 디바이스 확인\n",
    "data_device=mnist_test_dataset.data.device\n",
    "print(f'MNIST 데이터가 위치한 디바이스 : {data_device}')"
   ]
  },
  {
   "cell_type": "code",
   "execution_count": 17,
   "metadata": {},
   "outputs": [
    {
     "name": "stdout",
     "output_type": "stream",
     "text": [
      "현재 사용 가능한 장치 : cpu\n",
      "모델이 위치한 디바이스 : cpu\n"
     ]
    }
   ],
   "source": [
    "# model 을 gpu로 보낵기\n",
    "device=torch.device('cuda' if torch.cuda.is_available() else 'cpu')\n",
    "print(f'현재 사용 가능한 장치 : {device}')\n",
    "\n",
    "# 모델 보내기\n",
    "model=model.to(device)\n",
    "# 모델이 어디 있는지 확인 코드드\n",
    "model_device=next(model.parameters()).device\n",
    "print(f'모델이 위치한 디바이스 : {model_device}')\n"
   ]
  },
  {
   "cell_type": "code",
   "execution_count": null,
   "metadata": {},
   "outputs": [
    {
     "ename": "SyntaxError",
     "evalue": "invalid syntax (654422144.py, line 20)",
     "output_type": "error",
     "traceback": [
      "\u001b[1;36m  Cell \u001b[1;32mIn[19], line 20\u001b[1;36m\u001b[0m\n\u001b[1;33m    for in train\u001b[0m\n\u001b[1;37m        ^\u001b[0m\n\u001b[1;31mSyntaxError\u001b[0m\u001b[1;31m:\u001b[0m invalid syntax\n"
     ]
    }
   ],
   "source": [
    "# 학습을 진행하는 함수 \n",
    "# num_epochs, train_dl, valid_dl, model, loss_fn, optimizer\n",
    "def train():#함수가 돌아가는 데 필요한 재료 : optimizer,train data, test data, \n",
    "    # 에포크 개수 반복 : num_epochs\n",
    "    # 예측값 추출 : model (학습데이터):train_dl\n",
    "    # 오차 : loss_fn (예측값, 원래답)\n",
    "    # 최적화 : otimizer\n",
    "    # 1에폭마다 평가 : valid data, valid data label -> valid_dl\n",
    "    # return\n",
    "    # 학습데이터에 대한 오차, 검증데이터 오차, 학습데이터 정확도, 검증데이터 정확도도\n",
    "    def train(model, num_epochs, train_dl, valid_dl, loss_fn, optimizer):\n",
    "        loss_hist_train=[0] * num_epochs #cpu\n",
    "        accuracy_hist_train=[0] * num_epochs #cpu \n",
    "        loss_hist_valid[0] * num_epochs #cpu\n",
    "        accuracy_hist_valid[0] * num_epochs #cpu\n",
    "        \n",
    "        for epoch in range(num_epochs):\n",
    "            # 모델을 학습 모드로 설정\n",
    "            model.train()\n",
    "            for x_batch, y_batch in train_dl: #100, 10 : 10번반복\n",
    "                x_batch=x_batch.to(device) #gpu로 보내라\n",
    "                y_batch=y_batch.to(device) #gpu로 보내라\n",
    "                pred=model(x_batch) #예측값 추출(배치만큼)\n",
    "                # pred 는 gpu \n",
    "                loss=loss_fn(pred, y_batch)\n",
    "                loss.backward() #가중치로 미분, 오차가 최소가 되는 \n",
    "                optimizer.step() # 배치만큼 가중치 수정\n",
    "                optimizer.zero_grad() #가중치 초기화\n",
    "                 \n",
    "                # 시각화 데이터 추출\n",
    "                # 전체 오차 누적 저장\n",
    "                loss_hist_train[epoch] += loss.item()*y_batch.size(0) #평균값 \n",
    "                # 누적 정학도 : 배치사이즈만큼 나온다다\n",
    "                is_correct=(torch.argmax(pred,dim=1)==y_batch).float()\n",
    "                accuracy_hist_train[epoch] +=is_correct.sum().cpu()\n",
    "            \n",
    "            # 1. epoch마다 평균오차, 평균 정확도\n",
    "            loss_hist_train[epoch] /= len(train_dl.dataset) #dataset의 lenght는 100\n",
    "            accuracy_hist_train[epoch] /= len(train_dl.dataset)\n",
    "             \n",
    "            # 모델을 평가 모드로 살장 : 결과를 위 리스트에 대입\n",
    "            model.eval() \n",
    "            with torch.no_grad():\n",
    "                for x_batch, y_batch in valid_dl:\n",
    "                    x_batch=x_batch.to(device)\n",
    "                    y_batch=y_batch.toi(device)\n",
    "                    \n",
    "                    pred=model(x_batch) #예측값 = 원래값\n",
    "                    loss=loss_fn(pred,y_batch)\n",
    "                    loss_hist_valid[epoch] += loss.item()*y_batch.size(0)\n",
    "                    \n",
    "                    is_correct = (torch.argmaz(pred.dim=1)==y_batch).float()\n",
    "                    accuracy_hist_valid += is_correct.sum().cpu()\n",
    "                    # 여기까지는 1배치만큼씩 처리\n",
    "                    \n",
    "            loss_hist_valid[epoch] /= len(valid_dl.dataset)\n",
    "            accuracy_hist_valid[epoch] /= len(valid_dl.dataset)\n",
    "            \n",
    "            # 학습데이터 정확도와 검증데이터의 정확도 출력\n",
    "            print9(f'애포크 : {epoch}, 학습정확도 : {accuracy_hist_train{epoch}.4f}\n",
    "                   검증정확도 : {accuracy_hist_valid{epoch}.4f}')\n",
    "            return loss_hist_train, loss_hist_valid, accuracy_hist_train, accuracy_hist_valid\n",
    "                    \n",
    "    # train data, test data \n",
    "    "
   ]
  },
  {
   "cell_type": "code",
   "execution_count": 20,
   "metadata": {},
   "outputs": [],
   "source": [
    "# 학습을 진행하는 함수\n",
    "# num_epochs, train_dl, vaild_dl, model, loss_fn, optimizer\n",
    "# epoch 개수 반복 : num_epochs\n",
    "# 예측값 추출 : model(학습데이터) : train_dl\n",
    "# 오차 : loss_fn(예측값, 원래답데이터)\n",
    "# # 최적화 : optimizer\n",
    "# 1에폭마다 평가 : valid data + valid data label => valid_dl\n",
    "# return 에포마다\n",
    "# 학습데이터에 대한 오차, 검증 데이터 오차, 학습데이터 정확도, 검증 정확도\n",
    "def train(model, num_epochs, train_dl, valid_dl, loss_fn, optimizer):\n",
    "    loss_hist_train=[0] * num_epochs # cpu\n",
    "    accuracy_hist_train=[0] * num_epochs # cpu\n",
    "    loss_hist_valid=[0] * num_epochs # cpu\n",
    "    accuracy_hist_valid=[0] * num_epochs # cpu\n",
    "   \n",
    "    for epoch in range(num_epochs):\n",
    "        # 모델을 학습 모드로 설정\n",
    "        model.train()\n",
    "        for x_batch, y_batch in train_dl: # 100 , 10 : 10번 반복\n",
    "            x_batch=x_batch.to(device) # gpu로 보내라\n",
    "            y_batch=y_batch.to(device) # gpu로 보내라\n",
    "            pred=model(x_batch) # 예측값 추출 (배치만큼)\n",
    "            loss=loss_fn(pred, y_batch)\n",
    "            loss.backward() # 가중치로 미분, 오차가 최소가 되는\n",
    "            optimizer.step() # 가중치 수정\n",
    "            optimizer.zero_grad() # 가중치 초기화\n",
    "           \n",
    "            # 시각화 데이터 추출\n",
    "            # 전체 오차 누적 저장\n",
    "            loss_hist_train[epoch] += loss.item()*y_batch.size(0)\n",
    "            # 누적 정확도 : 배치사이즈만큼 나온다\n",
    "            is_correct=(torch.argmax(pred,dim=1)==y_batch).float()\n",
    "            accuracy_hist_train[epoch] +=is_correct.sum().cpu()\n",
    "        # 1 epoch마다 평균 오차, 평균 정확도\n",
    "        loss_hist_train[epoch] /= len(train_dl.dataset)\n",
    "        accuracy_hist_train[epoch] /= len(train_dl.dataset)\n",
    "       \n",
    "        # 모델을 평가 모드로 설정: 결과 위 리스트 대입\n",
    "        model.eval()\n",
    "        with torch.no_grad():\n",
    "            for x_batch, y_batch in valid_dl:\n",
    "                x_batch=x_batch.to(device)\n",
    "                y_batch=y_batch.to(device)\n",
    "               \n",
    "                pred=model(x_batch) # 예측값 - 원래값값\n",
    "                loss=loss_fn(pred,y_batch)\n",
    "                loss_hist_valid[epoch] += loss.item()*y_batch.size(0)\n",
    "                is_correct = (torch.argmax(pred,dim=1)==y_batch).float()\n",
    "                accuracy_hist_valid[epoch] += is_correct.sum().cpu()\n",
    "                # 여기까지는 1배치만큼씩 처리\n",
    "       \n",
    "        loss_hist_valid[epoch] /= len(valid_dl.dataset)        \n",
    "        accuracy_hist_valid[epoch] /= len(valid_dl.dataset)\n",
    "       \n",
    "        # 학습데이터 정확도와 검증데이터의 정확도 출력\n",
    "        print(f'에포크 : {epoch+1},학습정확도 : {accuracy_hist_train[epoch]:.4f}, 검증정확도 : {accuracy_hist_valid[epoch]:.4f} ')\n",
    "    return loss_hist_train, loss_hist_valid, accuracy_hist_train, accuracy_hist_valid "
   ]
  },
  {
   "cell_type": "code",
   "execution_count": 21,
   "metadata": {},
   "outputs": [
    {
     "name": "stdout",
     "output_type": "stream",
     "text": [
      "에포크 : 1,학습정확도 : 0.9484, 검증정확도 : 0.9824 \n",
      "에포크 : 2,학습정확도 : 0.9845, 검증정확도 : 0.9854 \n",
      "에포크 : 3,학습정확도 : 0.9896, 검증정확도 : 0.9859 \n",
      "에포크 : 4,학습정확도 : 0.9923, 검증정확도 : 0.9875 \n",
      "에포크 : 5,학습정확도 : 0.9943, 검증정확도 : 0.9885 \n",
      "에포크 : 6,학습정확도 : 0.9954, 검증정확도 : 0.9855 \n",
      "에포크 : 7,학습정확도 : 0.9957, 검증정확도 : 0.9875 \n",
      "에포크 : 8,학습정확도 : 0.9969, 검증정확도 : 0.9907 \n",
      "에포크 : 9,학습정확도 : 0.9976, 검증정확도 : 0.9898 \n",
      "에포크 : 10,학습정확도 : 0.9971, 검증정확도 : 0.9859 \n",
      "에포크 : 11,학습정확도 : 0.9979, 검증정확도 : 0.9890 \n",
      "에포크 : 12,학습정확도 : 0.9984, 검증정확도 : 0.9881 \n",
      "에포크 : 13,학습정확도 : 0.9984, 검증정확도 : 0.9910 \n",
      "에포크 : 14,학습정확도 : 0.9988, 검증정확도 : 0.9895 \n",
      "에포크 : 15,학습정확도 : 0.9984, 검증정확도 : 0.9902 \n",
      "에포크 : 16,학습정확도 : 0.9985, 검증정확도 : 0.9899 \n",
      "에포크 : 17,학습정확도 : 0.9986, 검증정확도 : 0.9888 \n",
      "에포크 : 18,학습정확도 : 0.9989, 검증정확도 : 0.9892 \n",
      "에포크 : 19,학습정확도 : 0.9985, 검증정확도 : 0.9903 \n",
      "에포크 : 20,학습정확도 : 0.9990, 검증정확도 : 0.9904 \n",
      "에포크 : 21,학습정확도 : 0.9993, 검증정확도 : 0.9903 \n",
      "에포크 : 22,학습정확도 : 0.9991, 검증정확도 : 0.9891 \n",
      "에포크 : 23,학습정확도 : 0.9987, 검증정확도 : 0.9892 \n",
      "에포크 : 24,학습정확도 : 0.9994, 검증정확도 : 0.9918 \n",
      "에포크 : 25,학습정확도 : 0.9992, 검증정확도 : 0.9895 \n",
      "에포크 : 26,학습정확도 : 0.9989, 검증정확도 : 0.9887 \n",
      "에포크 : 27,학습정확도 : 0.9997, 검증정확도 : 0.9896 \n",
      "에포크 : 28,학습정확도 : 0.9994, 검증정확도 : 0.9901 \n",
      "에포크 : 29,학습정확도 : 0.9992, 검증정확도 : 0.9915 \n",
      "에포크 : 30,학습정확도 : 0.9997, 검증정확도 : 0.9901 \n",
      "에포크 : 31,학습정확도 : 0.9984, 검증정확도 : 0.9917 \n",
      "에포크 : 32,학습정확도 : 0.9995, 검증정확도 : 0.9926 \n",
      "에포크 : 33,학습정확도 : 0.9995, 검증정확도 : 0.9917 \n",
      "에포크 : 34,학습정확도 : 0.9993, 검증정확도 : 0.9916 \n",
      "에포크 : 35,학습정확도 : 0.9996, 검증정확도 : 0.9881 \n",
      "에포크 : 36,학습정확도 : 0.9995, 검증정확도 : 0.9922 \n",
      "에포크 : 37,학습정확도 : 0.9989, 검증정확도 : 0.9885 \n",
      "에포크 : 38,학습정확도 : 0.9990, 검증정확도 : 0.9910 \n",
      "에포크 : 39,학습정확도 : 1.0000, 검증정확도 : 0.9921 \n",
      "에포크 : 40,학습정확도 : 1.0000, 검증정확도 : 0.9923 \n",
      "에포크 : 41,학습정확도 : 1.0000, 검증정확도 : 0.9922 \n",
      "에포크 : 42,학습정확도 : 1.0000, 검증정확도 : 0.9921 \n",
      "에포크 : 43,학습정확도 : 1.0000, 검증정확도 : 0.9921 \n",
      "에포크 : 44,학습정확도 : 1.0000, 검증정확도 : 0.9919 \n",
      "에포크 : 45,학습정확도 : 1.0000, 검증정확도 : 0.9920 \n",
      "에포크 : 46,학습정확도 : 1.0000, 검증정확도 : 0.9920 \n",
      "에포크 : 47,학습정확도 : 1.0000, 검증정확도 : 0.9919 \n",
      "에포크 : 48,학습정확도 : 1.0000, 검증정확도 : 0.9918 \n",
      "에포크 : 49,학습정확도 : 1.0000, 검증정확도 : 0.9922 \n",
      "에포크 : 50,학습정확도 : 1.0000, 검증정확도 : 0.9921 \n",
      "에포크 : 51,학습정확도 : 1.0000, 검증정확도 : 0.9921 \n",
      "에포크 : 52,학습정확도 : 1.0000, 검증정확도 : 0.9921 \n",
      "에포크 : 53,학습정확도 : 1.0000, 검증정확도 : 0.9921 \n",
      "에포크 : 54,학습정확도 : 1.0000, 검증정확도 : 0.9921 \n",
      "에포크 : 55,학습정확도 : 1.0000, 검증정확도 : 0.9923 \n",
      "에포크 : 56,학습정확도 : 1.0000, 검증정확도 : 0.9923 \n",
      "에포크 : 57,학습정확도 : 1.0000, 검증정확도 : 0.9923 \n",
      "에포크 : 58,학습정확도 : 1.0000, 검증정확도 : 0.9923 \n",
      "에포크 : 59,학습정확도 : 1.0000, 검증정확도 : 0.9924 \n",
      "에포크 : 60,학습정확도 : 1.0000, 검증정확도 : 0.9923 \n",
      "에포크 : 61,학습정확도 : 1.0000, 검증정확도 : 0.9924 \n",
      "에포크 : 62,학습정확도 : 1.0000, 검증정확도 : 0.9923 \n",
      "에포크 : 63,학습정확도 : 1.0000, 검증정확도 : 0.9924 \n",
      "에포크 : 64,학습정확도 : 1.0000, 검증정확도 : 0.9925 \n",
      "에포크 : 65,학습정확도 : 1.0000, 검증정확도 : 0.9924 \n",
      "에포크 : 66,학습정확도 : 1.0000, 검증정확도 : 0.9923 \n",
      "에포크 : 67,학습정확도 : 1.0000, 검증정확도 : 0.9922 \n",
      "에포크 : 68,학습정확도 : 1.0000, 검증정확도 : 0.9923 \n",
      "에포크 : 69,학습정확도 : 1.0000, 검증정확도 : 0.9923 \n",
      "에포크 : 70,학습정확도 : 1.0000, 검증정확도 : 0.9923 \n",
      "에포크 : 71,학습정확도 : 1.0000, 검증정확도 : 0.9925 \n",
      "에포크 : 72,학습정확도 : 1.0000, 검증정확도 : 0.9925 \n",
      "에포크 : 73,학습정확도 : 1.0000, 검증정확도 : 0.9923 \n",
      "에포크 : 74,학습정확도 : 1.0000, 검증정확도 : 0.9922 \n",
      "에포크 : 75,학습정확도 : 1.0000, 검증정확도 : 0.9924 \n",
      "에포크 : 76,학습정확도 : 1.0000, 검증정확도 : 0.9926 \n",
      "에포크 : 77,학습정확도 : 1.0000, 검증정확도 : 0.9925 \n",
      "에포크 : 78,학습정확도 : 1.0000, 검증정확도 : 0.9928 \n",
      "에포크 : 79,학습정확도 : 1.0000, 검증정확도 : 0.9929 \n",
      "에포크 : 80,학습정확도 : 1.0000, 검증정확도 : 0.9928 \n",
      "에포크 : 81,학습정확도 : 1.0000, 검증정확도 : 0.9930 \n",
      "에포크 : 82,학습정확도 : 1.0000, 검증정확도 : 0.9930 \n",
      "에포크 : 83,학습정확도 : 1.0000, 검증정확도 : 0.9927 \n",
      "에포크 : 84,학습정확도 : 1.0000, 검증정확도 : 0.9928 \n",
      "에포크 : 85,학습정확도 : 1.0000, 검증정확도 : 0.9930 \n",
      "에포크 : 86,학습정확도 : 1.0000, 검증정확도 : 0.9930 \n",
      "에포크 : 87,학습정확도 : 1.0000, 검증정확도 : 0.9931 \n",
      "에포크 : 88,학습정확도 : 1.0000, 검증정확도 : 0.9932 \n",
      "에포크 : 89,학습정확도 : 1.0000, 검증정확도 : 0.9929 \n",
      "에포크 : 90,학습정확도 : 1.0000, 검증정확도 : 0.9929 \n",
      "에포크 : 91,학습정확도 : 1.0000, 검증정확도 : 0.9928 \n",
      "에포크 : 92,학습정확도 : 1.0000, 검증정확도 : 0.9927 \n",
      "에포크 : 93,학습정확도 : 1.0000, 검증정확도 : 0.9926 \n",
      "에포크 : 94,학습정확도 : 1.0000, 검증정확도 : 0.9927 \n",
      "에포크 : 95,학습정확도 : 1.0000, 검증정확도 : 0.9929 \n",
      "에포크 : 96,학습정확도 : 1.0000, 검증정확도 : 0.9930 \n",
      "에포크 : 97,학습정확도 : 1.0000, 검증정확도 : 0.9928 \n",
      "에포크 : 98,학습정확도 : 1.0000, 검증정확도 : 0.9929 \n",
      "에포크 : 99,학습정확도 : 1.0000, 검증정확도 : 0.9929 \n",
      "에포크 : 100,학습정확도 : 1.0000, 검증정확도 : 0.9929 \n",
      "에포크 : 101,학습정확도 : 1.0000, 검증정확도 : 0.9928 \n",
      "에포크 : 102,학습정확도 : 1.0000, 검증정확도 : 0.9930 \n",
      "에포크 : 103,학습정확도 : 0.9982, 검증정확도 : 0.9900 \n",
      "에포크 : 104,학습정확도 : 0.9992, 검증정확도 : 0.9898 \n",
      "에포크 : 105,학습정확도 : 0.9994, 검증정확도 : 0.9899 \n",
      "에포크 : 106,학습정확도 : 0.9996, 검증정확도 : 0.9904 \n",
      "에포크 : 107,학습정확도 : 1.0000, 검증정확도 : 0.9916 \n",
      "에포크 : 108,학습정확도 : 1.0000, 검증정확도 : 0.9919 \n",
      "에포크 : 109,학습정확도 : 1.0000, 검증정확도 : 0.9920 \n",
      "에포크 : 110,학습정확도 : 1.0000, 검증정확도 : 0.9920 \n",
      "에포크 : 111,학습정확도 : 1.0000, 검증정확도 : 0.9919 \n",
      "에포크 : 112,학습정확도 : 1.0000, 검증정확도 : 0.9919 \n",
      "에포크 : 113,학습정확도 : 1.0000, 검증정확도 : 0.9918 \n",
      "에포크 : 114,학습정확도 : 1.0000, 검증정확도 : 0.9919 \n",
      "에포크 : 115,학습정확도 : 1.0000, 검증정확도 : 0.9918 \n",
      "에포크 : 116,학습정확도 : 1.0000, 검증정확도 : 0.9920 \n",
      "에포크 : 117,학습정확도 : 1.0000, 검증정확도 : 0.9921 \n",
      "에포크 : 118,학습정확도 : 1.0000, 검증정확도 : 0.9919 \n",
      "에포크 : 119,학습정확도 : 1.0000, 검증정확도 : 0.9920 \n",
      "에포크 : 120,학습정확도 : 1.0000, 검증정확도 : 0.9920 \n",
      "에포크 : 121,학습정확도 : 1.0000, 검증정확도 : 0.9921 \n",
      "에포크 : 122,학습정확도 : 1.0000, 검증정확도 : 0.9921 \n",
      "에포크 : 123,학습정확도 : 1.0000, 검증정확도 : 0.9921 \n",
      "에포크 : 124,학습정확도 : 1.0000, 검증정확도 : 0.9922 \n",
      "에포크 : 125,학습정확도 : 1.0000, 검증정확도 : 0.9923 \n",
      "에포크 : 126,학습정확도 : 1.0000, 검증정확도 : 0.9922 \n",
      "에포크 : 127,학습정확도 : 1.0000, 검증정확도 : 0.9922 \n",
      "에포크 : 128,학습정확도 : 1.0000, 검증정확도 : 0.9922 \n",
      "에포크 : 129,학습정확도 : 1.0000, 검증정확도 : 0.9922 \n",
      "에포크 : 130,학습정확도 : 1.0000, 검증정확도 : 0.9921 \n",
      "에포크 : 131,학습정확도 : 1.0000, 검증정확도 : 0.9920 \n",
      "에포크 : 132,학습정확도 : 1.0000, 검증정확도 : 0.9919 \n",
      "에포크 : 133,학습정확도 : 1.0000, 검증정확도 : 0.9919 \n",
      "에포크 : 134,학습정확도 : 1.0000, 검증정확도 : 0.9920 \n",
      "에포크 : 135,학습정확도 : 1.0000, 검증정확도 : 0.9919 \n",
      "에포크 : 136,학습정확도 : 1.0000, 검증정확도 : 0.9919 \n",
      "에포크 : 137,학습정확도 : 1.0000, 검증정확도 : 0.9919 \n",
      "에포크 : 138,학습정확도 : 1.0000, 검증정확도 : 0.9919 \n",
      "에포크 : 139,학습정확도 : 1.0000, 검증정확도 : 0.9918 \n",
      "에포크 : 140,학습정확도 : 1.0000, 검증정확도 : 0.9919 \n",
      "에포크 : 141,학습정확도 : 1.0000, 검증정확도 : 0.9918 \n",
      "에포크 : 142,학습정확도 : 1.0000, 검증정확도 : 0.9917 \n",
      "에포크 : 143,학습정확도 : 1.0000, 검증정확도 : 0.9919 \n",
      "에포크 : 144,학습정확도 : 1.0000, 검증정확도 : 0.9918 \n",
      "에포크 : 145,학습정확도 : 1.0000, 검증정확도 : 0.9919 \n",
      "에포크 : 146,학습정확도 : 1.0000, 검증정확도 : 0.9918 \n",
      "에포크 : 147,학습정확도 : 1.0000, 검증정확도 : 0.9920 \n",
      "에포크 : 148,학습정확도 : 1.0000, 검증정확도 : 0.9921 \n",
      "에포크 : 149,학습정확도 : 1.0000, 검증정확도 : 0.9917 \n",
      "에포크 : 150,학습정확도 : 1.0000, 검증정확도 : 0.9921 \n",
      "에포크 : 151,학습정확도 : 1.0000, 검증정확도 : 0.9920 \n",
      "에포크 : 152,학습정확도 : 1.0000, 검증정확도 : 0.9920 \n",
      "에포크 : 153,학습정확도 : 1.0000, 검증정확도 : 0.9919 \n",
      "에포크 : 154,학습정확도 : 1.0000, 검증정확도 : 0.9922 \n",
      "에포크 : 155,학습정확도 : 1.0000, 검증정확도 : 0.9922 \n",
      "에포크 : 156,학습정확도 : 1.0000, 검증정확도 : 0.9922 \n",
      "에포크 : 157,학습정확도 : 1.0000, 검증정확도 : 0.9922 \n",
      "에포크 : 158,학습정확도 : 1.0000, 검증정확도 : 0.9921 \n",
      "에포크 : 159,학습정확도 : 1.0000, 검증정확도 : 0.9923 \n",
      "에포크 : 160,학습정확도 : 1.0000, 검증정확도 : 0.9923 \n",
      "에포크 : 161,학습정확도 : 1.0000, 검증정확도 : 0.9923 \n",
      "에포크 : 162,학습정확도 : 1.0000, 검증정확도 : 0.9922 \n",
      "에포크 : 163,학습정확도 : 1.0000, 검증정확도 : 0.9921 \n",
      "에포크 : 164,학습정확도 : 1.0000, 검증정확도 : 0.9923 \n",
      "에포크 : 165,학습정확도 : 1.0000, 검증정확도 : 0.9923 \n",
      "에포크 : 166,학습정확도 : 1.0000, 검증정확도 : 0.9920 \n",
      "에포크 : 167,학습정확도 : 0.9993, 검증정확도 : 0.9794 \n",
      "에포크 : 168,학습정확도 : 0.9986, 검증정확도 : 0.9901 \n",
      "에포크 : 169,학습정확도 : 0.9997, 검증정확도 : 0.9919 \n",
      "에포크 : 170,학습정확도 : 0.9997, 검증정확도 : 0.9909 \n",
      "에포크 : 171,학습정확도 : 0.9990, 검증정확도 : 0.9903 \n",
      "에포크 : 172,학습정확도 : 0.9999, 검증정확도 : 0.9907 \n",
      "에포크 : 173,학습정확도 : 0.9994, 검증정확도 : 0.9898 \n",
      "에포크 : 174,학습정확도 : 0.9991, 검증정확도 : 0.9904 \n",
      "에포크 : 175,학습정확도 : 0.9996, 검증정확도 : 0.9901 \n",
      "에포크 : 176,학습정확도 : 0.9993, 검증정확도 : 0.9909 \n",
      "에포크 : 177,학습정확도 : 0.9993, 검증정확도 : 0.9898 \n",
      "에포크 : 178,학습정확도 : 0.9998, 검증정확도 : 0.9904 \n",
      "에포크 : 179,학습정확도 : 0.9993, 검증정확도 : 0.9910 \n",
      "에포크 : 180,학습정확도 : 0.9999, 검증정확도 : 0.9912 \n",
      "에포크 : 181,학습정확도 : 0.9995, 검증정확도 : 0.9901 \n",
      "에포크 : 182,학습정확도 : 0.9994, 검증정확도 : 0.9898 \n",
      "에포크 : 183,학습정확도 : 0.9994, 검증정확도 : 0.9902 \n",
      "에포크 : 184,학습정확도 : 0.9991, 검증정확도 : 0.9910 \n",
      "에포크 : 185,학습정확도 : 0.9996, 검증정확도 : 0.9920 \n",
      "에포크 : 186,학습정확도 : 0.9995, 검증정확도 : 0.9907 \n",
      "에포크 : 187,학습정확도 : 0.9996, 검증정확도 : 0.9907 \n",
      "에포크 : 188,학습정확도 : 0.9998, 검증정확도 : 0.9919 \n",
      "에포크 : 189,학습정확도 : 0.9995, 검증정확도 : 0.9894 \n",
      "에포크 : 190,학습정확도 : 0.9998, 검증정확도 : 0.9917 \n",
      "에포크 : 191,학습정확도 : 0.9994, 검증정확도 : 0.9914 \n",
      "에포크 : 192,학습정확도 : 0.9995, 검증정확도 : 0.9904 \n",
      "에포크 : 193,학습정확도 : 0.9996, 검증정확도 : 0.9911 \n",
      "에포크 : 194,학습정확도 : 0.9999, 검증정확도 : 0.9905 \n",
      "에포크 : 195,학습정확도 : 0.9991, 검증정확도 : 0.9888 \n",
      "에포크 : 196,학습정확도 : 0.9995, 검증정확도 : 0.9906 \n",
      "에포크 : 197,학습정확도 : 0.9998, 검증정확도 : 0.9916 \n",
      "에포크 : 198,학습정확도 : 0.9999, 검증정확도 : 0.9913 \n",
      "에포크 : 199,학습정확도 : 0.9993, 검증정확도 : 0.9891 \n",
      "에포크 : 200,학습정확도 : 0.9997, 검증정확도 : 0.9918 \n"
     ]
    }
   ],
   "source": [
    "# loss_fn, optimizer\n",
    "loss_fn=nn.CrossEntropyLoss()\n",
    "optimizer=torch.optim.Adam(model.parameters(), lr=0.001)\n",
    "num_epochs=200\n",
    "\n",
    "hist=train(model, num_epochs, train_dl, valid_dl, loss_fn, optimizer)"
   ]
  },
  {
   "cell_type": "code",
   "execution_count": null,
   "metadata": {},
   "outputs": [
    {
     "ename": "NameError",
     "evalue": "name 'np' is not defined",
     "output_type": "error",
     "traceback": [
      "\u001b[1;31m---------------------------------------------------------------------------\u001b[0m",
      "\u001b[1;31mNameError\u001b[0m                                 Traceback (most recent call last)",
      "Cell \u001b[1;32mIn[22], line 6\u001b[0m\n\u001b[0;32m      1\u001b[0m \u001b[38;5;28;01mimport\u001b[39;00m\u001b[38;5;250m \u001b[39m\u001b[38;5;21;01mmatplotlib\u001b[39;00m\u001b[38;5;21;01m.\u001b[39;00m\u001b[38;5;21;01mpyplot\u001b[39;00m\u001b[38;5;250m \u001b[39m\u001b[38;5;28;01mas\u001b[39;00m\u001b[38;5;250m \u001b[39m\u001b[38;5;21;01mplt\u001b[39;00m\n\u001b[1;32m----> 6\u001b[0m x_arr \u001b[38;5;241m=\u001b[39m \u001b[43mnp\u001b[49m\u001b[38;5;241m.\u001b[39marange(\u001b[38;5;28mlen\u001b[39m(hist[\u001b[38;5;241m0\u001b[39m])) \u001b[38;5;241m+\u001b[39m \u001b[38;5;241m1\u001b[39m\n\u001b[0;32m      9\u001b[0m fig \u001b[38;5;241m=\u001b[39m plt\u001b[38;5;241m.\u001b[39mfigure(figsize\u001b[38;5;241m=\u001b[39m(\u001b[38;5;241m12\u001b[39m, \u001b[38;5;241m4\u001b[39m))\n\u001b[0;32m     10\u001b[0m ax \u001b[38;5;241m=\u001b[39m fig\u001b[38;5;241m.\u001b[39madd_subplot(\u001b[38;5;241m1\u001b[39m, \u001b[38;5;241m2\u001b[39m, \u001b[38;5;241m1\u001b[39m)\n",
      "\u001b[1;31mNameError\u001b[0m: name 'np' is not defined"
     ]
    }
   ],
   "source": [
    "import matplotlib.pyplot as plt\n",
    "\n",
    "x_arr = np.arange(len(hist[0])) + 1\n",
    "\n",
    "\n",
    "fig = plt.figure(figsize=(12, 4))\n",
    "ax = fig.add_subplot(1, 2, 1)\n",
    "ax.plot(x_arr, hist[0], '-o', label='Train loss')\n",
    "ax.plot(x_arr, hist[1], '--<', label='Validation loss')\n",
    "ax.set_xlabel('Epoch', size=15)\n",
    "ax.set_ylabel('Loss', size=15)\n",
    "ax.legend(fontsize=15)\n",
    "ax = fig.add_subplot(1, 2, 2)\n",
    "ax.plot(x_arr, hist[2], '-o', label='Train acc.')\n",
    "ax.plot(x_arr, hist[3], '--<', label='Validation acc.')\n",
    "ax.legend(fontsize=15)\n",
    "ax.set_xlabel('Epoch', size=15)\n",
    "ax.set_ylabel('Accuracy', size=15)\n",
    "\n",
    "\n",
    "#plt.savefig('figures/14_13.png')\n",
    "plt.show()"
   ]
  },
  {
   "cell_type": "code",
   "execution_count": null,
   "metadata": {},
   "outputs": [],
   "source": []
  },
  {
   "cell_type": "code",
   "execution_count": null,
   "metadata": {},
   "outputs": [],
   "source": [
    "# 일반화 성능 :test data 예측값 추출 : 원래 비교 정확도]\n",
    "# mnist_test.dataset : cpu, modle : gpu\n",
    "# 추로할떄는 cpu 로 넘기는 것이 좋다 \n",
    "# gpu 연산이이 종료될 떄까지 기다리게 만들어야 한다\n",
    "torch.cuda.syncronize=() \n",
    "model.cpu()\n",
    "pred=model(mnist_test_dataset.data.unsqueeze(1)/255.)\n",
    "\n",
    "is_correct=(torch.argmax(pred,dim=1)==mnist_train_dataset.targets).float()\n",
    "print(f'테스트 정확도 : {is_correct.mean():.4f}')"
   ]
  },
  {
   "cell_type": "code",
   "execution_count": null,
   "metadata": {},
   "outputs": [],
   "source": [
    "fig = plt.figure(figsize=(12, 4))\n",
    "for i in range(12):\n",
    "    ax = fig.add_subplot(2, 6, i+1)\n",
    "    ax.set_xticks([]); ax.set_yticks([])\n",
    "    img = mnist_test_dataset[i][0][0, :, :]\n",
    "    pred = model(img.unsqueeze(0).unsqueeze(1))\n",
    "    y_pred = torch.argmax(pred)\n",
    "    ax.imshow(img, cmap='gray_r')\n",
    "    ax.text(0.9, 0.1, y_pred.item(),\n",
    "            size=15, color='blue',\n",
    "            horizontalalignment='center',\n",
    "            verticalalignment='center',\n",
    "            transform=ax.transAxes)\n",
    "\n",
    "\n",
    "#plt.savefig('figures/14_14.png')\n",
    "plt.show()\n"
   ]
  },
  {
   "cell_type": "code",
   "execution_count": null,
   "metadata": {},
   "outputs": [],
   "source": [
    "# 좋은 모델 생성 -> 저장 \n",
    "import os\n",
    "\n",
    "if not os.path.exists('models') #models 디렉토리가 존재하지 않으면 true \n",
    "path='models/mnist_cnn_09932_acc_250423.ph'\n",
    "torch.save(model, path)"
   ]
  },
  {
   "cell_type": "code",
   "execution_count": null,
   "metadata": {},
   "outputs": [],
   "source": []
  },
  {
   "cell_type": "code",
   "execution_count": null,
   "metadata": {},
   "outputs": [],
   "source": []
  },
  {
   "cell_type": "code",
   "execution_count": null,
   "metadata": {},
   "outputs": [],
   "source": []
  },
  {
   "cell_type": "code",
   "execution_count": null,
   "metadata": {},
   "outputs": [],
   "source": []
  },
  {
   "cell_type": "code",
   "execution_count": null,
   "metadata": {},
   "outputs": [],
   "source": []
  },
  {
   "cell_type": "code",
   "execution_count": null,
   "metadata": {},
   "outputs": [],
   "source": []
  }
 ],
 "metadata": {
  "kernelspec": {
   "display_name": "dl_dev",
   "language": "python",
   "name": "python3"
  },
  "language_info": {
   "codemirror_mode": {
    "name": "ipython",
    "version": 3
   },
   "file_extension": ".py",
   "mimetype": "text/x-python",
   "name": "python",
   "nbconvert_exporter": "python",
   "pygments_lexer": "ipython3",
   "version": "3.10.0"
  }
 },
 "nbformat": 4,
 "nbformat_minor": 2
}
