{
 "cells": [
  {
   "cell_type": "code",
   "execution_count": null,
   "metadata": {},
   "outputs": [
    {
     "ename": "SyntaxError",
     "evalue": "invalid syntax (311904586.py, line 1)",
     "output_type": "error",
     "traceback": [
      "\u001b[1;36m  Cell \u001b[1;32mIn[4], line 1\u001b[1;36m\u001b[0m\n\u001b[1;33m    from bs4\u001b[0m\n\u001b[1;37m             ^\u001b[0m\n\u001b[1;31mSyntaxError\u001b[0m\u001b[1;31m:\u001b[0m invalid syntax\n"
     ]
    },
    {
     "ename": "",
     "evalue": "",
     "output_type": "error",
     "traceback": [
      "\u001b[1;31mThe Kernel crashed while executing code in the current cell or a previous cell. \n",
      "\u001b[1;31mPlease review the code in the cell(s) to identify a possible cause of the failure. \n",
      "\u001b[1;31mClick <a href='https://aka.ms/vscodeJupyterKernelCrash'>here</a> for more info. \n",
      "\u001b[1;31mView Jupyter <a href='command:jupyter.viewOutput'>log</a> for further details."
     ]
    }
   ],
   "source": [
    "from bs4 \n",
    "\n",
    "\n",
    "# beautifulsoup object 생성 \n",
    "# html 문자열을 파싱 해야한다 -> DOM tree 생성 \n",
    "soup = BeautifulSoup(html, 'html.parser')\n",
    "\n",
    "# 태그 선택자 \n",
    "title = soup.title.text\n",
    "print('title : ',title)\n",
    "h1 = soup.h1.text\n",
    "print('h1 태그 : ', h1)\n",
    "p = soup.p.test\n",
    "print('p 태그 : ',p)\n",
    "\n",
    "\n"
   ]
  },
  {
   "cell_type": "code",
   "execution_count": null,
   "metadata": {},
   "outputs": [],
   "source": [
    "# 해당캐그의 모든 문자열을  tag를 찾는다 , 리스트로 반환,\n",
    "# find(tag) : 찾은 요소 중 첫번째거 반환, \n",
    "# \n",
    "from bs4 import BeautifulSoup\n",
    "\n",
    "html = \"\"\"\n",
    "<u1>\n",
    "    \n",
    "\n",
    "\"\"\"\n",
    "\n",
    "soup = BeautifulSoup(html, 'html.parser')\n",
    "\n",
    "it_items = soup.find_all('11')\n",
    "\n",
    "for li_itme in li items:\n",
    "    print(li)"
   ]
  },
  {
   "cell_type": "code",
   "execution_count": null,
   "metadata": {},
   "outputs": [],
   "source": [
    "#  css selector 사용 \n",
    "# select(css selector) : 모두 찾기\n",
    "# select_one(css secletor : 마나만 찾고)\n",
    "\n",
    "soup = Beautifulsoup(html, 'html.parser']\n",
    "name = soup.selecct_one('')\n",
    "name1 = soup.select_one('.name').text\n",
    "print( name1)\n",
    "name2 = soup.find('p', class_='name').text\n",
    "print(이름 )\n",
    "\n",
    "      \n",
    "      \n",
    "age = soup.select_one('.age).text\n",
    "print_()\n",
    "\n",
    "'')"
   ]
  },
  {
   "cell_type": "code",
   "execution_count": null,
   "metadata": {},
   "outputs": [],
   "source": [
    "# 4.링크+ 이미지 크롤링 \n",
    "html = ''\n",
    "soup.fidn_all('')\n",
    "[for a in soup.find_all('a')]\n",
    "print(links)\n"
   ]
  },
  {
   "cell_type": "code",
   "execution_count": null,
   "metadata": {},
   "outputs": [
    {
     "ename": "NameError",
     "evalue": "name 'BeautifulSoup' is not defined",
     "output_type": "error",
     "traceback": [
      "\u001b[1;31m---------------------------------------------------------------------------\u001b[0m",
      "\u001b[1;31mNameError\u001b[0m                                 Traceback (most recent call last)",
      "Cell \u001b[1;32mIn[2], line 7\u001b[0m\n\u001b[0;32m      1\u001b[0m \u001b[38;5;66;03m# 이미지 위치 추출 => 다운로드 \u001b[39;00m\n\u001b[0;32m      2\u001b[0m html \u001b[38;5;241m=\u001b[39m \u001b[38;5;124m\"\"\"\u001b[39m\n\u001b[0;32m      3\u001b[0m \u001b[38;5;124m<img src=\u001b[39m\u001b[38;5;124m\"\u001b[39m\u001b[38;5;124mhttp://example.com/image1.jpg\u001b[39m\u001b[38;5;124m\"\u001b[39m\u001b[38;5;124m alt= 이미지 1\u001b[39m\u001b[38;5;124m\"\u001b[39m\u001b[38;5;124m>\u001b[39m\n\u001b[0;32m      4\u001b[0m \u001b[38;5;124m<img src=\u001b[39m\u001b[38;5;124m\"\u001b[39m\u001b[38;5;124mhttp://example.com/image2.jpg\u001b[39m\u001b[38;5;124m\"\u001b[39m\u001b[38;5;124m alt= 이미지 2\u001b[39m\u001b[38;5;124m\"\u001b[39m\u001b[38;5;124m>\u001b[39m\n\u001b[0;32m      5\u001b[0m \u001b[38;5;124m\"\"\"\u001b[39m\n\u001b[1;32m----> 7\u001b[0m soup \u001b[38;5;241m=\u001b[39m \u001b[43mBeautifulSoup\u001b[49m(html,\u001b[38;5;124m'\u001b[39m\u001b[38;5;124mhtml.parser\u001b[39m\u001b[38;5;124m'\u001b[39m)\n\u001b[0;32m      9\u001b[0m images_src \u001b[38;5;241m=\u001b[39m [img[\u001b[38;5;124m'\u001b[39m\u001b[38;5;124msrc\u001b[39m\u001b[38;5;124m'\u001b[39m] \u001b[38;5;28;01mfor\u001b[39;00m img \u001b[38;5;129;01min\u001b[39;00m soup]\n\u001b[0;32m     12\u001b[0m soup \u001b[38;5;241m=\u001b[39m BeautifulSoup(html, \u001b[38;5;124m'\u001b[39m\u001b[38;5;124mhtml.parser\u001b[39m\u001b[38;5;124m'\u001b[39m)\n",
      "\u001b[1;31mNameError\u001b[0m: name 'BeautifulSoup' is not defined"
     ]
    }
   ],
   "source": [
    "# 이미지 위치 추출 => 다운로드 \n",
    "html = \"\"\"\n",
    "<img src=\"http://example.com/image1.jpg\" alt= 이미지 1\">\n",
    "<img src=\"http://example.com/image2.jpg\" alt= 이미지 2\">\n",
    "\"\"\"\n",
    "\n",
    "soup = BeautifulSoup(html,'html.parser')\n",
    "\n",
    "images_src = [img['src'] for img in soup]\n",
    "\n",
    "\n",
    "soup = BeautifulSoup(html, 'html.parser')\n",
    "\n",
    "# 행추출 \n",
    "rows = soup.find_all('tr')\n",
    "# print(rows)\n",
    "for row in rows: #한행씩 가져다가 처리\n",
    "    cols = row.find_all(['th','td'])\n",
    "    print([col.text for col in cols])\n",
    "    \n"
   ]
  },
  {
   "cell_type": "code",
   "execution_count": null,
   "metadata": {},
   "outputs": [],
   "source": [
    "##### 메소드 정리 : \n",
    "###### 1. find, find all : 특정 태그로 찾기\n",
    "###### 2. select, select_one : CSS se;ectpr 로 찾기\n",
    "find(tag) : 첫번쪠로 일치한,ㄴ 태그 오브젝트 반환\n",
    "find_all(laeg.class_, limit=) 일치하는 모든 태그 오브젝트를 리스트로 반환 \n",
    "\n",
    "find_parent() : 척번째 부모 태그 오브젝트 반환 \n",
    "find_parents() : 모든 부모 태그 오브젝트 반환\n",
    "find_parents() : 모든 조상상 태그 오브젝트 리스트 반환\n",
    "find_next_sibling() : 다음 형제 태그 오브젝트 반환\n",
    "select_one() : css  selector 사용해서 특정 태그 오브젝트 반환\n",
    "select() : css selector 사용해서 모든 태그 오브젝트 리스트 반환\n",
    "속성(attri''Attribute)\n",
    "    tag.test: 텍스트 추출 \n",
    "    tag['측정값']\n",
    "    tag['속성명'] : 값: 값면경\n",
    "    \n",
    "p_tag = soup.select_one(.'p.contents')\n",
    "print(p_tag.text)\n",
    "\n",
    "sqop\n",
    "\n",
    "p_tag = soup.select('p')\n",
    "pirnt(p_tag[1].text) \n",
    "\n",
    "\n"
   ]
  },
  {
   "cell_type": "code",
   "execution_count": 6,
   "metadata": {},
   "outputs": [
    {
     "ename": "SyntaxError",
     "evalue": "invalid syntax (599454323.py, line 18)",
     "output_type": "error",
     "traceback": [
      "\u001b[1;36m  Cell \u001b[1;32mIn[6], line 18\u001b[1;36m\u001b[0m\n\u001b[1;33m    all parents = p_tag.find_parent()\u001b[0m\n\u001b[1;37m        ^\u001b[0m\n\u001b[1;31mSyntaxError\u001b[0m\u001b[1;31m:\u001b[0m invalid syntax\n"
     ]
    }
   ],
   "source": [
    "html = \"\"\"\n",
    "<html>\n",
    "    <head><title>테스트 페이지</title></head>\n",
    "    <body>\n",
    "        <h1>안녕하세요!</h1>\n",
    "        <p class=\"content\">이것은 예제 문장입니다.</p>\n",
    "    </body>\n",
    "</html>\n",
    "\"\"\"\n",
    "\n",
    "soup = BaseException(html, 'html.parser')\n",
    "\n",
    "#수 태그 먼저 찾는다\n",
    "p_tag = soup.find('p')\n",
    "parent_tag = p_tag.find_parent()\n",
    "print(parent_tag)\n",
    "\n",
    "all parents = p_tag.find_parent()\n",
    "for parent in all_parents:\n",
    "    print(parent_tag)\n",
    "pritn(p_teg.find)\n",
    "    "
   ]
  },
  {
   "cell_type": "code",
   "execution_count": 7,
   "metadata": {},
   "outputs": [
    {
     "ename": "ModuleNotFoundError",
     "evalue": "No module named 'bs4'",
     "output_type": "error",
     "traceback": [
      "\u001b[1;31m---------------------------------------------------------------------------\u001b[0m",
      "\u001b[1;31mModuleNotFoundError\u001b[0m                       Traceback (most recent call last)",
      "Cell \u001b[1;32mIn[7], line 2\u001b[0m\n\u001b[0;32m      1\u001b[0m \u001b[38;5;28;01mimport\u001b[39;00m \u001b[38;5;21;01mrequests\u001b[39;00m\n\u001b[1;32m----> 2\u001b[0m \u001b[38;5;28;01mfrom\u001b[39;00m \u001b[38;5;21;01mbs4\u001b[39;00m \u001b[38;5;28;01mimport\u001b[39;00m BeautifulSoup\n\u001b[0;32m      5\u001b[0m url \u001b[38;5;241m=\u001b[39m \u001b[38;5;124m'\u001b[39m\u001b[38;5;124mhttps://finance.naver.com/item/board.naver?code=068270&page=2\u001b[39m\u001b[38;5;124m'\u001b[39m\n\u001b[0;32m      8\u001b[0m headers \u001b[38;5;241m=\u001b[39m {\n\u001b[0;32m      9\u001b[0m     \u001b[38;5;124m\"\u001b[39m\u001b[38;5;124mUser-Agent\u001b[39m\u001b[38;5;124m\"\u001b[39m: \u001b[38;5;124m\"\u001b[39m\u001b[38;5;124mMozilla/5.0 (Windows NT 10.0; Win64; x64) AppleWebKit/537.36 (KHTML, like Gecko) Chrome/122.0.0.0 Safari/537.36\u001b[39m\u001b[38;5;124m\"\u001b[39m\n\u001b[0;32m     10\u001b[0m }\n",
      "\u001b[1;31mModuleNotFoundError\u001b[0m: No module named 'bs4'"
     ]
    }
   ],
   "source": [
    "import requests\n",
    "from bs4 import BeautifulSoup\n",
    "\n",
    "\n",
    "url = 'https://finance.naver.com/item/board.naver?code=068270&page=2'\n",
    "\n",
    "\n",
    "headers = {\n",
    "    \"User-Agent\": \"Mozilla/5.0 (Windows NT 10.0; Win64; x64) AppleWebKit/537.36 (KHTML, like Gecko) Chrome/122.0.0.0 Safari/537.36\"\n",
    "}\n",
    "response = requests.get(url, headers=headers)\n",
    "\n",
    "\n",
    "soup = BeautifulSoup(response.text, 'html.parser')\n",
    "\n",
    "\n",
    "posts = soup.select('#content > div.section.inner_sub > table.type2 > tbody > tr:nth-child(5) > td.title > a')\n",
    "print(posts)"
   ]
  },
  {
   "cell_type": "code",
   "execution_count": null,
   "metadata": {},
   "outputs": [],
   "source": []
  }
 ],
 "metadata": {
  "kernelspec": {
   "display_name": "firstenv",
   "language": "python",
   "name": "python3"
  },
  "language_info": {
   "codemirror_mode": {
    "name": "ipython",
    "version": 3
   },
   "file_extension": ".py",
   "mimetype": "text/x-python",
   "name": "python",
   "nbconvert_exporter": "python",
   "pygments_lexer": "ipython3",
   "version": "3.10.16"
  }
 },
 "nbformat": 4,
 "nbformat_minor": 2
}
