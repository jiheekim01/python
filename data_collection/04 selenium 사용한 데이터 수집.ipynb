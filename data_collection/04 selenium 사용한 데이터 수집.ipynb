{
 "cells": [
  {
   "cell_type": "markdown",
   "metadata": {},
   "source": [
    "---\n",
    "### 04 셀프 주유소 휘발유 가격 분석\n",
    "---\n",
    "\n",
    "1. Selenium Library 사용\n",
    "    - 원래 목적은 웹어플리케이션 개발, 자동화 테스트를 하기 위해 만들어짐,\n",
    "    - 데이터 수집에 사용할 것이다\n",
    "    - selenium.webdriver : 데이터 수집에 사용\n",
    "      - **웹브라우저를 제어**하고 자동화할 수 있는 API제공\n",
    "      - 다양한 브라우저 제어\n",
    "2. webdriver module\n",
    "    - 브라우저 제어\n",
    "      - get(URL) : 지정된 URL로 이동\n",
    "      - back() : 뒤로, forward() : 앞으로로, refresh() : 새로고침\n",
    "      - maxmize_window() : 브라우저 창을 최대화\n",
    "      - close() : 현재 탭 삭제\n",
    "      - quit() : 전체 브라우저 닫기\n",
    "    - 요소 찾기\n",
    "      - find_element(By.ID,'찾고자할 ID명')\n",
    "      - find_element(By.NAME,'찾고자할 태그명')\n",
    "      - find_element(By.CLASS_NAME,'찾고자할 class명')\n",
    "      - find_element(By.TAG,'찾고자할 tag명')\n",
    "      - find_element(By.CSS_SELECTOR,'css selector')\n",
    "      - find_element(By.XPATH,'찾고자할 xpath명'), xpath : select 축약\n",
    "    - 상호작용 처리\n",
    "      - click() : 특정 태그를 클릭할 때 사용\n",
    "      - send_key('value') : 해당 요소에 텍스트로 value가 입력되게 할 때 사용\n",
    "      - clear() : 특정 요소의 입력값을 삭제할 때 사용\n",
    "      - submit() : 서버로 데이터 전송할 때 사용\n",
    "      - execute_script('js code') : 자바스크립트 코드 실행"
   ]
  },
  {
   "cell_type": "code",
   "execution_count": 1,
   "metadata": {},
   "outputs": [],
   "source": [
    "# 네이버 자동 로그인 처리 : 에러 난다\n",
    "from selenium import webdriver\n",
    "from selenium.webdriver.common.by import By\n",
    "\n",
    "driver=webdriver.Chrome() # 크롬 브라우저를 다룰수 있는 오브젝트 생성\n",
    "driver.get('https://nid.naver.com/nidlogin.login?mode=form&url=https://www.naver.com/')"
   ]
  },
  {
   "cell_type": "code",
   "execution_count": 2,
   "metadata": {},
   "outputs": [],
   "source": [
    "never_id='aaaa' # 여러분들의 네이버 아이디 입력\n",
    "never_password='1234' # 진짜 비밀번호 입력력"
   ]
  },
  {
   "cell_type": "code",
   "execution_count": 3,
   "metadata": {},
   "outputs": [],
   "source": [
    "# id 입력하는 textbox 선택\n",
    "id_box=driver.find_element(By.ID, 'id')\n",
    "id_box.send_keys(never_id)"
   ]
  },
  {
   "cell_type": "code",
   "execution_count": 4,
   "metadata": {},
   "outputs": [],
   "source": [
    "pw_box=driver.find_element(By.ID,'pw')\n",
    "pw_box.send_keys(never_password)"
   ]
  },
  {
   "cell_type": "code",
   "execution_count": 5,
   "metadata": {},
   "outputs": [],
   "source": [
    "login_button=driver.find_element(By.ID,'log.login')\n",
    "login_button.click()"
   ]
  },
  {
   "cell_type": "code",
   "execution_count": 6,
   "metadata": {},
   "outputs": [],
   "source": [
    "driver.close()"
   ]
  },
  {
   "cell_type": "markdown",
   "metadata": {},
   "source": [
    "--- \n",
    "### 주유소 데이터 습격\n",
    "--- "
   ]
  },
  {
   "cell_type": "code",
   "execution_count": 7,
   "metadata": {},
   "outputs": [],
   "source": [
    "# import\n",
    "from selenium import webdriver\n",
    "from selenium.webdriver.common.by import By\n",
    "from selenium.webdriver.chrome.options import Options\n",
    "\n",
    "# Options : 화면 출력 전 옵션 설정\n",
    "# Options.add_argument(옵션)\n",
    "# Options.add_argument('--headless') : 브라우저 창을 화면 표시하지 않고 드라이버 실행\n"
   ]
  },
  {
   "cell_type": "code",
   "execution_count": 8,
   "metadata": {},
   "outputs": [],
   "source": [
    "# 브라우저 오브젝트를 생성\n",
    "driver=webdriver.Chrome()\n",
    "\n",
    "# 화면 출력\n",
    "driver.get('https://www.opinet.co.kr/searRgSelect.do')"
   ]
  },
  {
   "cell_type": "code",
   "execution_count": 9,
   "metadata": {},
   "outputs": [
    {
     "data": {
      "text/plain": [
       "[<selenium.webdriver.remote.webelement.WebElement (session=\"d3fb4f652b86718ce06a549d3b17e4f0\", element=\"f.769215644C20A28DBF83A4C7DA223A52.d.E02E73F7B900F6E2EB52818BEEA5F9EF.e.870\")>,\n",
       " <selenium.webdriver.remote.webelement.WebElement (session=\"d3fb4f652b86718ce06a549d3b17e4f0\", element=\"f.769215644C20A28DBF83A4C7DA223A52.d.E02E73F7B900F6E2EB52818BEEA5F9EF.e.871\")>,\n",
       " <selenium.webdriver.remote.webelement.WebElement (session=\"d3fb4f652b86718ce06a549d3b17e4f0\", element=\"f.769215644C20A28DBF83A4C7DA223A52.d.E02E73F7B900F6E2EB52818BEEA5F9EF.e.872\")>,\n",
       " <selenium.webdriver.remote.webelement.WebElement (session=\"d3fb4f652b86718ce06a549d3b17e4f0\", element=\"f.769215644C20A28DBF83A4C7DA223A52.d.E02E73F7B900F6E2EB52818BEEA5F9EF.e.873\")>,\n",
       " <selenium.webdriver.remote.webelement.WebElement (session=\"d3fb4f652b86718ce06a549d3b17e4f0\", element=\"f.769215644C20A28DBF83A4C7DA223A52.d.E02E73F7B900F6E2EB52818BEEA5F9EF.e.874\")>,\n",
       " <selenium.webdriver.remote.webelement.WebElement (session=\"d3fb4f652b86718ce06a549d3b17e4f0\", element=\"f.769215644C20A28DBF83A4C7DA223A52.d.E02E73F7B900F6E2EB52818BEEA5F9EF.e.875\")>,\n",
       " <selenium.webdriver.remote.webelement.WebElement (session=\"d3fb4f652b86718ce06a549d3b17e4f0\", element=\"f.769215644C20A28DBF83A4C7DA223A52.d.E02E73F7B900F6E2EB52818BEEA5F9EF.e.876\")>,\n",
       " <selenium.webdriver.remote.webelement.WebElement (session=\"d3fb4f652b86718ce06a549d3b17e4f0\", element=\"f.769215644C20A28DBF83A4C7DA223A52.d.E02E73F7B900F6E2EB52818BEEA5F9EF.e.877\")>,\n",
       " <selenium.webdriver.remote.webelement.WebElement (session=\"d3fb4f652b86718ce06a549d3b17e4f0\", element=\"f.769215644C20A28DBF83A4C7DA223A52.d.E02E73F7B900F6E2EB52818BEEA5F9EF.e.878\")>,\n",
       " <selenium.webdriver.remote.webelement.WebElement (session=\"d3fb4f652b86718ce06a549d3b17e4f0\", element=\"f.769215644C20A28DBF83A4C7DA223A52.d.E02E73F7B900F6E2EB52818BEEA5F9EF.e.879\")>,\n",
       " <selenium.webdriver.remote.webelement.WebElement (session=\"d3fb4f652b86718ce06a549d3b17e4f0\", element=\"f.769215644C20A28DBF83A4C7DA223A52.d.E02E73F7B900F6E2EB52818BEEA5F9EF.e.880\")>,\n",
       " <selenium.webdriver.remote.webelement.WebElement (session=\"d3fb4f652b86718ce06a549d3b17e4f0\", element=\"f.769215644C20A28DBF83A4C7DA223A52.d.E02E73F7B900F6E2EB52818BEEA5F9EF.e.881\")>,\n",
       " <selenium.webdriver.remote.webelement.WebElement (session=\"d3fb4f652b86718ce06a549d3b17e4f0\", element=\"f.769215644C20A28DBF83A4C7DA223A52.d.E02E73F7B900F6E2EB52818BEEA5F9EF.e.882\")>,\n",
       " <selenium.webdriver.remote.webelement.WebElement (session=\"d3fb4f652b86718ce06a549d3b17e4f0\", element=\"f.769215644C20A28DBF83A4C7DA223A52.d.E02E73F7B900F6E2EB52818BEEA5F9EF.e.883\")>,\n",
       " <selenium.webdriver.remote.webelement.WebElement (session=\"d3fb4f652b86718ce06a549d3b17e4f0\", element=\"f.769215644C20A28DBF83A4C7DA223A52.d.E02E73F7B900F6E2EB52818BEEA5F9EF.e.884\")>,\n",
       " <selenium.webdriver.remote.webelement.WebElement (session=\"d3fb4f652b86718ce06a549d3b17e4f0\", element=\"f.769215644C20A28DBF83A4C7DA223A52.d.E02E73F7B900F6E2EB52818BEEA5F9EF.e.885\")>,\n",
       " <selenium.webdriver.remote.webelement.WebElement (session=\"d3fb4f652b86718ce06a549d3b17e4f0\", element=\"f.769215644C20A28DBF83A4C7DA223A52.d.E02E73F7B900F6E2EB52818BEEA5F9EF.e.886\")>,\n",
       " <selenium.webdriver.remote.webelement.WebElement (session=\"d3fb4f652b86718ce06a549d3b17e4f0\", element=\"f.769215644C20A28DBF83A4C7DA223A52.d.E02E73F7B900F6E2EB52818BEEA5F9EF.e.887\")>,\n",
       " <selenium.webdriver.remote.webelement.WebElement (session=\"d3fb4f652b86718ce06a549d3b17e4f0\", element=\"f.769215644C20A28DBF83A4C7DA223A52.d.E02E73F7B900F6E2EB52818BEEA5F9EF.e.888\")>,\n",
       " <selenium.webdriver.remote.webelement.WebElement (session=\"d3fb4f652b86718ce06a549d3b17e4f0\", element=\"f.769215644C20A28DBF83A4C7DA223A52.d.E02E73F7B900F6E2EB52818BEEA5F9EF.e.889\")>,\n",
       " <selenium.webdriver.remote.webelement.WebElement (session=\"d3fb4f652b86718ce06a549d3b17e4f0\", element=\"f.769215644C20A28DBF83A4C7DA223A52.d.E02E73F7B900F6E2EB52818BEEA5F9EF.e.890\")>,\n",
       " <selenium.webdriver.remote.webelement.WebElement (session=\"d3fb4f652b86718ce06a549d3b17e4f0\", element=\"f.769215644C20A28DBF83A4C7DA223A52.d.E02E73F7B900F6E2EB52818BEEA5F9EF.e.891\")>,\n",
       " <selenium.webdriver.remote.webelement.WebElement (session=\"d3fb4f652b86718ce06a549d3b17e4f0\", element=\"f.769215644C20A28DBF83A4C7DA223A52.d.E02E73F7B900F6E2EB52818BEEA5F9EF.e.892\")>,\n",
       " <selenium.webdriver.remote.webelement.WebElement (session=\"d3fb4f652b86718ce06a549d3b17e4f0\", element=\"f.769215644C20A28DBF83A4C7DA223A52.d.E02E73F7B900F6E2EB52818BEEA5F9EF.e.893\")>,\n",
       " <selenium.webdriver.remote.webelement.WebElement (session=\"d3fb4f652b86718ce06a549d3b17e4f0\", element=\"f.769215644C20A28DBF83A4C7DA223A52.d.E02E73F7B900F6E2EB52818BEEA5F9EF.e.894\")>,\n",
       " <selenium.webdriver.remote.webelement.WebElement (session=\"d3fb4f652b86718ce06a549d3b17e4f0\", element=\"f.769215644C20A28DBF83A4C7DA223A52.d.E02E73F7B900F6E2EB52818BEEA5F9EF.e.895\")>]"
      ]
     },
     "execution_count": 9,
     "metadata": {},
     "output_type": "execute_result"
    }
   ],
   "source": [
    "# 1. 서울시 고정, 구별 정보 추출\n",
    "# select box value 추출\n",
    "# 1.1 select box search selection\n",
    "x_path='//*[@id=\"SIGUNGU_NM0\"]'\n",
    "gu_list_raw=driver.find_element(By.XPATH, '//*[@id=\"SIGUNGU_NM0\"]')\n",
    "gu_list=gu_list_raw.find_elements(By.TAG_NAME, 'option') # option 태그 찾아라\n",
    "gu_list"
   ]
  },
  {
   "cell_type": "code",
   "execution_count": 10,
   "metadata": {},
   "outputs": [
    {
     "data": {
      "text/plain": [
       "['',\n",
       " '강남구',\n",
       " '강동구',\n",
       " '강북구',\n",
       " '강서구',\n",
       " '관악구',\n",
       " '광진구',\n",
       " '구로구',\n",
       " '금천구',\n",
       " '노원구',\n",
       " '도봉구',\n",
       " '동대문구',\n",
       " '동작구',\n",
       " '마포구',\n",
       " '서대문구',\n",
       " '서초구',\n",
       " '성동구',\n",
       " '성북구',\n",
       " '송파구',\n",
       " '양천구',\n",
       " '영등포구',\n",
       " '용산구',\n",
       " '은평구',\n",
       " '종로구',\n",
       " '중구',\n",
       " '중랑구']"
      ]
     },
     "execution_count": 10,
     "metadata": {},
     "output_type": "execute_result"
    }
   ],
   "source": [
    "# 구이름 추출해서 리스트 처리\n",
    "# option.get_attribute('value') : value 어트리뷰트의 값을 추출 => 구이름 추출\n",
    "gu_name=[option.get_attribute('value') for option in gu_list]\n",
    "gu_name\n"
   ]
  },
  {
   "cell_type": "code",
   "execution_count": 11,
   "metadata": {},
   "outputs": [
    {
     "data": {
      "text/plain": [
       "['강남구',\n",
       " '강동구',\n",
       " '강북구',\n",
       " '강서구',\n",
       " '관악구',\n",
       " '광진구',\n",
       " '구로구',\n",
       " '금천구',\n",
       " '노원구',\n",
       " '도봉구',\n",
       " '동대문구',\n",
       " '동작구',\n",
       " '마포구',\n",
       " '서대문구',\n",
       " '서초구',\n",
       " '성동구',\n",
       " '성북구',\n",
       " '송파구',\n",
       " '양천구',\n",
       " '영등포구',\n",
       " '용산구',\n",
       " '은평구',\n",
       " '종로구',\n",
       " '중구',\n",
       " '중랑구']"
      ]
     },
     "execution_count": 11,
     "metadata": {},
     "output_type": "execute_result"
    }
   ],
   "source": [
    "gu_name.remove('')\n",
    "gu_name"
   ]
  },
  {
   "cell_type": "code",
   "execution_count": 12,
   "metadata": {},
   "outputs": [
    {
     "name": "stderr",
     "output_type": "stream",
     "text": [
      "100%|██████████| 25/25 [04:00<00:00,  9.62s/it]\n"
     ]
    }
   ],
   "source": [
    "from tqdm import tqdm\n",
    "import time # sleep()\n",
    "# client(code) -> server 처리 시간-> data -> client \n",
    "\n",
    "for gu in tqdm(gu_name): # 구 25개 => 25번 반복\n",
    "    # 1. select box 선택\n",
    "    select_element=driver.find_element(By.ID,'SIGUNGU_NM0')\n",
    "    # select box 값으로 보내서 데이터 갱신 : 강남구\n",
    "    select_element.send_keys(gu)\n",
    "    \n",
    "    time.sleep(2) # 서버에서 데이터가 오는것을 2 초를 기다려라\n",
    "    # 2. 조회 버튼 클릭 : searRgSelect\n",
    "    search_element=driver.find_element(By.ID,'searRgSelect')\n",
    "    search_element.click()\n",
    "    \n",
    "    time.sleep(2)\n",
    "    \n",
    "    # 3. 엑셀 저장 버튼 선택, 클릭 => 해당 구의 엑셀파일 다운로드가 된다\n",
    "    # //*[@id=\"templ_list0\"]/div[7]/div/a\n",
    "    x_path='//*[@id=\"templ_list0\"]/div[7]/div/a'\n",
    "    excel_element=driver.find_element(By.XPATH, x_path)\n",
    "    excel_element.click()\n",
    "    \n",
    "    time.sleep(5)\n",
    "    "
   ]
  },
  {
   "cell_type": "code",
   "execution_count": 13,
   "metadata": {},
   "outputs": [],
   "source": [
    "driver.close()"
   ]
  }
 ],
 "metadata": {
  "kernelspec": {
   "display_name": "dataproc",
   "language": "python",
   "name": "python3"
  },
  "language_info": {
   "codemirror_mode": {
    "name": "ipython",
    "version": 3
   },
   "file_extension": ".py",
   "mimetype": "text/x-python",
   "name": "python",
   "nbconvert_exporter": "python",
   "pygments_lexer": "ipython3",
   "version": "3.10.16"
  }
 },
 "nbformat": 4,
 "nbformat_minor": 2
}
