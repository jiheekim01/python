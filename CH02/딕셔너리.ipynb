# 쌍(키:값) 추가
# 키의 값은 아무거나 된다 
a = {0 : '홍길동'}
print(a.get(0))
a = {'name':'홍길동'}
print(a.get('name'))

# value 에 리스트 (여러개 값) 가능
a = {'a' : [1,2,3]}
print(a)
print(a.get('a'))

#데이터 추가 (쌍으로 추가)
a = {1 : 'a'}
print(a)
#추가 : a[2<- 키] = 'b' <- 값
a[2] = 'b'
print(a)
#추가 
a['name'] = '홍길동'
print(a)
#값으로 여러 개 추가 
a[3] = [1,2,3]
print(a)
#삭제 : 메소드 사용 
print(a)
del a{1}
print(a)

#딕셔너리 사용
grade = {
    'pey' : 10,
    'juliet' : 99
    
    
}
print(grade)
# pay 점수 추출
print(grade['pay'])

# 딕셔너리 처리시 주이사항
# 키중복 안된다
a = {1:'a'}
print(a)
a[1] = 'b' # 추가 : 키가 동일 할 경우 기존 값이 수정 된다
print(a)

# 키의 값은 여러 개가 될 수 없다 : 키의 값은 단일 값이어야 하낟 
# a[(1,2)] = 'c' -> 에러
a{(1,2)} = 'c'
print(a)
print(a[1])
print(a[(1,2)])
# 튜플 : 변경이 안되서 ,

# 딕셔너리 관련 메소드들 
# 1. 키들만을 추출 하는 메소드 
a = {
    'name':'pey',
    'phone':'0101234544',
    'birth':'1119'
} 
print(a)
print(a.keys())
pritn(type(a.keys()))

for key in a.keys(): #literable 한 놈 이 올 수 있음 
    print(key)
    
    # 2. value 추출 
    print(a)
    print(a.values())
    
    # 키, 값 쌍으로 추출
    print(a)
    print(a.items()) 
    
    # 모두 지우기 : clear = 빈 딕셔너리가 남는다 
    print(a.clear())
    print(a)
    
    # 키 값으로 value 추출 : get(key)
    a = {
        'name':'pay',
        'phone':'0101346435',
        'birth':'1118'
            
    }
    print(a)
    print(a.get('name'))
    print(a.get('aaa'))
    print(a.get('aaa', '키가 없다다'))
    # print(a['aaa']) # 없는 키이 ㄹ경우 에러다 

# 해당키가 딕셔너리 안에 있는지 조사  : in 연산자 
# 방식 : 값 in iterable (반복가능한 객체) => bool (True, False)
print(a)
print('name' in a) # a 안에 키중에 'name' 키가 있니? 
print('email' in a)

# set : 집합 데이처 타입 
# set (literable) : literable => list, tuple, str
s1 = set([1,2,3])
print(s1)
print(s1[0])
# 에러다 : index 없다, 인덱스로 접근이 안된다 
# 값으로 접근 해야 한다

#중복 저거 하는 형태로 사용
s2 = set('Dello')
print(s2)

# 힙합 연산자 
s1 = set([1,2,3,4,5,6])
s2 = set([4,5,6,7,8,9])
print(s1, s2)

# 교빚합 
print(s1 & s2)
print(s1.intersection(s2))
print(s2.intersection(s2))

#합집합
print(s1 | s2)
print(s1.union(s2))
print(s2.union(s2))

# 차집합 
print(s1 - s2)
print(s1.difference(s2))
print(s2 - s1)
print(type(s2 - s1))
print(s2.difference(s1))

# 관련 메소드 
# 1. add : 1개 값 추가 
a1 = set([1,2,3])
print(s1)
s1.add(4)
print(s1)

# 여러개 추가 : update 
print(s1)
s1.update([7,8])
s1.update(9) # type 에러 , literable 한 놈만 가능 
print(s1)

# 제거 : remove
s1 = set([1,2,3])
print(s1)
s1.remove(2)
print(s1)

# while 조건식 ,
# 자료형의 참과 거짓 => 조건식에 들어 갔을 때, 참과 거짓 처리
# 조건식에 있을 때 데이터 가 있으면 true, 없으면 false
a = [1,2,3,4]
print(a)
while a: : # a 리스트가 빌 때까지 반복 
    print(a.pop())
    
    if [] : 
        print('True')
    else:
        print('False')
        
        
        # 참조 개수 : sys.getrefcount() function
        import sys
       
        print(sys.getrefcount(3))
        a = 3
        print(sys.getrefcount(3))
        
        
    from sys import getrefcount
    print(getrefcount(3))
    
    # 변수 만드는 방법
    a = 'python'
    print(a)
    b = 'life'
    print(b)
    a,b = 'python', 'life'
    print(a,b)
    
    # 주의 : 리스트에서의 복사 
    a = [1,2,3] # a는 원본 데이터 
    b = a       # b는 복사본 데이터가 아니다 
    print(a,b)
    print(id(a), id(b))
        
a[1] = 4
print(a,b)

# 복사본 데이터 만드는 코드 
# 1. [:]
a = [1,2,3]
b = a[:] #복사가 된다
a[1] = 4
print(a, b)

# 2. copy 모듈 안에 copy()함수 사용하는 방법 

import copy
a = [1,2,3]
b = a(:) #슬라이싱은 복사가 된다다
b{1} = 4
print(a,b)

# 조건문 (if)
요건 시작 
"돈이 있으면 택시를 타고, 없으면 걸어 간다"
money = 0
if money: # true 
    print('택시')
else:
    print('걸어 가라라')
    

# 택시 탈 돈이 있는지 여부 화인 
# 4800원보다 많아야 택시를 탄다 
money = 4700
if money >= 4000:
    print('택시 타라')
else:
    print('걸어가라')
    
    # 현금이 4800 이상이거나 카드가 있으면 택시 타라 
    # 아니면 걸어 가라 출력 , 
    money = 3000 #현금
    card = 1
    
    if money>= 4000 or card>0:
        print("택시 타라")
    else:
        print('걸어 가라 ')
        
        # 주머니 
        # 주머니 안에 현금이 있어가 현금이 있으면 택시를 타로.고 ,없으면 걸어가라 
        pocket = ['paper','phone','money'] # literable
        #  in 연산자 
       '' money' is pocket
       if 'money' in pocket:
           print('')
       else:
           print(  ;)

# 요건 : 카드가 있으면 택시를 타고, 돈ㅇ도 없고 카드도 없으면  걸어 가라 
pocket = ['paper','phone'] # 주머니에는 돈이 없다
card = 1                   # 카드 있다
if 'money' in pocket:
    print('택시 타라')
else card:
    print('택시 타라')
else:
    print('겅러 가라')
    
    # 요건 
    # 열 번 찍어 안 넘어 가는 나무 없다 
    
    treehit=0
    while treehit<10:
        treehit = treehit + 1 # 1증가
        print(f"나무를 {treehit} 번 찍었습니다.")
        if treehit == 10:
            print('나무가 넘어간다')
            
            

# 연락처 프로그램 메뉴 출력하고 4번을 입력하면 종료 
prompt = '''
1, 추가
2. 석재
3. 목룍
4. 종료

        number =0
    
while number [=4]      
print(prompt)
      number = input()
    while
    
    num = input()
    print(num)
    
     num = imput ("숫자를 입력하세요 : ")
    print (num)
    
    

