{
 "cells": [
  {
   "cell_type": "code",
   "execution_count": 4,
   "metadata": {},
   "outputs": [],
   "source": [
    "multiline = 'Life is too short \\n You need python'"
   ]
  },
  {
   "cell_type": "code",
   "execution_count": 5,
   "metadata": {},
   "outputs": [
    {
     "name": "stdout",
     "output_type": "stream",
     "text": [
      "Life is too short \n",
      " You need python\n"
     ]
    }
   ],
   "source": [
    "print(multiline)"
   ]
  },
  {
   "cell_type": "code",
   "execution_count": 6,
   "metadata": {},
   "outputs": [
    {
     "data": {
      "text/plain": [
       "'Life is too short \\n You need python'"
      ]
     },
     "execution_count": 6,
     "metadata": {},
     "output_type": "execute_result"
    }
   ],
   "source": [
    "# 출력이 아니다, 값만 확인 \n",
    "multiline"
   ]
  },
  {
   "cell_type": "code",
   "execution_count": 7,
   "metadata": {},
   "outputs": [],
   "source": [
    "multiline = '''\n",
    "life is too short\n",
    "You need Python\n",
    "'''"
   ]
  },
  {
   "cell_type": "code",
   "execution_count": 8,
   "metadata": {},
   "outputs": [
    {
     "data": {
      "text/plain": [
       "'\\nlife is too short\\nYou need Python\\n'"
      ]
     },
     "execution_count": 8,
     "metadata": {},
     "output_type": "execute_result"
    }
   ],
   "source": [
    "multiline"
   ]
  },
  {
   "cell_type": "code",
   "execution_count": 9,
   "metadata": {},
   "outputs": [
    {
     "name": "stdout",
     "output_type": "stream",
     "text": [
      "\n",
      "life is too short\n",
      "You need Python\n",
      "\n"
     ]
    }
   ],
   "source": [
    "print(multiline)"
   ]
  },
  {
   "cell_type": "code",
   "execution_count": 10,
   "metadata": {},
   "outputs": [
    {
     "data": {
      "text/plain": [
       "'\\n1. 주석\\n2. 여러줄 주석 \\n'"
      ]
     },
     "execution_count": 10,
     "metadata": {},
     "output_type": "execute_result"
    }
   ],
   "source": [
    "'''\n",
    "1. 주석\n",
    "2. 여러줄 주석 \n",
    "'''"
   ]
  },
  {
   "cell_type": "code",
   "execution_count": 11,
   "metadata": {},
   "outputs": [
    {
     "name": "stdout",
     "output_type": "stream",
     "text": [
      "====================\n"
     ]
    }
   ],
   "source": [
    "print('='*20)"
   ]
  },
  {
   "cell_type": "code",
   "execution_count": 13,
   "metadata": {},
   "outputs": [
    {
     "name": "stdout",
     "output_type": "stream",
     "text": [
      "====================\n",
      "연락처 프로그램\n",
      "====================\n"
     ]
    }
   ],
   "source": [
    "print('='*20)\n",
    "print('연락처 프로그램')\n",
    "print('='*20)"
   ]
  },
  {
   "cell_type": "code",
   "execution_count": 14,
   "metadata": {},
   "outputs": [],
   "source": [
    "a = 'Life is too short, You need Python'"
   ]
  },
  {
   "cell_type": "code",
   "execution_count": 18,
   "metadata": {},
   "outputs": [
    {
     "data": {
      "text/plain": [
       "('e', 's', 'n', 'n')"
      ]
     },
     "execution_count": 18,
     "metadata": {},
     "output_type": "execute_result"
    }
   ],
   "source": [
    "# [] : list \n",
    "a[3], a[12], a[33], a[-1]"
   ]
  },
  {
   "cell_type": "code",
   "execution_count": 28,
   "metadata": {},
   "outputs": [],
   "source": [
    "#슬리이싱 : 여러개 접근시 사용 => : <= 범위 지정\n",
    "# [시작인덱스 : 끝 인덱스 -1] \n",
    "# 'Life' 단어 추출 #\n",
    "b = a[0] + a [1] + a[2] + a[3]"
   ]
  },
  {
   "cell_type": "code",
   "execution_count": 29,
   "metadata": {},
   "outputs": [
    {
     "name": "stdout",
     "output_type": "stream",
     "text": [
      "Life\n"
     ]
    }
   ],
   "source": [
    "print(b)"
   ]
  },
  {
   "cell_type": "code",
   "execution_count": 34,
   "metadata": {},
   "outputs": [
    {
     "data": {
      "text/plain": [
       "'is'"
      ]
     },
     "execution_count": 34,
     "metadata": {},
     "output_type": "execute_result"
    }
   ],
   "source": [
    "# 슬라이싱 : 'Life' 추출\n",
    "# a[시작 인덱스 : 끝 인덱스 -1]\n",
    "a[5:7]"
   ]
  },
  {
   "cell_type": "markdown",
   "metadata": {
    "tags": [
     "parameters"
    ]
   },
   "source": [
    "<h3> 슬라이싱 사용 방법 </h3> \n",
    "1. [시작값 : 끝값] : 시작값부터 끝값 -1까지 추출\n",
    "2. [사작값 : x] : 시작값부터 끝까지 추출\n",
    "3. [x : 끝값] : 처음부터 끝값 -1 까지 추출\n",
    "4. [x : x] : 처음부터 끝까지\n",
    "- 마이너스 인덱스를 사용할 수 있다"
   ]
  },
  {
   "cell_type": "code",
   "execution_count": 39,
   "metadata": {},
   "outputs": [
    {
     "name": "stdout",
     "output_type": "stream",
     "text": [
      "20250213\n",
      "\n"
     ]
    }
   ],
   "source": [
    "# 대이터로 연월일 날씨가 입력된다, \n",
    "# 날짜, 날씨 분리 \n",
    "data = '20250213Rainy'\n",
    "\n",
    "date_ = data[:8]\n",
    "print(date)\n",
    "weather = date[8:]\n",
    "print(weather)"
   ]
  },
  {
   "cell_type": "code",
   "execution_count": null,
   "metadata": {},
   "outputs": [
    {
     "name": "stdout",
     "output_type": "stream",
     "text": [
      "i\n",
      "Python\n",
      "Pithon\n"
     ]
    }
   ],
   "source": [
    "a = 'Pithon'\n",
    "print(a[1])\n",
    "# a[1] = 'y' => 에러 수정 안된다다\n",
    "# a[0] =\n",
    "print(a[0] + 'y' + a[2:])\n",
    "print(a)"
   ]
  },
  {
   "cell_type": "markdown",
   "metadata": {},
   "source": []
  },
  {
   "cell_type": "markdown",
   "metadata": {},
   "source": [
    "### 문자열 포매팅 : 엄청 중요\n",
    "\n",
    "1. % 사용하는 포매팅\n",
    "2. 문자열 format 사용\n",
    "3. f-string 사용하는 포매팅 : 제일 많이 사용용\n"
   ]
  },
  {
   "cell_type": "code",
   "execution_count": 43,
   "metadata": {},
   "outputs": [
    {
     "name": "stdout",
     "output_type": "stream",
     "text": [
      "현재 온도는 18도 입니다.\n"
     ]
    }
   ],
   "source": [
    "a = '현재 온도는 18도 입니다.'\n",
    "print(a)\n"
   ]
  },
  {
   "cell_type": "code",
   "execution_count": null,
   "metadata": {},
   "outputs": [
    {
     "name": "stdout",
     "output_type": "stream",
     "text": [
      "현재 온도는 18 도 입니다.\n",
      "현재 온도는 18 도 입니다.\n"
     ]
    }
   ],
   "source": [
    "# 1. % 사용\n",
    "k = 18 \n",
    "print('현재 온도는 %d 도 입니다.' % k)\n",
    "# f-string\n",
    "print(f'현재 온도는 {k} 도 입니다.')\n",
    "# format fucntion 사용 \n",
    "print('현재 온도는 {0}도 입니다'.format(k))"
   ]
  },
  {
   "cell_type": "code",
   "execution_count": 58,
   "metadata": {},
   "outputs": [
    {
     "name": "stdout",
     "output_type": "stream",
     "text": [
      "사과를 1개, 배는 2개 먹었다\n",
      "사과를 one개, 배는 two개 먹었다\n",
      "사과를 1개, 배는 2개 먹었다\n",
      "사과를 one개, 배는 two개 먹었다\n"
     ]
    }
   ],
   "source": [
    "# 1. % 사용 \n",
    "# 숫자 : d, 문자 : s\n",
    "print('사과를 %d개, 배는 %d개 먹었다' % (1,2))\n",
    "print('사과를 %s개, 배는 %s개 먹었다' % ('one','two'))\n",
    "num1 = 1\n",
    "num2 = 2\n",
    "str1 = 'one'\n",
    "str2 = 'two'\n",
    "print('사과를 %d개, 배는 %d개 먹었다' % (num1, num2))\n",
    "print('사과를 %s개, 배는 %s개 먹었다' % (str1,str2))\n"
   ]
  },
  {
   "cell_type": "markdown",
   "metadata": {},
   "source": []
  },
  {
   "cell_type": "markdown",
   "metadata": {},
   "source": [
    "### 중요 단축기 : 편집\n",
    "1. 한줄 복사 : shift + alt + 위화살, 아래화살\n",
    "2. 한줄 삭제 : ctrl + shift+ k\n",
    "3. 한줄 이동 (잘라내서 붙이기) : alt + 위, 아래래"
   ]
  },
  {
   "cell_type": "markdown",
   "metadata": {},
   "source": [
    "#### 문자열 코멧 코드 (%d, %s)\n",
    "|코드|설명|\n",
    "|---|---|\n",
    "|%s|문자열|\n",
    "|%d|정수|\n",
    "|%f|실수|"
   ]
  },
  {
   "cell_type": "markdown",
   "metadata": {},
   "source": []
  },
  {
   "cell_type": "code",
   "execution_count": 64,
   "metadata": {},
   "outputs": [
    {
     "name": "stdout",
     "output_type": "stream",
     "text": [
      "     h1jane\n",
      "7\n",
      "h1     jane\n"
     ]
    }
   ],
   "source": [
    "# 포멧 코드와 숫자사용\n",
    "# 1) 정렬과 공백\n",
    "print('%7sjane' % 'h1')\n",
    "print(len('%7s' % 'h1'))\n",
    "print('%-7sjane' % 'h1')"
   ]
  },
  {
   "cell_type": "code",
   "execution_count": null,
   "metadata": {},
   "outputs": [
    {
     "ename": "SyntaxError",
     "evalue": "Missing parentheses in call to 'print'. Did you mean print(...)? (2419284710.py, line 6)",
     "output_type": "error",
     "traceback": [
      "\u001b[1;36m  Cell \u001b[1;32mIn[75], line 6\u001b[1;36m\u001b[0m\n\u001b[1;33m    print{len('%10.4f' % 3.42134234)} # 0은 다 받겠다\u001b[0m\n\u001b[1;37m    ^\u001b[0m\n\u001b[1;31mSyntaxError\u001b[0m\u001b[1;31m:\u001b[0m Missing parentheses in call to 'print'. Did you mean print(...)?\n"
     ]
    }
   ],
   "source": [
    "# 소수점 표현 \n",
    "print('%f' % 3.42134264)\n",
    "print('%f' % 3.42134234)\n",
    "print('%0.4f' % 11113.42134234) # 0은 다 받겠다\n",
    "print('%10.4f' % 3.42134234) # 0은 다 받겠다\n",
    "print{len('%10.4f' % 3.42134234)} # 0은 다 받겠다\n",
    "# 4 : 소수점 자리 수 , 0: 정수로 다 받겠다다\n"
   ]
  },
  {
   "cell_type": "markdown",
   "metadata": {},
   "source": []
  },
  {
   "cell_type": "markdown",
   "metadata": {},
   "source": [
    "#### 문자열 관련 메소드 \n",
    "1. count (찾을 문자열: 단어) : 문자열에서 찾을 문자열의 개수 반환 메소드\n"
   ]
  },
  {
   "cell_type": "code",
   "execution_count": 77,
   "metadata": {},
   "outputs": [
    {
     "name": "stdout",
     "output_type": "stream",
     "text": [
      "2\n",
      "1\n"
     ]
    }
   ],
   "source": [
    "a = 'hobby'\n",
    "print(a.count('b'))\n",
    "print(a.count('bb'))"
   ]
  },
  {
   "cell_type": "markdown",
   "metadata": {},
   "source": []
  },
  {
   "cell_type": "code",
   "execution_count": 79,
   "metadata": {},
   "outputs": [
    {
     "name": "stdout",
     "output_type": "stream",
     "text": [
      "10\n",
      "10\n",
      "-1\n"
     ]
    },
    {
     "ename": "ValueError",
     "evalue": "substring not found",
     "output_type": "error",
     "traceback": [
      "\u001b[1;31m---------------------------------------------------------------------------\u001b[0m",
      "\u001b[1;31mValueError\u001b[0m                                Traceback (most recent call last)",
      "Cell \u001b[1;32mIn[79], line 6\u001b[0m\n\u001b[0;32m      4\u001b[0m \u001b[38;5;28mprint\u001b[39m(a\u001b[38;5;241m.\u001b[39mfind(\u001b[38;5;124m'\u001b[39m\u001b[38;5;124mbest\u001b[39m\u001b[38;5;124m'\u001b[39m))\n\u001b[0;32m      5\u001b[0m \u001b[38;5;28mprint\u001b[39m(a\u001b[38;5;241m.\u001b[39mfind(\u001b[38;5;124m'\u001b[39m\u001b[38;5;124mk\u001b[39m\u001b[38;5;124m'\u001b[39m)) \u001b[38;5;66;03m# 없는 값을 찾을 경우 -1 반환 \u001b[39;00m\n\u001b[1;32m----> 6\u001b[0m \u001b[38;5;28mprint\u001b[39m(\u001b[43ma\u001b[49m\u001b[38;5;241;43m.\u001b[39;49m\u001b[43mindex\u001b[49m\u001b[43m(\u001b[49m\u001b[38;5;124;43m'\u001b[39;49m\u001b[38;5;124;43mk\u001b[39;49m\u001b[38;5;124;43m'\u001b[39;49m\u001b[43m)\u001b[49m)\n",
      "\u001b[1;31mValueError\u001b[0m: substring not found"
     ]
    }
   ],
   "source": [
    "# 2. 찾을 문자열의 시작 인덱스 반환 (find, index)\n",
    "a = 'Python is best choice'\n",
    "print(a.find('b'))\n",
    "print(a.find('best'))\n",
    "print(a.find('k')) # 없는 값을 찾을 경우 -1 반환 \n",
    "print(a.index('k')) # 없는 값을 찾을 경우 에러 발생, try(예외처리)\n"
   ]
  },
  {
   "cell_type": "code",
   "execution_count": null,
   "metadata": {},
   "outputs": [
    {
     "name": "stdout",
     "output_type": "stream",
     "text": [
      "b,b,b,b\n",
      ",\n"
     ]
    },
    {
     "data": {
      "text/plain": [
       "'aaabbb'"
      ]
     },
     "execution_count": 81,
     "metadata": {},
     "output_type": "execute_result"
    }
   ],
   "source": [
    "# 3. join (연결) method : 삽입 \n",
    "a = ','\n",
    "b = 'bbbb'\n",
    "print(a.join(b)) # a를 b의 사이사이에 삽입해라 \n",
    "print(b.join(a)) # b를 a의 사이사이에 삽입해라\n",
    "\n",
    "\n",
    "a = 'aaa'\n",
    "b = 'bbb'\n",
    "a + b"
   ]
  },
  {
   "cell_type": "code",
   "execution_count": 84,
   "metadata": {},
   "outputs": [
    {
     "name": "stdout",
     "output_type": "stream",
     "text": [
      "HI\n",
      "hi\n",
      "HI\n",
      "hi\n"
     ]
    }
   ],
   "source": [
    "# 4. upper(소->대) , lower(대->소)\n",
    "# 원래 a값은 안바뀜뀜\n",
    "a = 'hi'\n",
    "print(a.upper()) # 소문자를 받는 놈 => 복사로 받는다 \n",
    "print(a) # 원래 소문자는 안 바뀐다 \n",
    "\n",
    "a = a.upper()\n",
    "print(a) # 대문자 변경된 것을 출력\n",
    "print(a.lower())\n",
    "\n"
   ]
  },
  {
   "cell_type": "code",
   "execution_count": null,
   "metadata": {},
   "outputs": [
    {
     "name": "stdout",
     "output_type": "stream",
     "text": [
      "문자 길이 :  5\n"
     ]
    },
    {
     "ename": "TypeError",
     "evalue": "bad operand type for unary +: 'str'",
     "output_type": "error",
     "traceback": [
      "\u001b[1;31m---------------------------------------------------------------------------\u001b[0m",
      "\u001b[1;31mTypeError\u001b[0m                                 Traceback (most recent call last)",
      "Cell \u001b[1;32mIn[88], line 6\u001b[0m\n\u001b[0;32m      4\u001b[0m \u001b[38;5;28mprint\u001b[39m(\u001b[38;5;124m'\u001b[39m\u001b[38;5;124m문자 길이 : \u001b[39m\u001b[38;5;124m'\u001b[39m, \u001b[38;5;28mlen\u001b[39m(a))\n\u001b[0;32m      5\u001b[0m b \u001b[38;5;241m=\u001b[39m a\u001b[38;5;241m.\u001b[39mrstrip()\n\u001b[1;32m----> 6\u001b[0m \u001b[38;5;28mprint\u001b[39m(b, \u001b[38;5;124m'\u001b[39m\u001b[38;5;124m의 문자길이 : \u001b[39m\u001b[38;5;124m'\u001b[39m, \u001b[38;5;241;43m+\u001b[39;49m\u001b[43m \u001b[49m\u001b[38;5;28;43mstr\u001b[39;49m\u001b[43m(\u001b[49m\u001b[38;5;28;43mlen\u001b[39;49m\u001b[43m(\u001b[49m\u001b[43mb\u001b[49m\u001b[43m)\u001b[49m\u001b[43m)\u001b[49m)\n",
      "\u001b[1;31mTypeError\u001b[0m: bad operand type for unary +: 'str'"
     ]
    }
   ],
   "source": [
    "# 공백 지우기 : 중간에 있는 공백은 삭제 안된다 \n",
    "# strip() : Istrip(): left, rstrip() : right, strip() : left, right\n",
    "a = ' hi  '\n",
    "print('문자 길이 : ', len(a))\n",
    "b = a.rstrip()\n",
    "print(b, '의 문자길이 : ', + str(len(b)))\n",
    "(c = a.istrip)\n",
    "\n",
    "d = a.sttrip()\n",
    "print()\n"
   ]
  },
  {
   "cell_type": "code",
   "execution_count": 5,
   "metadata": {},
   "outputs": [
    {
     "name": "stdout",
     "output_type": "stream",
     "text": [
      "사과를 1개 먹었다\n",
      "사과를 five개 먹었다\n"
     ]
    }
   ],
   "source": [
    "# 문자열 object 생성 => self 생성 : 메소드 (format) 사용가능 \n",
    "num1 = 1\n",
    "num2 = 3\n",
    "a = '사과를 {0}개 먹었다'\n",
    "# a.format()\n",
    "print(a.format(num1))\n",
    "print(a.format('five'))"
   ]
  },
  {
   "cell_type": "code",
   "execution_count": 7,
   "metadata": {},
   "outputs": [
    {
     "name": "stdout",
     "output_type": "stream",
     "text": [
      "I ate 1 apples. so I was sick for three days\n"
     ]
    }
   ],
   "source": [
    "# 2개 이상의 값 넣기 \n",
    "number =1\n",
    "day = 'three'\n",
    "  \n",
    "\n",
    "str_ = 'I ate {0} apples. so I was sick for {1} days'\n",
    "print(str_.format(number, day))"
   ]
  },
  {
   "cell_type": "code",
   "execution_count": null,
   "metadata": {},
   "outputs": [
    {
     "name": "stdout",
     "output_type": "stream",
     "text": [
      "I ate 1 apples. so I was sick for 3 days\n"
     ]
    }
   ],
   "source": [
    "# format 메소드 이용한 변수명으로 넣기 \n",
    "# number =1\n",
    "# day = 'three'\n",
    "str_ = 'I ate {number} apples. so I was sick for {day} days'\n",
    "\n",
    "print(str_.format(number=1, day=3)) # 초기화 해서 호출해야 한다"
   ]
  },
  {
   "cell_type": "code",
   "execution_count": 12,
   "metadata": {},
   "outputs": [
    {
     "name": "stdout",
     "output_type": "stream",
     "text": [
      "I ate 1 apples. so I was sick for three days\n"
     ]
    }
   ],
   "source": [
    "# 변수명으로 넣기 \n",
    "number = 1\n",
    "day = 'three'\n",
    "\n",
    "print(f'I ate {number} apples. so I was sick for {day} days') # 초기화 해서 호출해야 한다\n"
   ]
  },
  {
   "cell_type": "code",
   "execution_count": null,
   "metadata": {},
   "outputs": [],
   "source": []
  }
 ],
 "metadata": {
  "kernelspec": {
   "display_name": "firstenv",
   "language": "python",
   "name": "python3"
  },
  "language_info": {
   "codemirror_mode": {
    "name": "ipython",
    "version": 3
   },
   "file_extension": ".py",
   "mimetype": "text/x-python",
   "name": "python",
   "nbconvert_exporter": "python",
   "pygments_lexer": "ipython3",
   "version": "3.10.16"
  }
 },
 "nbformat": 4,
 "nbformat_minor": 2
}
