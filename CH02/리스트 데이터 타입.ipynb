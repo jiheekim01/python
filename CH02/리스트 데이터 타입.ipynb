{
 "cells": [
  {
   "cell_type": "markdown",
   "metadata": {
    "vscode": {
     "languageId": "plaintext"
    }
   },
   "source": []
  },
  {
   "cell_type": "markdown",
   "metadata": {},
   "source": [
    "### 리스트 데이터 타입 \n",
    "\n",
    "1. 여러개 저장\n",
    "2. 하나로 묶는다\n",
    "\n",
    "인덱싱\n",
    "* 단일값 저장\n"
   ]
  },
  {
   "cell_type": "markdown",
   "metadata": {},
   "source": []
  },
  {
   "cell_type": "code",
   "execution_count": null,
   "metadata": {},
   "outputs": [
    {
     "name": "stdout",
     "output_type": "stream",
     "text": [
      "[1, 2, 3]\n"
     ]
    }
   ],
   "source": [
    "a = [1,2,3]\n",
    "# print (문자변경 출력) 안하고 a 출력 : 타입이 보인다다\n",
    "a\n",
    "print(a)"
   ]
  },
  {
   "cell_type": "code",
   "execution_count": null,
   "metadata": {},
   "outputs": [
    {
     "ename": "TypeError",
     "evalue": "'list' object is not callable",
     "output_type": "error",
     "traceback": [
      "\u001b[1;31m---------------------------------------------------------------------------\u001b[0m",
      "\u001b[1;31mTypeError\u001b[0m                                 Traceback (most recent call last)",
      "Cell \u001b[1;32mIn[8], line 5\u001b[0m\n\u001b[0;32m      1\u001b[0m \u001b[38;5;66;03m# [1,2,3] 리스트에서 1 인 값을 추출\u001b[39;00m\n\u001b[0;32m      3\u001b[0m a \u001b[38;5;241m=\u001b[39m [\u001b[38;5;241m1\u001b[39m,\u001b[38;5;241m2\u001b[39m,\u001b[38;5;241m3\u001b[39m]\n\u001b[1;32m----> 5\u001b[0m \u001b[38;5;28mprint\u001b[39m(\u001b[43ma\u001b[49m\u001b[43m(\u001b[49m\u001b[38;5;241;43m0\u001b[39;49m\u001b[43m)\u001b[49m)\n\u001b[0;32m      7\u001b[0m \u001b[38;5;28mprint\u001b[39m(a[\u001b[38;5;241m2\u001b[39m])\n\u001b[0;32m      8\u001b[0m \u001b[38;5;28mprint\u001b[39m(a[\u001b[38;5;241m-\u001b[39m\u001b[38;5;241m1\u001b[39m])\n",
      "\u001b[1;31mTypeError\u001b[0m: 'list' object is not callable"
     ]
    }
   ],
   "source": [
    "# [1,2,3] 리스트에서 1 인 값을 추출\n",
    "\n",
    "a = [1,2,3]\n",
    "\n",
    "print(a(0))\n",
    "\n",
    "print(a[2])\n",
    "print(a[-1])\n",
    "print(a)"
   ]
  },
  {
   "cell_type": "code",
   "execution_count": 13,
   "metadata": {},
   "outputs": [
    {
     "name": "stdout",
     "output_type": "stream",
     "text": [
      "['a', 'b', 'c']\n"
     ]
    }
   ],
   "source": [
    "a = [1,2,3, ['a','b','c']]\n",
    "a\n",
    "print(a[3])"
   ]
  },
  {
   "cell_type": "code",
   "execution_count": 17,
   "metadata": {},
   "outputs": [
    {
     "name": "stdout",
     "output_type": "stream",
     "text": [
      "[1, 2]\n",
      "[1, 2]\n"
     ]
    }
   ],
   "source": [
    "# 슬라이싱 : 여러 개 추출(리스트 반환), [start : end -1]\n",
    "a = [1,2,3,4,5]\n",
    "# 1,2\n",
    "print(a[0:2])\n",
    "print(a[:2])"
   ]
  },
  {
   "cell_type": "code",
   "execution_count": 18,
   "metadata": {},
   "outputs": [
    {
     "data": {
      "text/plain": [
       "[1, 2, 3, ['a', 'b', 'c'], 4, 5]"
      ]
     },
     "execution_count": 18,
     "metadata": {},
     "output_type": "execute_result"
    }
   ],
   "source": [
    "# 중첩된 리스트 (리스트에 리스트 있는 것) 슬라이싱 \n",
    "a = [1,2,3,['a','b','c'],4,5]\n",
    "a"
   ]
  },
  {
   "cell_type": "code",
   "execution_count": 20,
   "metadata": {},
   "outputs": [
    {
     "name": "stdout",
     "output_type": "stream",
     "text": [
      "['a', 'b']\n",
      "['a', 'b']\n"
     ]
    }
   ],
   "source": [
    "# ['a', 'b']\n",
    "print(a[3][0:2])\n",
    "print(a[3][:2])"
   ]
  },
  {
   "cell_type": "code",
   "execution_count": null,
   "metadata": {},
   "outputs": [
    {
     "name": "stdout",
     "output_type": "stream",
     "text": [
      "[1, 2, 3, 4, 5, 6]\n"
     ]
    }
   ],
   "source": [
    "# list 에서 사용하는 연산자 (+, *)\n",
    "# 1. 리스트 + 리스트 : 연산자 보다는 함수를 쓴다다\n",
    "a = [1,2,3]\n",
    "b = [4,5,6]\n",
    "print(a + b) # [1,2,3,4,5,6]"
   ]
  },
  {
   "cell_type": "code",
   "execution_count": 23,
   "metadata": {},
   "outputs": [
    {
     "name": "stdout",
     "output_type": "stream",
     "text": [
      "[1, 2, 3, 1, 2, 3, 1, 2, 3]\n"
     ]
    }
   ],
   "source": [
    "# * 연산자\n",
    "a = [1,2,3]\n",
    "print(a * 3)"
   ]
  },
  {
   "cell_type": "code",
   "execution_count": 30,
   "metadata": {},
   "outputs": [
    {
     "name": "stdout",
     "output_type": "stream",
     "text": [
      "3\n",
      "<class 'int'>\n",
      "3hi\n"
     ]
    }
   ],
   "source": [
    "# 리스트 연사낮 사용시 주의사항\n",
    "a = [1,2,3]\n",
    "print(a[2])\n",
    "print(type(a[2]))\n",
    "# print(a[2]+'hi') error\n",
    "print(str(a[2])+'hi')"
   ]
  },
  {
   "cell_type": "code",
   "execution_count": 41,
   "metadata": {},
   "outputs": [
    {
     "name": "stdout",
     "output_type": "stream",
     "text": [
      "[1, 2, 4]\n",
      "[1, 'a', 'b', 'c', 4]\n"
     ]
    }
   ],
   "source": [
    "# 리스트 수정 : 변경, 삭제\n",
    "# 1. 리스트에서 하나의 값을 변경 \n",
    "a = [1,2,3]\n",
    "# 3 => 4로 변경\n",
    "a[-1] = 4\n",
    "print(a)\n",
    "\n",
    "# 리스트에서 여러개 값 변경\n",
    "# 2 => ['a','b','c',]\n",
    "# 인덱싱\n",
    "# a[1] = ['a','b','c'] => [1, ['a','b','c'], 4]\n",
    "# 슬라이싱 : a[1:2]\n",
    "a[1:2] = ['a','b','c']\n",
    "\n",
    "print(a)\n"
   ]
  },
  {
   "cell_type": "code",
   "execution_count": 44,
   "metadata": {},
   "outputs": [],
   "source": [
    "# 리스트 데이터(요소) 삭제\n",
    "a[1:3] = []\n"
   ]
  },
  {
   "cell_type": "code",
   "execution_count": 45,
   "metadata": {},
   "outputs": [
    {
     "data": {
      "text/plain": [
       "[1, 'c', 4]"
      ]
     },
     "execution_count": 45,
     "metadata": {},
     "output_type": "execute_result"
    }
   ],
   "source": [
    "a"
   ]
  },
  {
   "cell_type": "code",
   "execution_count": 47,
   "metadata": {},
   "outputs": [
    {
     "name": "stdout",
     "output_type": "stream",
     "text": [
      "[1, 4]\n"
     ]
    }
   ],
   "source": [
    "# object 삭제 : 함수 => del : c 삭제 코드 \n",
    "del a[1]\n",
    "print(a)"
   ]
  },
  {
   "cell_type": "code",
   "execution_count": 48,
   "metadata": {},
   "outputs": [
    {
     "name": "stdout",
     "output_type": "stream",
     "text": [
      "[1, 2, 3]\n",
      "[1, 2, 3, 4]\n",
      "[1, 2, 3, 4, [5, 6]]\n"
     ]
    }
   ],
   "source": [
    "# append : 마지막에 추가\n",
    "a = [1,2,3]\n",
    "print(a)\n",
    "a.append(4)\n",
    "print(a)\n",
    "a.append([5,6])\n",
    "print(a)"
   ]
  },
  {
   "cell_type": "code",
   "execution_count": 50,
   "metadata": {},
   "outputs": [
    {
     "name": "stdout",
     "output_type": "stream",
     "text": [
      "None\n",
      "[1, 2, 3, 4]\n",
      "None\n",
      "['a', 'b', 'c']\n"
     ]
    }
   ],
   "source": [
    "# sort : 정렬 \n",
    "a = [1,4,3,2]\n",
    "print(a.sort()) # return 타입이 none\n",
    "print(a)\n",
    "a = ['a','c','b']\n",
    "print(a.sort())\n",
    "print(a)"
   ]
  },
  {
   "cell_type": "code",
   "execution_count": 51,
   "metadata": {},
   "outputs": [
    {
     "name": "stdout",
     "output_type": "stream",
     "text": [
      "None\n",
      "['b', 'c', 'a']\n"
     ]
    }
   ],
   "source": [
    "# revorse : 뒤집기  (정렬이 아니다)\n",
    "a = ['a','c','b']\n",
    "print(a.reverse())\n",
    "print(a)"
   ]
  },
  {
   "cell_type": "code",
   "execution_count": null,
   "metadata": {},
   "outputs": [
    {
     "name": "stdout",
     "output_type": "stream",
     "text": [
      "2\n"
     ]
    }
   ],
   "source": [
    "# index : 리스트안에 있는 특정 값을 찾아 인덱스를 반환\n",
    "a = [1,2,3]\n",
    "print(a.index(3)) # 3값의 인덱스 찾아라\n",
    "# print(a.index(6)) # 6 값은 없다 => 에러 (value error)\n",
    "\n"
   ]
  },
  {
   "cell_type": "code",
   "execution_count": 56,
   "metadata": {},
   "outputs": [
    {
     "name": "stdout",
     "output_type": "stream",
     "text": [
      "None\n",
      "[4, 1, 2, 3]\n",
      "None\n",
      "[4, 1, 2, 5, 3]\n"
     ]
    }
   ],
   "source": [
    "# insert : 특정 위치 (index) 에 삽입, append : 마지막에 삽입\n",
    "# insert(위치(인덱스), 삽입할 값)\n",
    "a = [1,2,3]\n",
    "print(a.insert(0,4))\n",
    "print(a)\n",
    "print(a.insert(3,5))\n",
    "print(a)"
   ]
  },
  {
   "cell_type": "code",
   "execution_count": 54,
   "metadata": {},
   "outputs": [
    {
     "name": "stdout",
     "output_type": "stream",
     "text": [
      "[4, 1, 2, 3]\n"
     ]
    }
   ],
   "source": [
    "print(a)"
   ]
  },
  {
   "cell_type": "code",
   "execution_count": 62,
   "metadata": {},
   "outputs": [
    {
     "name": "stdout",
     "output_type": "stream",
     "text": [
      "None\n",
      "[2, 3, 1, 2, 3]\n",
      "None\n",
      "[2, 3, 2, 3]\n"
     ]
    }
   ],
   "source": [
    "# remove : 값을 찾아서 제거, 왼쪽에서 부터 찾아서 제거\n",
    "a = [1,2,3,1,2,3] \n",
    "print(a.remove(1)) # 1 제거\n",
    "\n",
    "print(a)\n",
    "print(a.remove(1))\n",
    "print(a)\n",
    "# print(a.remove(1)) # error\n",
    "# print(a)\n"
   ]
  },
  {
   "cell_type": "code",
   "execution_count": null,
   "metadata": {},
   "outputs": [
    {
     "name": "stdout",
     "output_type": "stream",
     "text": [
      "3\n",
      "[1, 2]\n",
      "2\n",
      "[1]\n"
     ]
    }
   ],
   "source": [
    "# pop : 1. 마지막에서 꺼내고 삭제, \n",
    "#       2. 특정값을 지정해서 꺼내고 삭제\n",
    "# 1.\n",
    "a = [1,2,3]\n",
    "print(a.pop()) # 파라미터 없다\n",
    "print(a)\n",
    "# 2\n",
    "print(a.pop(1)) # 1(index) 꺼내고 삭제\n",
    "print(a)\n"
   ]
  },
  {
   "cell_type": "code",
   "execution_count": null,
   "metadata": {},
   "outputs": [
    {
     "name": "stdout",
     "output_type": "stream",
     "text": [
      "2\n"
     ]
    }
   ],
   "source": [
    "# count : 특정 값의 개수 세기 \n",
    "# count(특정 값) \n",
    "a = [1,2,3,1]\n",
    "print(a.count(1))  # 1 몇개게?"
   ]
  },
  {
   "cell_type": "code",
   "execution_count": 69,
   "metadata": {},
   "outputs": [
    {
     "name": "stdout",
     "output_type": "stream",
     "text": [
      "None\n",
      "[1, 2, 3, [4, 5]]\n",
      "None\n",
      "[1, 2, 3, 4, 5]\n",
      "[1, 2, 3, 4, 5]\n"
     ]
    }
   ],
   "source": [
    "# append \n",
    "a = [1,2,3]\n",
    "print(a.append([4,5]))\n",
    "print(a)\n",
    "a = [1,2,3]\n",
    "print(a.extend([4,5]))\n",
    "print(a)\n",
    "a = [1,2,3]\n",
    "print(a + [4,5])"
   ]
  },
  {
   "cell_type": "code",
   "execution_count": null,
   "metadata": {},
   "outputs": [],
   "source": []
  }
 ],
 "metadata": {
  "kernelspec": {
   "display_name": "firstenv",
   "language": "python",
   "name": "python3"
  },
  "language_info": {
   "codemirror_mode": {
    "name": "ipython",
    "version": 3
   },
   "file_extension": ".py",
   "mimetype": "text/x-python",
   "name": "python",
   "nbconvert_exporter": "python",
   "pygments_lexer": "ipython3",
   "version": "3.10.16"
  }
 },
 "nbformat": 4,
 "nbformat_minor": 2
}
