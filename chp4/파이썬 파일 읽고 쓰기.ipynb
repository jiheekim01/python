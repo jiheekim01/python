{
 "cells": [
  {
   "cell_type": "code",
   "execution_count": 1,
   "metadata": {},
   "outputs": [],
   "source": [
    "# 현재 디렉토리에 파일 생성\n",
    "# 1. open(파일명:new.txt, 모드:w) \n",
    "f = open('new.txt', 'w')\n",
    "\n",
    "# 2. close\n",
    "f.close()"
   ]
  },
  {
   "cell_type": "code",
   "execution_count": 4,
   "metadata": {},
   "outputs": [],
   "source": [
    "# 파일 쓰기 (write mode)\n",
    "# 1. open\n",
    "f = open(file='new.txt',mode='w') # keyword argument\n",
    "# f = open('new.txt',mode='w') # positional argument\n",
    "\n",
    "# 2. write => file write\n",
    "# data creation\n",
    "for num in range(1,6): # 5번 반복\n",
    "    data = f'{num}번째줄\\n'\n",
    "    f.write(data) # 파일에 쓰기 \n",
    "    \n",
    "# 3. close\n",
    "f.close()\n"
   ]
  },
  {
   "cell_type": "code",
   "execution_count": 15,
   "metadata": {},
   "outputs": [],
   "source": [
    "# text file read\n",
    "# 1. open\n",
    "# f = open('new.txt', 'r') : 파일이 없을경우\n",
    "#filenotfound에러 \n",
    "f = open('new.txt','r')\n",
    "\n",
    "# 2. read: \n",
    "while True:\n",
    "    line = f.readline()\n",
    "    if not line: # 없을 경우 false\n",
    "        break\n",
    "print(line, end='')\n",
    "\n",
    "# readline() : 한 줄씩 읽기\n",
    "# readlines() : 한줄씩 읽어서 리스트 저장 반환\n",
    "# read(): 통으로 읽기 = 반환 문자열로 반환된다\n",
    "\n",
    "# 3. close\n",
    "f.close()"
   ]
  },
  {
   "cell_type": "code",
   "execution_count": 20,
   "metadata": {},
   "outputs": [
    {
     "name": "stdout",
     "output_type": "stream",
     "text": [
      "['1번째줄\\n', '2번째줄\\n', '3번째줄\\n', '4번째줄\\n', '5번째줄\\n']\n",
      "1번째줄\n",
      "2번째줄\n",
      "3번째줄\n",
      "4번째줄\n",
      "5번째줄\n"
     ]
    }
   ],
   "source": [
    "# redaLines() -> 전체 읽기 , 한줄씩 문자로 만들어서 리스트로 반환\n",
    "\n",
    "\n",
    "# 1. open\n",
    "f = open('new.txt', 'r')\n",
    "\n",
    "# 2. readlines\n",
    "lines = f.readlines()\n",
    "print(lines)\n",
    "for line in lines:\n",
    "    print(line, end='')\n",
    "\n",
    "f.close()\n",
    "\n",
    "\n",
    "# 3. close\n"
   ]
  },
  {
   "cell_type": "code",
   "execution_count": null,
   "metadata": {},
   "outputs": [
    {
     "data": {
      "text/plain": [
       "['1번째줄', '2번째줄', '3번째줄', '4번째줄', '5번째줄', '']"
      ]
     },
     "execution_count": 22,
     "metadata": {},
     "output_type": "execute_result"
    }
   ],
   "source": [
    "# read()\n",
    "f = open('new.txt','r')\n",
    "data = f.read()\n",
    "f.close()\n",
    "data = data.split('\\n') # readline 하여 사용용\n",
    "data"
   ]
  },
  {
   "cell_type": "code",
   "execution_count": null,
   "metadata": {},
   "outputs": [
    {
     "name": "stdout",
     "output_type": "stream",
     "text": [
      "['1번째줄\\n', '2번째줄\\n', '3번째줄\\n', '4번째줄\\n', '5번째줄\\n']\n"
     ]
    }
   ],
   "source": [
    "with open('new.txt','r') as f: # 자동 close 처리 된다\n",
    "    data = f.readlines()\n",
    "    print(data)"
   ]
  },
  {
   "cell_type": "code",
   "execution_count": 3,
   "metadata": {},
   "outputs": [
    {
     "name": "stdout",
     "output_type": "stream",
     "text": [
      "1번째줄\n",
      "2번째줄\n",
      "3번째줄\n",
      "4번째줄\n",
      "5번째줄\n",
      "\n"
     ]
    }
   ],
   "source": [
    "# a mode : 파일 쓰기 추가\n",
    "with open('new.txt', 'r') as f:\n",
    "    data = f.read()\n",
    "    print(data)"
   ]
  },
  {
   "cell_type": "code",
   "execution_count": null,
   "metadata": {},
   "outputs": [
    {
     "name": "stdout",
     "output_type": "stream",
     "text": [
      "1번째줄\n",
      "2번째줄\n",
      "3번째줄\n",
      "4번째줄\n",
      "5번째줄\n",
      "\n"
     ]
    }
   ],
   "source": [
    "# 파일 추가 쓰기 : mode => a\n",
    "with open('new.txt', 'a') as f:\n",
    "    for num in range(11,16):\n",
    "        data = f'{num}번째 줄\\n'\n",
    "        f.write(data)\n",
    "        \n",
    "    # 파일을 읽어서 화면 출력\n",
    "    with open('new.txt', 'r') as f:\n",
    "        datas = f.read()\n",
    "        print(datas)"
   ]
  },
  {
   "cell_type": "code",
   "execution_count": null,
   "metadata": {},
   "outputs": [],
   "source": []
  }
 ],
 "metadata": {
  "kernelspec": {
   "display_name": "firstenv",
   "language": "python",
   "name": "python3"
  },
  "language_info": {
   "codemirror_mode": {
    "name": "ipython",
    "version": 3
   },
   "file_extension": ".py",
   "mimetype": "text/x-python",
   "name": "python",
   "nbconvert_exporter": "python",
   "pygments_lexer": "ipython3",
   "version": "3.10.16"
  }
 },
 "nbformat": 4,
 "nbformat_minor": 2
}
