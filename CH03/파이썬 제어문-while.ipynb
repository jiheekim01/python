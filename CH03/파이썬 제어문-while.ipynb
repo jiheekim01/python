{
 "cells": [
  {
   "cell_type": "code",
   "execution_count": 2,
   "metadata": {},
   "outputs": [
    {
     "name": "stdout",
     "output_type": "stream",
     "text": [
      "나무를 1 번 찍었습니다.\n",
      "나무를 2 번 찍었습니다.\n",
      "나무를 3 번 찍었습니다.\n",
      "나무를 4 번 찍었습니다.\n",
      "나무를 5 번 찍었습니다.\n",
      "나무를 6 번 찍었습니다.\n",
      "나무를 7 번 찍었습니다.\n",
      "나무를 8 번 찍었습니다.\n",
      "나무를 9 번 찍었습니다.\n",
      "나무를 10 번 찍었습니다.\n",
      "나무가 넘어간다\n"
     ]
    }
   ],
   "source": [
    "# 요건 \n",
    "# 열 번 찍어 안 넘어 가는 나무 없다\n",
    "\n",
    "treehit=0\n",
    "while treehit<10:\n",
    "    treehit = treehit + 1 # 1증가\n",
    "    print(f\"나무를 {treehit} 번 찍었습니다.\")\n",
    "    if treehit == 10:\n",
    "        print('나무가 넘어간다')"
   ]
  },
  {
   "cell_type": "code",
   "execution_count": 4,
   "metadata": {},
   "outputs": [
    {
     "name": "stdout",
     "output_type": "stream",
     "text": [
      "\n",
      "1. 추가\n",
      "2. 삭제\n",
      "3. 목록\n",
      "4. 종료\n",
      "\n",
      "숫자입력 : \n",
      "\n",
      "\n",
      "1. 추가\n",
      "2. 삭제\n",
      "3. 목록\n",
      "4. 종료\n",
      "\n",
      "숫자입력 : \n",
      "\n",
      "\n",
      "1. 추가\n",
      "2. 삭제\n",
      "3. 목록\n",
      "4. 종료\n",
      "\n",
      "숫자입력 : \n",
      "\n"
     ]
    }
   ],
   "source": [
    "# 연락처 프로그램 메뉴 출력하고 4번을 입력하면 종료\n",
    "prompt = '''\n",
    "1. 추가\n",
    "2. 삭제\n",
    "3. 목록\n",
    "4. 종료\n",
    "\n",
    "숫자입력 : \n",
    "'''\n",
    "number = 0\n",
    "while number != 4: # 4가 아닐때 반복\n",
    "    print(prompt) # 메뉴 출력\n",
    "    number =  int(input()) # 키보드 입력받는 함수 : 문자열 => '4'"
   ]
  },
  {
   "cell_type": "code",
   "execution_count": 5,
   "metadata": {},
   "outputs": [
    {
     "name": "stdout",
     "output_type": "stream",
     "text": [
      "10\n"
     ]
    }
   ],
   "source": [
    "num = input()\n",
    "print(num)"
   ]
  },
  {
   "cell_type": "code",
   "execution_count": 6,
   "metadata": {},
   "outputs": [
    {
     "name": "stdout",
     "output_type": "stream",
     "text": [
      "10\n"
     ]
    }
   ],
   "source": [
    "num = input('숫자를 입력하세요 : ')\n",
    "print(num)"
   ]
  },
  {
   "cell_type": "code",
   "execution_count": 7,
   "metadata": {},
   "outputs": [
    {
     "name": "stdout",
     "output_type": "stream",
     "text": [
      "커피를 줍니다.\n",
      "남은 커피 잔수는 9 입니다\n",
      "커피를 줍니다.\n",
      "남은 커피 잔수는 8 입니다\n",
      "커피를 줍니다.\n",
      "남은 커피 잔수는 7 입니다\n",
      "커피를 줍니다.\n",
      "남은 커피 잔수는 6 입니다\n",
      "커피를 줍니다.\n",
      "남은 커피 잔수는 5 입니다\n",
      "커피를 줍니다.\n",
      "남은 커피 잔수는 4 입니다\n",
      "커피를 줍니다.\n",
      "남은 커피 잔수는 3 입니다\n",
      "커피를 줍니다.\n",
      "남은 커피 잔수는 2 입니다\n",
      "커피를 줍니다.\n",
      "남은 커피 잔수는 1 입니다\n",
      "커피를 줍니다.\n",
      "남은 커피 잔수는 0 입니다\n",
      "판매 중지\n"
     ]
    }
   ],
   "source": [
    "# break : 반복 종료\n",
    "# 요건 \n",
    "# 자판기가 커피를 10잔만 가능\n",
    "coffee = 10 # 커피 10잔\n",
    "money = 300 # 커피 한잔의 가격\n",
    "\n",
    "while money: # 무한 반복 상태\n",
    "    print('커피를 줍니다.')\n",
    "    coffee = coffee - 1\n",
    "    print(f'남은 커피 잔수는 {coffee} 입니다')\n",
    "    if not coffee: # coffee가 0이면 아래 코드 실행행\n",
    "        print('판매 중지') # coffee 가 0잔이다\n",
    "        break\n",
    "    "
   ]
  },
  {
   "cell_type": "code",
   "execution_count": 8,
   "metadata": {},
   "outputs": [
    {
     "name": "stdout",
     "output_type": "stream",
     "text": [
      "커피를 준다\n",
      "커피를 준다\n",
      "거스름돈 200 준다\n",
      "돈이 모자르다\n",
      "돈이 모자르다\n",
      "커피를 준다\n",
      "커피를 준다\n",
      "거스름돈 700 준다\n",
      "커피를 준다\n",
      "커피를 준다\n",
      "커피를 준다\n",
      "커피를 준다\n",
      "커피를 준다\n",
      "커피를 준다\n",
      "판매 중지\n"
     ]
    }
   ],
   "source": [
    "# 요건\n",
    "# 금액 직접 키보드로 입력받아\n",
    "# 커피 한잔 300원인데 500원 입력 200원 거스름돈 처리\n",
    "# , 200원 입력했을 경우 커피 주면 안된다 \n",
    "# 10잔만 판매 자판기\n",
    "coffee = 10\n",
    "\n",
    "while True:\n",
    "    money = int(input('돈을 넣어 주세요')) # 문자열은 비교가 안되다\n",
    "\n",
    "    if money == 300:\n",
    "        print('커피를 준다')\n",
    "        coffee = coffee - 1\n",
    "    elif money > 300: # 잔금 처리\n",
    "        print('커피를 준다')\n",
    "        print(f'거스름돈 {money-300} 준다')\n",
    "        coffee = coffee - 1\n",
    "    else: # 모자른 상태, 커피 안준다다\n",
    "        print('돈이 모자르다')\n",
    "    \n",
    "    if not coffee:\n",
    "        print('판매 중지')\n",
    "        break\n",
    "    "
   ]
  },
  {
   "cell_type": "code",
   "execution_count": null,
   "metadata": {},
   "outputs": [],
   "source": []
  },
  {
   "cell_type": "code",
   "execution_count": null,
   "metadata": {},
   "outputs": [],
   "source": []
  },
  {
   "cell_type": "code",
   "execution_count": null,
   "metadata": {},
   "outputs": [],
   "source": []
  }
 ],
 "metadata": {
  "kernelspec": {
   "display_name": "Python 3",
   "language": "python",
   "name": "python3"
  },
  "language_info": {
   "codemirror_mode": {
    "name": "ipython",
    "version": 3
   },
   "file_extension": ".py",
   "mimetype": "text/x-python",
   "name": "python",
   "nbconvert_exporter": "python",
   "pygments_lexer": "ipython3",
   "version": "3.10.16"
  }
 },
 "nbformat": 4,
 "nbformat_minor": 2
}
