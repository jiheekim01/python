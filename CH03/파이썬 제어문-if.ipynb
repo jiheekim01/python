{
 "cells": [
  {
   "cell_type": "markdown",
   "metadata": {},
   "source": [
    "#### 조건문 (if)\n",
    "- 요건 시작\n",
    "\"돈이 있으면 택스를 타고, 없으면 걸어 간다\""
   ]
  },
  {
   "cell_type": "code",
   "execution_count": null,
   "metadata": {},
   "outputs": [
    {
     "name": "stdout",
     "output_type": "stream",
     "text": [
      "택시타라\n"
     ]
    }
   ],
   "source": [
    "money = 1\n",
    "\n",
    "if money: # True\n",
    "    print('택시타라')\n",
    "else:\n",
    "    print('걸어가라')\n"
   ]
  },
  {
   "cell_type": "code",
   "execution_count": 8,
   "metadata": {},
   "outputs": [
    {
     "name": "stdout",
     "output_type": "stream",
     "text": [
      "택시 타라\n"
     ]
    }
   ],
   "source": [
    "# 택시 탈 돈이 있는지 여부 확인\n",
    "# 4800원보다 많아야 택시 탄다\n",
    "money = 4900\n",
    "if money >= 4800:\n",
    "    print('택시 타라')\n",
    "else:\n",
    "    print('걸어 가라')"
   ]
  },
  {
   "cell_type": "code",
   "execution_count": null,
   "metadata": {},
   "outputs": [
    {
     "name": "stdout",
     "output_type": "stream",
     "text": [
      "걸어 가라\n"
     ]
    }
   ],
   "source": [
    "# 요건 \n",
    "# 현금이 4800 이상이거나 카드가 있으면 택시 타라\n",
    "# 아니면 걸어 가라 출력\n",
    "money = 3000 # 현금\n",
    "card = 1 # 카드 한장\n",
    "\n",
    "if money >= 4800 or card:\n",
    "    print('택시 타라')\n",
    "else:\n",
    "    print('걸어 가라')"
   ]
  },
  {
   "cell_type": "code",
   "execution_count": null,
   "metadata": {},
   "outputs": [
    {
     "name": "stdout",
     "output_type": "stream",
     "text": [
      "택시 타라\n"
     ]
    }
   ],
   "source": [
    "# 요건\n",
    "# 주머니 안에 현금(money)있으면 택시 타고 없으면 걸어 가라\n",
    "pocket = ['paper','phone','money'] # iterable\n",
    "\n",
    "# in 연산자, not in 연산자\n",
    "if 'money' in pocket:\n",
    "    print('택시 타라')\n",
    "else:\n",
    "    print('걸어 가라')"
   ]
  },
  {
   "cell_type": "code",
   "execution_count": null,
   "metadata": {},
   "outputs": [
    {
     "name": "stdout",
     "output_type": "stream",
     "text": [
      "택시 타라\n"
     ]
    }
   ],
   "source": [
    "# 요건\n",
    "# 주머니에 돈이 있으면 택시를 타고, 주머니에 돈이 없지만\n",
    "# 카드가 있으면 택시를 타고,\n",
    "# 돈도 없고 카드도 없으면 걸어 가라\n",
    "pocket = ['paper','phone'] # 주머니에는 돈이 없다\n",
    "card = 1                   # 카드 있다\n",
    "if 'money' in pocket:\n",
    "    print('택시 타라')\n",
    "elif card:\n",
    "    print('택시 타라')\n",
    "else:\n",
    "    print('걸어 가라')\n",
    "\n"
   ]
  },
  {
   "cell_type": "code",
   "execution_count": null,
   "metadata": {},
   "outputs": [],
   "source": []
  }
 ],
 "metadata": {
  "kernelspec": {
   "display_name": "Python 3",
   "language": "python",
   "name": "python3"
  },
  "language_info": {
   "codemirror_mode": {
    "name": "ipython",
    "version": 3
   },
   "file_extension": ".py",
   "mimetype": "text/x-python",
   "name": "python",
   "nbconvert_exporter": "python",
   "pygments_lexer": "ipython3",
   "version": "3.10.16"
  }
 },
 "nbformat": 4,
 "nbformat_minor": 2
}
