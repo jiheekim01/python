{
 "cells": [
  {
   "cell_type": "code",
   "execution_count": 2,
   "metadata": {},
   "outputs": [],
   "source": [
    "# 박씨네 집 클래스 : 성은 다 '박'\n",
    "class HousePark:\n",
    "    lastname = '박' # 클래스 변수 : 공유\n",
    "    # 이름은 상이 : 멤버 변수로 처리해야 한다.\n",
    "    def setName(self, name): # 풀네임을 저장하는 멤버 변수 선언\n",
    "        self.fullName = HousePark.lastname + name"
   ]
  },
  {
   "cell_type": "code",
   "execution_count": 3,
   "metadata": {},
   "outputs": [
    {
     "name": "stdout",
     "output_type": "stream",
     "text": [
      "박\n",
      "박\n"
     ]
    }
   ],
   "source": [
    "aaa = HousePark()\n",
    "bbb = HousePark()\n",
    "print(aaa.lastname) # self 로\n",
    "print(bbb.lastname)"
   ]
  },
  {
   "cell_type": "code",
   "execution_count": 8,
   "metadata": {},
   "outputs": [
    {
     "name": "stdout",
     "output_type": "stream",
     "text": [
      "박길동\n"
     ]
    }
   ],
   "source": [
    "aaa = HousePark()\n",
    "aaa.setName('길동')\n",
    "print(aaa.fullName) # self 로"
   ]
  },
  {
   "cell_type": "code",
   "execution_count": 9,
   "metadata": {},
   "outputs": [],
   "source": [
    "class HousePark:\n",
    "    lastname = '박'\n",
    "    \n",
    "    def setName(self, name): # 풀네임을 저장하는 멤버 변수 선언\n",
    "        self.fullName = HousePark.lastname + name\n",
    "    \n",
    "    def travel(self, where): # where 필요, 이름 필요\n",
    "        return f'{self.fullName}, {where} 여행을 가다'"
   ]
  },
  {
   "cell_type": "code",
   "execution_count": 10,
   "metadata": {},
   "outputs": [
    {
     "name": "stdout",
     "output_type": "stream",
     "text": [
      "박길동, 울릉도 여행을 가다\n",
      "박길동, 부산 여행을 가다\n",
      "박길동, 영국 여행을 가다\n"
     ]
    }
   ],
   "source": [
    "gildong = HousePark()\n",
    "gildong.setName('길동')\n",
    "print(gildong.travel('울릉도'))\n",
    "print(gildong.travel('부산'))\n",
    "print(gildong.travel('영국'))"
   ]
  },
  {
   "cell_type": "code",
   "execution_count": 16,
   "metadata": {},
   "outputs": [],
   "source": [
    "# 생성자 필요 \n",
    "class HousePark:\n",
    "    lastName = '박'\n",
    "    \n",
    "    # 생성시 이름을 넣어줘야 한다다\n",
    "    def __init__(self, name):\n",
    "        # self.fullName = HousePark.lastname + name\n",
    "        self.fullName = self.lastName + name\n",
    "        \n",
    "    def travel(self, where):\n",
    "        return f'{self.fullName}, {where} 여행을 가다'"
   ]
  },
  {
   "cell_type": "code",
   "execution_count": 17,
   "metadata": {},
   "outputs": [
    {
     "name": "stdout",
     "output_type": "stream",
     "text": [
      "박길동\n",
      "박길동, 하와이 여행을 가다\n"
     ]
    }
   ],
   "source": [
    "gildong = HousePark('길동')\n",
    "print(gildong.fullName)\n",
    "print(gildong.travel('하와이'))"
   ]
  },
  {
   "cell_type": "code",
   "execution_count": 18,
   "metadata": {},
   "outputs": [],
   "source": [
    "# 상속 , 김씨네 집\n",
    "class HouseKim(HousePark):\n",
    "    lastName = '김'"
   ]
  },
  {
   "cell_type": "code",
   "execution_count": 19,
   "metadata": {},
   "outputs": [
    {
     "name": "stdout",
     "output_type": "stream",
     "text": [
      "김aaa\n",
      "김aaa, 제주도 여행을 가다\n"
     ]
    }
   ],
   "source": [
    "aaa = HouseKim('aaa')\n",
    "print(aaa.fullName)\n",
    "print(aaa.travel('제주도'))"
   ]
  },
  {
   "cell_type": "code",
   "execution_count": 20,
   "metadata": {},
   "outputs": [],
   "source": [
    "# 오버라이딩 : 상속받은 베소드를 수정해서 사용하겠다\n",
    "class HouseKim(HousePark):\n",
    "    lastName = '김'\n",
    "  \n",
    "    def __init__(self, name):\n",
    "        super().__init__(name)\n",
    "    \n",
    "    def travel(self, where):\n",
    "        return f'{self.fullName}은 {where}로 여행합니다'\n"
   ]
  },
  {
   "cell_type": "code",
   "execution_count": 21,
   "metadata": {},
   "outputs": [
    {
     "data": {
      "text/plain": [
       "'김길동은 부산로 여행합니다'"
      ]
     },
     "execution_count": 21,
     "metadata": {},
     "output_type": "execute_result"
    }
   ],
   "source": [
    "gildong = HouseKim('길동')\n",
    "gildong.travel('부산')"
   ]
  },
  {
   "cell_type": "code",
   "execution_count": 1,
   "metadata": {},
   "outputs": [],
   "source": [
    "#  오버라이딩 상속 \n",
    "from abc import ABC, abstractmethod\n",
    "\n",
    "class Bird:\n",
    "    @abstractmethod\n",
    "    def fly(self):\n",
    "        pass\n",
    "    \n",
    "class Eagle:\n",
    "    @abstractmethod\n",
    "    def fly(self):\n",
    "        return '빠르게 난다'\n"
   ]
  },
  {
   "cell_type": "code",
   "execution_count": null,
   "metadata": {},
   "outputs": [],
   "source": []
  }
 ],
 "metadata": {
  "kernelspec": {
   "display_name": "firstenv",
   "language": "python",
   "name": "python3"
  },
  "language_info": {
   "codemirror_mode": {
    "name": "ipython",
    "version": 3
   },
   "file_extension": ".py",
   "mimetype": "text/x-python",
   "name": "python",
   "nbconvert_exporter": "python",
   "pygments_lexer": "ipython3",
   "version": "3.10.16"
  }
 },
 "nbformat": 4,
 "nbformat_minor": 2
}
