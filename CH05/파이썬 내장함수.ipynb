{
 "cells": [
  {
   "cell_type": "code",
   "execution_count": 3,
   "metadata": {},
   "outputs": [
    {
     "name": "stdout",
     "output_type": "stream",
     "text": [
      "홍길동 고길동 둘리 0 홍길동 1 고길동 2 둘리 "
     ]
    }
   ],
   "source": [
    "# enumerate function \n",
    "for name in ('홍길동', '고길동', '둘리'):\n",
    "    print(name, end=' ')\n",
    "    \n",
    "for idx, name in enumerate(['홍길동', '고길동', '둘리']):\n",
    "    print(idx, name, end=' ')"
   ]
  },
  {
   "cell_type": "code",
   "execution_count": 5,
   "metadata": {},
   "outputs": [],
   "source": [
    "# filter function \n",
    "# 요건 : 양수 추출 \n",
    "def positive(list_):\n",
    "    # 결과 저장 빈 리스트\n",
    "    result = []\n",
    "    for number in list_:\n",
    "        if number > 0:\n",
    "            result.append(number)\n",
    "            \n",
    "            return result"
   ]
  },
  {
   "cell_type": "code",
   "execution_count": 6,
   "metadata": {},
   "outputs": [
    {
     "data": {
      "text/plain": [
       "[1]"
      ]
     },
     "execution_count": 6,
     "metadata": {},
     "output_type": "execute_result"
    }
   ],
   "source": [
    "positive([1,-3,2,0,-5,6])"
   ]
  },
  {
   "cell_type": "code",
   "execution_count": null,
   "metadata": {},
   "outputs": [],
   "source": [
    "def positive(number): # 단일값 입력 \n",
    "    return number > 0 #비교연산자 사용 : boolean (True, False)\n",
    " "
   ]
  },
  {
   "cell_type": "code",
   "execution_count": 8,
   "metadata": {},
   "outputs": [
    {
     "ename": "TypeError",
     "evalue": "'function' object is not subscriptable",
     "output_type": "error",
     "traceback": [
      "\u001b[1;31m---------------------------------------------------------------------------\u001b[0m",
      "\u001b[1;31mTypeError\u001b[0m                                 Traceback (most recent call last)",
      "Cell \u001b[1;32mIn[8], line 5\u001b[0m\n\u001b[0;32m      1\u001b[0m \u001b[38;5;66;03m# filter(function, iterable) => iterable\u001b[39;00m\n\u001b[0;32m      2\u001b[0m \u001b[38;5;66;03m# function : 단일값 입력, boolean return \u001b[39;00m\n\u001b[0;32m      3\u001b[0m \u001b[38;5;66;03m# filter(positive, [1,])\u001b[39;00m\n\u001b[0;32m      4\u001b[0m \u001b[38;5;66;03m# list{filter(positive[1,-3,2,0,-5,6]))\u001b[39;00m\n\u001b[1;32m----> 5\u001b[0m \u001b[38;5;28mlist\u001b[39m(\u001b[38;5;28mfilter\u001b[39m(\u001b[43mpositive\u001b[49m\u001b[43m[\u001b[49m\u001b[38;5;241;43m1\u001b[39;49m\u001b[43m,\u001b[49m\u001b[38;5;241;43m-\u001b[39;49m\u001b[38;5;241;43m3\u001b[39;49m\u001b[43m,\u001b[49m\u001b[38;5;241;43m2\u001b[39;49m\u001b[43m,\u001b[49m\u001b[38;5;241;43m0\u001b[39;49m\u001b[43m,\u001b[49m\u001b[38;5;241;43m-\u001b[39;49m\u001b[38;5;241;43m5\u001b[39;49m\u001b[43m,\u001b[49m\u001b[38;5;241;43m6\u001b[39;49m\u001b[43m]\u001b[49m))\n",
      "\u001b[1;31mTypeError\u001b[0m: 'function' object is not subscriptable"
     ]
    }
   ],
   "source": [
    "# filter(function, iterable) => iterable\n",
    "# function : 단일값 입력, boolean return \n",
    "# filter(positive, [1,])\n",
    "# list{filter(positive[1,-3,2,0,-5,6]))\n",
    "list(filter(positive[1,-3,2,0,-5,6]))\n"
   ]
  },
  {
   "cell_type": "code",
   "execution_count": null,
   "metadata": {},
   "outputs": [
    {
     "data": {
      "text/plain": [
       "[1, 3]"
      ]
     },
     "execution_count": 11,
     "metadata": {},
     "output_type": "execute_result"
    }
   ],
   "source": [
    "# lamda : 익명의 함수 생성:object (이름이 없다) -> 한번쓰고 말 것, 일회성 일경우 (간단한 함수) \n",
    "# 문법 : lamda 아규먼트 : 식\n",
    "# def positive(number):\n",
    "    # return number : number>0\n",
    "# positive = lambda number>0\n",
    "list(filter(lambda number:number>0, [1,-2,3]))"
   ]
  },
  {
   "cell_type": "code",
   "execution_count": 12,
   "metadata": {},
   "outputs": [],
   "source": [
    "# lamda 사용해야 할 때,  def 사용 못할 때 \n",
    "def sum(a,b):\n",
    "    return a + b"
   ]
  },
  {
   "cell_type": "code",
   "execution_count": 14,
   "metadata": {},
   "outputs": [
    {
     "data": {
      "text/plain": [
       "[3, 7]"
      ]
     },
     "execution_count": 14,
     "metadata": {},
     "output_type": "execute_result"
    }
   ],
   "source": [
    "mylist = [sum(1,2), sum(3,4)]\n",
    "mylist"
   ]
  },
  {
   "cell_type": "code",
   "execution_count": null,
   "metadata": {},
   "outputs": [],
   "source": []
  },
  {
   "cell_type": "code",
   "execution_count": 3,
   "metadata": {},
   "outputs": [
    {
     "name": "stdout",
     "output_type": "stream",
     "text": [
      "3\n",
      "2\n"
     ]
    }
   ],
   "source": [
    "# mylist = [def sum(a,b), def mul(a,b)]\n",
    "# mylist[0](1,2)\n",
    "mylist = [lambda a,b:a+b, lambda a,b:a*b]\n",
    "print(mylist[0](1,2))\n",
    "print(mylist[1](1,2))"
   ]
  },
  {
   "cell_type": "code",
   "execution_count": null,
   "metadata": {},
   "outputs": [],
   "source": []
  },
  {
   "cell_type": "code",
   "execution_count": null,
   "metadata": {},
   "outputs": [],
   "source": []
  }
 ],
 "metadata": {
  "kernelspec": {
   "display_name": "firstenv",
   "language": "python",
   "name": "python3"
  },
  "language_info": {
   "codemirror_mode": {
    "name": "ipython",
    "version": 3
   },
   "file_extension": ".py",
   "mimetype": "text/x-python",
   "name": "python",
   "nbconvert_exporter": "python",
   "pygments_lexer": "ipython3",
   "version": "3.10.16"
  }
 },
 "nbformat": 4,
 "nbformat_minor": 2
}
