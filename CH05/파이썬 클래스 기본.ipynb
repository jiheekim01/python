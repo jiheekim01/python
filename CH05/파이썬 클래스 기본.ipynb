{
 "cells": [
  {
   "cell_type": "code",
   "execution_count": 7,
   "metadata": {},
   "outputs": [],
   "source": [
    "class programmer: # 아무것도 없다다\n",
    "    pass"
   ]
  },
  {
   "cell_type": "code",
   "execution_count": 8,
   "metadata": {},
   "outputs": [
    {
     "name": "stdout",
     "output_type": "stream",
     "text": [
      "2378035640208 2378035642320\n"
     ]
    }
   ],
   "source": [
    "# object 생성성\n",
    "kim = programmer()\n",
    "park = programmer()\n",
    "print(id(kim), id(park)) # id() : object주소 반환환"
   ]
  },
  {
   "cell_type": "code",
   "execution_count": 9,
   "metadata": {},
   "outputs": [
    {
     "name": "stdout",
     "output_type": "stream",
     "text": [
      "hong\n",
      "park\n"
     ]
    }
   ],
   "source": [
    "# 생성된 object 에 변수 추가 : 동적 할당\n",
    "kim.name = 'hong'\n",
    "park.name = 'park'\n",
    "print(kim.name)\n",
    "print(park.name)\n"
   ]
  },
  {
   "cell_type": "code",
   "execution_count": null,
   "metadata": {},
   "outputs": [],
   "source": [
    "# service class 생성\n",
    "# 정보 공유service를 하는 클래스 선언\n",
    "# 클래스 변수 : 오브젝트들이 공유하기 위한 목적\n",
    "\n",
    "class service: \n",
    "    secret = '영구는 외계인이다' # self가 없다=>클래스 변수\n",
    "    \n"
   ]
  },
  {
   "cell_type": "code",
   "execution_count": 13,
   "metadata": {},
   "outputs": [],
   "source": [
    "# 오브젝트 생성\n",
    "pey = service()\n",
    "kim = service()"
   ]
  },
  {
   "cell_type": "code",
   "execution_count": null,
   "metadata": {},
   "outputs": [
    {
     "name": "stdout",
     "output_type": "stream",
     "text": [
      "영구는 외계인이다\n",
      "영구는 외계인이다\n",
      "영구는 외계인이다\n"
     ]
    }
   ],
   "source": [
    "print(pey.secret) # 레퍼런스변수 접근(클래스 이름으로 접근) => get한것\n",
    "# pey.getsecret) : 자바에서서\n",
    "print(kim.secret) \n",
    "print(service.secret) # 일반적으로 접근"
   ]
  },
  {
   "cell_type": "code",
   "execution_count": null,
   "metadata": {},
   "outputs": [
    {
     "name": "stdout",
     "output_type": "stream",
     "text": [
      "영구는 도꺠비다\n",
      "영구는 도꺠비다\n",
      "영구는 도꺠비다\n"
     ]
    }
   ],
   "source": [
    "# secret 클래스의 변수 => get, set 된다 => attribute\n",
    "service.secret = '영구는 도꺠비다'\n",
    "print(pey.secret)\n",
    "print(kim.secret)\n",
    "print(service.secret) # set한것"
   ]
  },
  {
   "cell_type": "code",
   "execution_count": 27,
   "metadata": {},
   "outputs": [],
   "source": [
    "# 메소드 \n",
    "class service:\n",
    "    secret = '영구는 외계인이다.'\n",
    "    \n",
    "    # 클래스의 메소드 선언 : static method\n",
    "    def sum(a,b): # 두 정수를 받아서 더하기\n",
    "        result = a + b\n",
    "        return f'클래스 메소드의 결과 {a} + {b} = {result}입니다'\n",
    "        \n",
    "    # 오브젝트의 메소드드\n",
    "    def sum_(self, a,b) : # 두 정수를 받아서 더하기\n",
    "        result = a + b\n",
    "        return f'오브젝트 베소드릐 결과 {a} + {b} = {result} 입니다'\n",
    "        "
   ]
  },
  {
   "cell_type": "code",
   "execution_count": null,
   "metadata": {},
   "outputs": [
    {
     "name": "stdout",
     "output_type": "stream",
     "text": [
      "오브젝트 베소드릐 결과 1 + 1 = 2 입니다\n",
      "클래스 메소드의 결과 1 + 1 = 2입니다\n",
      "오브젝트 베소드릐 결과 1 + 1 = 2 입니다\n"
     ]
    }
   ],
   "source": [
    "pey = service()\n",
    "# def sum_(self, a,b) \n",
    "print(pey.sum_(1,1)) # object method\n",
    "\n",
    "# def sum(a,b):\n",
    "print(service.sum(1,1)) # class method # 에러다다\n",
    "print(pey.sum)\n",
    "# def sum_(self, a,b) \n",
    "print(service.sum_(pey,1,1))"
   ]
  },
  {
   "cell_type": "code",
   "execution_count": 31,
   "metadata": {},
   "outputs": [],
   "source": [
    "# name : 고객 이름 저장 멤버 변수(메소드 안에서) 선언 사용\n",
    "class service:\n",
    "    secret = '영구는 외계인이다'\n",
    "    \n",
    "    # 메소드에 self 를 주는 이유는 오브젝트에 접근\n",
    "    # name : 받아서 오브젝트에 대입\n",
    "    def setName(self, name):\n",
    "        self.name = name\n",
    "        \n",
    "# 이름님 1 + 1 = 2 입니다\n",
    "def sum(self,a,b): #self 필요해서\n",
    "    result = a + b\n",
    "    return f'{self.name}님 {a} + {b} = {result}'     "
   ]
  },
  {
   "cell_type": "code",
   "execution_count": null,
   "metadata": {},
   "outputs": [
    {
     "name": "stdout",
     "output_type": "stream",
     "text": [
      "고길동\n"
     ]
    }
   ],
   "source": [
    "pey = service()\n",
    "# setName 호출 : 호출 안하면 self.name 실행이 안된다\n",
    "pey.setName('홍길동') # self.name 생성성\n",
    "# sum() 호출\n",
    "# def sum(self,a,b):\n",
    "# name = public 하다 \n",
    "pey.name = '고길동' # set\n",
    "print(pey.name) # get\n",
    "# pey.sum(1,1)\n"
   ]
  },
  {
   "cell_type": "code",
   "execution_count": 38,
   "metadata": {},
   "outputs": [
    {
     "name": "stdout",
     "output_type": "stream",
     "text": [
      "김철수\n",
      "박응용\n"
     ]
    }
   ],
   "source": [
    "# 멤버 변수를 동적으로 생성\n",
    "kim = service()\n",
    "kim.name = '김철수' # set \n",
    "print(kim.name) # get => print \n",
    "park = service()\n",
    "park.name = '박응용' # set\n",
    "print(park.name) # get => print"
   ]
  },
  {
   "cell_type": "code",
   "execution_count": 1,
   "metadata": {},
   "outputs": [
    {
     "ename": "NameError",
     "evalue": "name 'service' is not defined",
     "output_type": "error",
     "traceback": [
      "\u001b[1;31m---------------------------------------------------------------------------\u001b[0m",
      "\u001b[1;31mNameError\u001b[0m                                 Traceback (most recent call last)",
      "Cell \u001b[1;32mIn[1], line 1\u001b[0m\n\u001b[1;32m----> 1\u001b[0m hong \u001b[38;5;241m=\u001b[39m \u001b[43mservice\u001b[49m()\n\u001b[0;32m      2\u001b[0m \u001b[38;5;66;03m# 에러-> sum 하기 전에 setName 을 반드시 실행해야 한다 \u001b[39;00m\n\u001b[0;32m      3\u001b[0m \u001b[38;5;66;03m# name 변수 를 생성해야 하기 때문\u001b[39;00m\n\u001b[0;32m      4\u001b[0m hong\u001b[38;5;241m.\u001b[39msum(\u001b[38;5;241m1\u001b[39m,\u001b[38;5;241m2\u001b[39m)\n",
      "\u001b[1;31mNameError\u001b[0m: name 'service' is not defined"
     ]
    }
   ],
   "source": [
    "hong = service()\n",
    "# 에러-> sum 하기 전에 setName 을 반드시 실행해야 한다 \n",
    "# name 변수 를 생성해야 하기 때문\n",
    "hong.sum(1,2)"
   ]
  },
  {
   "cell_type": "code",
   "execution_count": 5,
   "metadata": {},
   "outputs": [],
   "source": [
    "# 생성자 : __init__() : name 변수 생성, 초기화 \n",
    "class service:\n",
    "    secret = '영구는 외계인이다'\n",
    "    \n",
    "    def __init__(self, name): #메소드다 #new\n",
    "        self.name=name # name 변수 생성, 초기화\n",
    "        \n",
    "    def sum(self, a, b):\n",
    "        result = a + b\n",
    "        return f'{self.name}님 {a} + {b} = {result}입니다'"
   ]
  },
  {
   "cell_type": "code",
   "execution_count": 6,
   "metadata": {},
   "outputs": [
    {
     "name": "stdout",
     "output_type": "stream",
     "text": [
      "홍길동님 3 + 4 = 7입니다\n"
     ]
    }
   ],
   "source": [
    "hong = service('홍길동')\n",
    "print(hong.sum(3,4))\n"
   ]
  },
  {
   "cell_type": "code",
   "execution_count": 7,
   "metadata": {},
   "outputs": [
    {
     "name": "stdout",
     "output_type": "stream",
     "text": [
      "홍길동\n"
     ]
    }
   ],
   "source": [
    "print(hong.name)\n",
    "# error : sum 하시 전에 setName을 반드시 실행 해야함"
   ]
  },
  {
   "cell_type": "code",
   "execution_count": null,
   "metadata": {},
   "outputs": [],
   "source": []
  }
 ],
 "metadata": {
  "kernelspec": {
   "display_name": "firstenv",
   "language": "python",
   "name": "python3"
  },
  "language_info": {
   "codemirror_mode": {
    "name": "ipython",
    "version": 3
   },
   "file_extension": ".py",
   "mimetype": "text/x-python",
   "name": "python",
   "nbconvert_exporter": "python",
   "pygments_lexer": "ipython3",
   "version": "3.10.16"
  }
 },
 "nbformat": 4,
 "nbformat_minor": 2
}
