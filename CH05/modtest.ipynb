{
 "cells": [
  {
   "cell_type": "code",
   "execution_count": 1,
   "metadata": {},
   "outputs": [
    {
     "data": {
      "text/plain": [
       "['c:\\\\ProgramData\\\\anaconda3\\\\envs\\\\firstenv\\\\python310.zip',\n",
       " 'c:\\\\ProgramData\\\\anaconda3\\\\envs\\\\firstenv\\\\DLLs',\n",
       " 'c:\\\\ProgramData\\\\anaconda3\\\\envs\\\\firstenv\\\\lib',\n",
       " 'c:\\\\ProgramData\\\\anaconda3\\\\envs\\\\firstenv',\n",
       " '',\n",
       " 'c:\\\\ProgramData\\\\anaconda3\\\\envs\\\\firstenv\\\\lib\\\\site-packages',\n",
       " 'c:\\\\ProgramData\\\\anaconda3\\\\envs\\\\firstenv\\\\lib\\\\site-packages\\\\win32',\n",
       " 'c:\\\\ProgramData\\\\anaconda3\\\\envs\\\\firstenv\\\\lib\\\\site-packages\\\\win32\\\\lib',\n",
       " 'c:\\\\ProgramData\\\\anaconda3\\\\envs\\\\firstenv\\\\lib\\\\site-packages\\\\Pythonwin']"
      ]
     },
     "execution_count": 1,
     "metadata": {},
     "output_type": "execute_result"
    }
   ],
   "source": [
    "# 라이브러리 관리하는 환경변수 값들을 확인\n",
    "import sys\n",
    "\n",
    "sys.path"
   ]
  },
  {
   "cell_type": "code",
   "execution_count": 3,
   "metadata": {},
   "outputs": [],
   "source": [
    "sys.path.append('c:\\\\19big\\\\python_dev\\\\CH05')"
   ]
  }
 ],
 "metadata": {
  "kernelspec": {
   "display_name": "firstenv",
   "language": "python",
   "name": "python3"
  },
  "language_info": {
   "codemirror_mode": {
    "name": "ipython",
    "version": 3
   },
   "file_extension": ".py",
   "mimetype": "text/x-python",
   "name": "python",
   "nbconvert_exporter": "python",
   "pygments_lexer": "ipython3",
   "version": "3.10.16"
  }
 },
 "nbformat": 4,
 "nbformat_minor": 2
}
