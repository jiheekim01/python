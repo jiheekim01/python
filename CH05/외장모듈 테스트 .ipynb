{
 "cells": [
  {
   "cell_type": "code",
   "execution_count": null,
   "metadata": {},
   "outputs": [
    {
     "data": {
      "text/plain": [
       "['modtest.ipynb',\n",
       " 'random test.ipynb',\n",
       " 'Thread class test.py',\n",
       " 'thread_test.py']"
      ]
     },
     "execution_count": 37,
     "metadata": {},
     "output_type": "execute_result"
    }
   ],
   "source": [
    "import glob\n",
    "\n",
    "# glob.glob('*.py') => .py\n",
    "# glob.glob('mod*') => * 는 다 가져와 \n",
    "glob.glob('*test*')"
   ]
  },
  {
   "cell_type": "code",
   "execution_count": 5,
   "metadata": {},
   "outputs": [
    {
     "name": "stdout",
     "output_type": "stream",
     "text": [
      "2025-02-24 13:42:20.241284\n"
     ]
    }
   ],
   "source": [
    "# datatime module \n",
    "import datetime\n",
    "\n",
    "# 1. 현재 날짜와 시간 가져오기\n",
    "now = datetime.datetime.now()\n",
    "print(now)"
   ]
  },
  {
   "cell_type": "code",
   "execution_count": 7,
   "metadata": {},
   "outputs": [
    {
     "name": "stdout",
     "output_type": "stream",
     "text": [
      "2025-02-24\n"
     ]
    }
   ],
   "source": [
    "# 오늘 날짜 가져오기 \n",
    "today = datetime.date.today()\n",
    "print(today)"
   ]
  },
  {
   "cell_type": "code",
   "execution_count": 8,
   "metadata": {},
   "outputs": [
    {
     "name": "stdout",
     "output_type": "stream",
     "text": [
      "2025-02-24 13:44:00\n"
     ]
    }
   ],
   "source": [
    "# 3. 특정 날짜와 시간 object 생성\n",
    "s_dt = datetime.datetime(2025,2,24,13,44,00,00)\n",
    "print(s_dt)"
   ]
  },
  {
   "cell_type": "code",
   "execution_count": 14,
   "metadata": {},
   "outputs": [
    {
     "name": "stdout",
     "output_type": "stream",
     "text": [
      "2025-02-24\n",
      "13-44-00\n"
     ]
    }
   ],
   "source": [
    "# s_dt : 특정한 값 추출 \n",
    "print(s_dt.strftime('%Y-%m-%d'))\n",
    "print(s_dt.strftime('%H-%M-%S'))"
   ]
  },
  {
   "cell_type": "code",
   "execution_count": null,
   "metadata": {},
   "outputs": [
    {
     "name": "stdout",
     "output_type": "stream",
     "text": [
      "<class 'datetime.datetime'>\n"
     ]
    }
   ],
   "source": [
    "# 5. 날짜와 시간 문자별로 datetime object 생성\n",
    "dt_str = '2025-02-24 15:49:00'\n",
    "parsed_dt = \\\n",
    "datetime.datetime.strptime(dt_str, '%Y-%m-%d %H:%M:%S')\n",
    "print(type(parsed_dt))\n"
   ]
  },
  {
   "cell_type": "code",
   "execution_count": null,
   "metadata": {},
   "outputs": [
    {
     "name": "stdout",
     "output_type": "stream",
     "text": [
      "2025-03-01 13:42:20.241284\n",
      "2025-02-19 13:42:20.241284\n"
     ]
    }
   ],
   "source": [
    "# 6. 날짜 시간 연산 : timedelta\n",
    "# now : 현재 날짜와 시간 \n",
    "# now + 5일\n",
    "# 5일이라는 timedelta object 생성 \n",
    "delta = datetime.timedelta(days=5)\n",
    "print(now + delta)\n",
    "print(now - delta)\n",
    "future_dt = now + delta # 5일 후\n",
    "past_dt = now - delta  # 5일 전\n",
    "\n",
    "\n"
   ]
  },
  {
   "cell_type": "code",
   "execution_count": 23,
   "metadata": {},
   "outputs": [
    {
     "ename": "TypeError",
     "evalue": "'>' not supported between instances of 'datetime.datetime' and 'datetime.timedelta'",
     "output_type": "error",
     "traceback": [
      "\u001b[1;31m---------------------------------------------------------------------------\u001b[0m",
      "\u001b[1;31mTypeError\u001b[0m                                 Traceback (most recent call last)",
      "Cell \u001b[1;32mIn[23], line 2\u001b[0m\n\u001b[0;32m      1\u001b[0m \u001b[38;5;66;03m# 7. 비교 \u001b[39;00m\n\u001b[1;32m----> 2\u001b[0m \u001b[38;5;28;01mif\u001b[39;00m \u001b[43mfuture_dt\u001b[49m\u001b[43m \u001b[49m\u001b[38;5;241;43m>\u001b[39;49m\u001b[43m \u001b[49m\u001b[43mnow\u001b[49m :\n\u001b[0;32m      3\u001b[0m     \u001b[38;5;28mprint\u001b[39m(\u001b[38;5;124m'\u001b[39m\u001b[38;5;124m미래의 날짜와 시간이 현재보다 뒤에 있다\u001b[39m\u001b[38;5;124m'\u001b[39m)\n\u001b[0;32m      4\u001b[0m \u001b[38;5;28;01melse\u001b[39;00m:\n",
      "\u001b[1;31mTypeError\u001b[0m: '>' not supported between instances of 'datetime.datetime' and 'datetime.timedelta'"
     ]
    }
   ],
   "source": [
    "# 7. 비교 \n",
    "if future_dt > now :\n",
    "    print('미래의 날짜와 시간이 현재보다 뒤에 있다')\n",
    "else:\n",
    "    print('미래의 날짜와 사간이 현재보다 앞에 있다')"
   ]
  },
  {
   "cell_type": "code",
   "execution_count": 28,
   "metadata": {},
   "outputs": [
    {
     "name": "stdout",
     "output_type": "stream",
     "text": [
      "2024-02-24 13:30:00\n",
      "2024-02-24 13:30:00+09:00\n"
     ]
    }
   ],
   "source": [
    "#  utc 시간대 \n",
    "# 시간대 정보 없는 상태\n",
    "naive_dt =  datetime.datetime(2024,2,24,13,30,0)\n",
    "print(naive_dt)\n",
    "\n",
    "# 시간대 정보 갖는 object 생성 \n",
    "kst = datetime.timezone(datetime.timedelta(hours=9))\n",
    "\n",
    "aware_dt = naive_dt.replace(tzinfo=kst)\n",
    "print(aware_dt)\n"
   ]
  },
  {
   "cell_type": "code",
   "execution_count": 33,
   "metadata": {},
   "outputs": [
    {
     "name": "stdout",
     "output_type": "stream",
     "text": [
      "<class 'datetime.timedelta'>\n",
      "1828\n"
     ]
    }
   ],
   "source": [
    "# 닐짜와 시간을 다루는 object 생성 방법 \n",
    "# datetime.datetime() : 클래스 생성자\n",
    "# 날짜를 다루는 object 생성 \n",
    "# datetime.date() 연산 : 연월일\n",
    "\n",
    "date1 = datetime.date(2025,2,23)  \n",
    "date2 = datetime.date(2020,2,22)\n",
    "\n",
    "diff = date1 - date2  # return 값: timedelta \n",
    "print(type(diff))\n",
    "print(diff.days)\n"
   ]
  },
  {
   "cell_type": "code",
   "execution_count": 34,
   "metadata": {},
   "outputs": [
    {
     "name": "stdout",
     "output_type": "stream",
     "text": [
      "12 days, 0:00:00 5 days, 0:00:00\n",
      "5 days, 0:00:00\n"
     ]
    }
   ],
   "source": [
    "# 시간 관련 추가 연산 : 주 , 분기, 연 단위 연산 \n",
    "#  주단위 연산 \n",
    "one_week = datetime.timedelta(weeks=1)\n",
    "next_week = now + one_week\n",
    "print(next_week, now)\n",
    "\n",
    "print(now)\n"
   ]
  },
  {
   "cell_type": "code",
   "execution_count": 35,
   "metadata": {},
   "outputs": [
    {
     "ename": "AttributeError",
     "evalue": "'datetime.timedelta' object has no attribute 'year'",
     "output_type": "error",
     "traceback": [
      "\u001b[1;31m---------------------------------------------------------------------------\u001b[0m",
      "\u001b[1;31mAttributeError\u001b[0m                            Traceback (most recent call last)",
      "Cell \u001b[1;32mIn[35], line 1\u001b[0m\n\u001b[1;32m----> 1\u001b[0m \u001b[38;5;28mprint\u001b[39m(\u001b[43mnow\u001b[49m\u001b[38;5;241;43m.\u001b[39;49m\u001b[43myear\u001b[49m)\n\u001b[0;32m      2\u001b[0m \u001b[38;5;28mprint\u001b[39m(now\u001b[38;5;241m.\u001b[39mmonth)\n\u001b[0;32m      3\u001b[0m \u001b[38;5;28mprint\u001b[39m(now\u001b[38;5;241m.\u001b[39mday)\n",
      "\u001b[1;31mAttributeError\u001b[0m: 'datetime.timedelta' object has no attribute 'year'"
     ]
    }
   ],
   "source": [
    "print(now.year)\n",
    "print(now.month)\n",
    "print(now.day)\n",
    "print(now.hour)\n",
    "print(now.minute)\n",
    "print(now.second)\n"
   ]
  },
  {
   "cell_type": "code",
   "execution_count": null,
   "metadata": {},
   "outputs": [
    {
     "name": "stdout",
     "output_type": "stream",
     "text": [
      "0\n",
      "1\n",
      "2\n",
      "3\n",
      "4\n",
      "5\n",
      "6\n",
      "7\n",
      "8\n",
      "9\n"
     ]
    }
   ],
   "source": [
    "import time\n",
    "\n",
    "for i in range(10):\n",
    "    print(i)\n",
    "    time.sleep(1)\n"
   ]
  },
  {
   "cell_type": "code",
   "execution_count": null,
   "metadata": {},
   "outputs": [],
   "source": []
  }
 ],
 "metadata": {
  "kernelspec": {
   "display_name": "firstenv",
   "language": "python",
   "name": "python3"
  },
  "language_info": {
   "codemirror_mode": {
    "name": "ipython",
    "version": 3
   },
   "file_extension": ".py",
   "mimetype": "text/x-python",
   "name": "python",
   "nbconvert_exporter": "python",
   "pygments_lexer": "ipython3",
   "version": "3.10.16"
  }
 },
 "nbformat": 4,
 "nbformat_minor": 2
}
